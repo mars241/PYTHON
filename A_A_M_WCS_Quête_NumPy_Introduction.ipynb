{
  "nbformat": 4,
  "nbformat_minor": 0,
  "metadata": {
    "colab": {
      "provenance": [],
      "include_colab_link": true
    },
    "kernelspec": {
      "name": "python3",
      "display_name": "Python 3"
    }
  },
  "cells": [
    {
      "cell_type": "markdown",
      "metadata": {
        "id": "view-in-github",
        "colab_type": "text"
      },
      "source": [
        "<a href=\"https://colab.research.google.com/github/mars241/PYTHON/blob/main/A_A_M_WCS_Qu%C3%AAte_NumPy_Introduction.ipynb\" target=\"_parent\"><img src=\"https://colab.research.google.com/assets/colab-badge.svg\" alt=\"Open In Colab\"/></a>"
      ]
    },
    {
      "cell_type": "markdown",
      "metadata": {
        "id": "s6odsFbLpgIh"
      },
      "source": [
        "# NumPy : Introduction\n",
        "\n",
        "**NumPy allows you to manipulate data in the form of an array.**\n",
        "\n",
        "**Complete the missions below using NumPy.**"
      ]
    },
    {
      "cell_type": "code",
      "metadata": {
        "id": "sXzBVR4imVvO",
        "colab": {
          "base_uri": "https://localhost:8080/",
          "height": 36
        },
        "outputId": "a0eb16be-7754-45c9-f87e-41f7dee29fcc"
      },
      "source": [
        "\n",
        "import numpy as np # Here we rename numpy as np, it's shorter, and everybody does that\n",
        "                  #Ici, nous renommons numpy en np(alias), c'est plus court, et tout le monde le fait.\n",
        "\n",
        "# Mission 1 : Display the version of NumPy you are running\n",
        "# Mission 1 : Afficher la version de NumPy que vous utilisez\n",
        "np.version.version"
      ],
      "execution_count": null,
      "outputs": [
        {
          "output_type": "execute_result",
          "data": {
            "text/plain": [
              "'1.21.6'"
            ],
            "application/vnd.google.colaboratory.intrinsic+json": {
              "type": "string"
            }
          },
          "metadata": {},
          "execution_count": 2
        }
      ]
    },
    {
      "cell_type": "code",
      "metadata": {
        "id": "vQGzQgU-phGc",
        "colab": {
          "base_uri": "https://localhost:8080/"
        },
        "outputId": "0da83a60-b180-4373-c9e8-49158a4a4e76"
      },
      "source": [
        "# Mission 2 : Create a NumPy array with a length of 3, that contains this 3 floats: 0.8, 0.6, 0.4\n",
        "# Expected result: array([0.8, 0.6, 0.4])\n",
        "\n",
        "# Mission 2 : Créer un tableau NumPy(matrix) d'une longueur de 3, qui contient ces 3 flottants : 0.8, 0.6, 0.4\n",
        "# Résultat attendu : array([0.8, 0.6, 0.4])\n",
        "\n",
        "table_numpy = np.array([0.8, 0.6, 0.4])\n",
        "print(table_numpy)\n",
        "#\"data_table.shape\"Voir le nombre de lignes et de colonnes de la table numpy\n",
        "table_numpy.shape\n",
        "\n",
        "# Résultat attendu :Matrixe à 3 colonnes & 1 ligne"
      ],
      "execution_count": null,
      "outputs": [
        {
          "output_type": "stream",
          "name": "stdout",
          "text": [
            "[0.8 0.6 0.4]\n"
          ]
        },
        {
          "output_type": "execute_result",
          "data": {
            "text/plain": [
              "(3,)"
            ]
          },
          "metadata": {},
          "execution_count": 69
        }
      ]
    },
    {
      "cell_type": "code",
      "metadata": {
        "id": "66-o1bXYqPC_",
        "colab": {
          "base_uri": "https://localhost:8080/"
        },
        "outputId": "b09cc68f-37f0-4224-9bf0-1e5e0059a858"
      },
      "source": [
        "# Mission 3 : Create a function that uses the np.random.random() function to return an array with 10 random elements,\n",
        "# all of which must be greater than 0.25 and less than 1.0\n",
        "\n",
        "# Example of expected result: array([0.3897948 , 0.82850041, 0.5499838 , 0.81940137, 0.92175875, 0.89634373, 0.26821861, 0.72376496, 0.81098623, 0.28192741])\n",
        "\n",
        "\n",
        "# Mission 3 : Créer une fonction qui utilise la fonction np.random.random() pour retourner un tableau avec 10 éléments aléatoires,\n",
        "# qui doivent tous être supérieurs à 0.25 et inférieurs à 1.0\n",
        "\n",
        "# Exemple de résultat attendu : array([0.3897948 , 0.82850041, 0.5499838 , 0.81940137, 0.92175875, 0.89634373, 0.26821861, 0.72376496, 0.81098623, 0.28192741])\n",
        "\n",
        "\n",
        "# Methode0 : \"np.random.random\" (NB: Ne prends pas comme argument les Floats!)\n",
        "# \"np.random.random(t)\" : est un tuple t qui construit un tableau de format t\n",
        "#contenant des valeurs indépendamment et uniformément réparties sur [0, 1] :\n",
        "# Synthaxe:\"np.random.random(a,b)\"; a=nbr ligne & b=nbre colonne .\n",
        "tabl1_numpy=np.random.random((1,10))\n",
        "tabl1_numpy\n",
        "\n",
        "# Methode1: module/fct \"enumerate\"\n",
        "#nombres = list(range(2, 9))\n",
        "#for i, n in enumerate(nombres):\n",
        "#  output[i] = 1 / n\n",
        "#output\n",
        "\n",
        "# Methode2 de \"np.radom.uniform()\"\"\n",
        "#np.random.uniform (0.25, 1.0, 10)"
      ],
      "execution_count": null,
      "outputs": [
        {
          "output_type": "execute_result",
          "data": {
            "text/plain": [
              "array([[0.54293832, 0.74410039, 0.03725006, 0.85909988, 0.57707463,\n",
              "        0.89202179, 0.7006648 , 0.99440359, 0.99765225, 0.04970285]])"
            ]
          },
          "metadata": {},
          "execution_count": 49
        }
      ]
    },
    {
      "cell_type": "code",
      "metadata": {
        "id": "hx8Ck-neqRZe",
        "colab": {
          "base_uri": "https://localhost:8080/"
        },
        "outputId": "fba6b6bb-2ccc-4d5c-8704-3eedde6c9c51"
      },
      "source": [
        "# Mission 4 : What does the np.empty() method do? Don't just copy the documentation, explain in your own words here\n",
        "\n",
        "# Mission 4 : Que fait la méthode np.empty() ? Ne vous contentez pas de copier la documentation, expliquez avec vos propres mots ici.\n",
        "\n",
        "# Rmq: le \"numpy\" ne traite pas les Floats par nature! Passons par les listes:\n",
        "nombres = list(range(2,1))\n",
        "nombres\n",
        "# Pour cela utilisons les \"np.empty()\" : qui est utilisé pour la création de routine\n",
        "#numpy.empty(shape, dtype=float, order='C', *, like=None)\n",
        "\n",
        "#Retourne un nouveau tableau de forme et de type donnés, sans initialiser les entrées.\n",
        "#shape Forme du tableau vide, par exemple, (2, 3) ou 2.\tRequis\n",
        "#dtype Type de données de sortie souhaité pour le tableau, par exemple, numpy.int8.\n",
        "#La valeur par défaut est numpy.float64. optional\n",
        "output = np.empty(len(nombres))\n",
        "output\n",
        "\n"
      ],
      "execution_count": null,
      "outputs": [
        {
          "output_type": "execute_result",
          "data": {
            "text/plain": [
              "array([], dtype=float64)"
            ]
          },
          "metadata": {},
          "execution_count": 4
        }
      ]
    },
    {
      "cell_type": "code",
      "metadata": {
        "id": "q_BJsGjwqTQp",
        "colab": {
          "base_uri": "https://localhost:8080/"
        },
        "outputId": "25fdf902-b10f-40ac-82e6-dcb8c38c8a30"
      },
      "source": [
        "# Mission 5 : Create an array filled with only zeros. You can choose the length of this array.\n",
        "\n",
        "# Mission 5 : Créer un tableau rempli uniquement de zéros. Vous pouvez choisir la longueur de ce tableau.\n",
        "\n",
        "# Methode1:\"np.zeros\"\n",
        "#Retourne un nouveau tableau dont les valeurs sont égales à zéro.\n",
        "matrice=np.zeros((5,), dtype=int)\n",
        "matrice\n",
        "\n",
        "#nbre de colonne d'une matrice \"matrice.ndim\"\n",
        "#matrice.ndim\n",
        "\n",
        "#nbre de ligne d'une matrice \"matrice.size\"\n",
        "#matrice.size"
      ],
      "execution_count": null,
      "outputs": [
        {
          "output_type": "execute_result",
          "data": {
            "text/plain": [
              "array([0, 0, 0, 0, 0])"
            ]
          },
          "metadata": {},
          "execution_count": 7
        }
      ]
    },
    {
      "cell_type": "code",
      "metadata": {
        "id": "KhQZPyHhqUql",
        "colab": {
          "base_uri": "https://localhost:8080/"
        },
        "outputId": "21312d8f-9e6e-405a-d5bc-cd4b6006f0a3"
      },
      "source": [
        "# Mission 6 : Create an array filled with 10 random integers.\n",
        "# Mission 6 : Créer un tableau rempli de 10 entiers aléatoires.\n",
        "notes = np.random.randint(20, size=(3, 10)) # génère une matrice d'entiers entre 0 et (20-1), 3 lignes & 10 colonnes\n",
        "notes"
      ],
      "execution_count": null,
      "outputs": [
        {
          "output_type": "execute_result",
          "data": {
            "text/plain": [
              "array([[ 4, 15, 17,  8,  6, 13,  2, 17,  4, 17],\n",
              "       [17, 11, 13, 19,  8, 18,  6, 19,  9, 14],\n",
              "       [12, 19, 17, 13, 16, 11, 13,  9, 17,  4]])"
            ]
          },
          "metadata": {},
          "execution_count": 12
        }
      ]
    },
    {
      "cell_type": "code",
      "metadata": {
        "id": "v3vqX26BqWTo",
        "colab": {
          "base_uri": "https://localhost:8080/"
        },
        "outputId": "b7ad8d2a-8026-4bf0-bf3e-e0a5d4328dbc"
      },
      "source": [
        "# Mission 7 : Create an array that contains 50 values randomly selected only from these numbers: 0, 1, 2, 3, 4, 5, 6, 7.\n",
        "# Mission 7 : Créez un tableau qui contient 50 valeurs choisies au hasard uniquement parmi ces nombres : 0, 1, 2, 3, 4, 5, 6, 7.\n",
        "\n",
        "nombres_tab = np.random.randint(8, size=(1, 50))\n",
        "nombres_tab\n"
      ],
      "execution_count": null,
      "outputs": [
        {
          "output_type": "execute_result",
          "data": {
            "text/plain": [
              "array([[1, 3, 5, 0, 7, 6, 1, 5, 7, 1, 3, 1, 0, 1, 2, 5, 2, 5, 7, 0, 5, 2,\n",
              "        4, 4, 0, 5, 6, 5, 3, 5, 7, 6, 6, 6, 7, 1, 6, 1, 5, 3, 6, 5, 5, 0,\n",
              "        5, 3, 2, 3, 1, 1]])"
            ]
          },
          "metadata": {},
          "execution_count": 24
        }
      ]
    },
    {
      "cell_type": "code",
      "metadata": {
        "id": "Hii5gz9BqZf9",
        "colab": {
          "base_uri": "https://localhost:8080/"
        },
        "outputId": "0b73369f-134f-4d41-b1ad-2d62e3146a5d"
      },
      "source": [
        "# Mission 8 : Use the slicing operator to return the items between position 3 and 6 inclusive, from the array in mission 6\n",
        "# Mission 8 : Utiliser l'opérateur de découpage pour retourner les éléments entre les positions 3 et 6 inclus, du tableau de la mission 6.\n",
        "notes1 = np.array([[ 4, 15, 17,  8,  6, 13,  2, 17,  4, 17],\n",
        "       [17, 11, 13, 19,  8, 18,  6, 19,  9, 14],\n",
        "       [12, 19, 17, 13, 16, 11, 13,  9, 17,  4]])\n",
        "print(notes1)\n",
        "#\n",
        "print(\"Parmi toutes les rangées, les éléments de la 3ème; 4eme; 5eme & 6ème colonne sont succintement:\", notes1[:,2], notes1[:,3], notes1[:,4], notes1[:,2])\n",
        "\n",
        "# la matrice découpée de la 3eme à la 6eme\n",
        "print(\"la matrice de ci_dessus découpée de la 3eme à la 6eme est:\" , notes1[:, [2, 7],  ])\n",
        "\n",
        "#print(notes1[:, -2:]) # Synthaxe pour les deux dernières colonnes\n",
        "# Autrement,exiber chaque élement avec \"array.item(Numéro_index)\"\"\n",
        "#notes1.item (2)\n"
      ],
      "execution_count": null,
      "outputs": [
        {
          "output_type": "stream",
          "name": "stdout",
          "text": [
            "[[ 4 15 17  8  6 13  2 17  4 17]\n",
            " [17 11 13 19  8 18  6 19  9 14]\n",
            " [12 19 17 13 16 11 13  9 17  4]]\n",
            "Parmi toutes les rangées, les éléments de la 3ème; 4eme; 5eme & 6ème colonne sont succintement: [17 13 17] [ 8 19 13] [ 6  8 16] [17 13 17]\n",
            "la matrice de 'notes1' découpée de la 3eme à la 6eme est: [[17 17]\n",
            " [13 19]\n",
            " [17  9]]\n"
          ]
        }
      ]
    },
    {
      "cell_type": "code",
      "metadata": {
        "id": "lv-cIYMMqc0s",
        "colab": {
          "base_uri": "https://localhost:8080/"
        },
        "outputId": "5bae6a01-2af7-49c9-f6cb-69308d348ea6"
      },
      "source": [
        "from numpy.core.fromnumeric import argmin\n",
        "# Mission 9 : Use the `argmin()` method to return the index of the smallest element in the array from mission 6\n",
        "# Mission 9 : Utilisez la méthode `argmin()` pour retourner l'index du plus petit élément du tableau de la mission 6.\n",
        "notes1 = np.array([[ 4, 15, 17,  8,  6, 13,  2, 17,  4, 17],\n",
        "       [17, 11, 13, 19,  8, 18,  6, 19,  9, 14],\n",
        "       [12, 19, 17, 13, 16, 11, 13,  9, 17,  4]])\n",
        "print(notes1)\n",
        "print(\"le minimun de la matrice ci-dessus est:\", argmin(notes1))\n"
      ],
      "execution_count": null,
      "outputs": [
        {
          "output_type": "stream",
          "name": "stdout",
          "text": [
            "[[ 4 15 17  8  6 13  2 17  4 17]\n",
            " [17 11 13 19  8 18  6 19  9 14]\n",
            " [12 19 17 13 16 11 13  9 17  4]]\n",
            "le minimun de la matrice ci-dessus est: 6\n"
          ]
        }
      ]
    },
    {
      "cell_type": "code",
      "metadata": {
        "id": "OnXTuji0t46s",
        "colab": {
          "base_uri": "https://localhost:8080/"
        },
        "outputId": "1a354396-6669-42f5-b1ce-47dc2e65d24f"
      },
      "source": [
        "# Mission 10 : Using the `where()` method, return the indices of all the values in the array from mission 6 that are greater than their median value.\n",
        "# Mission 10 : En utilisant la méthode `where()`, retournez les indices de toutes les valeurs du tableau de la mission 6 qui sont plus grandes que leur valeur médiane.\n",
        "\n",
        "notes1 = np.array([[ 4, 15, 17,  8,  6, 13,  2, 17,  4, 17],\n",
        "       [17, 11, 13, 19,  8, 18,  6, 19,  9, 14],\n",
        "       [12, 19, 17, 13, 16, 11, 13,  9, 17,  4]])\n",
        "print(notes1)\n",
        "arr1 = np.median(notes1) # Médiane générale\n",
        "print(\"la Médiane de la matrice ci-dessus est:\",arr1)\n",
        "# Obtenir les indices des éléments d'un tableau selon la condiction where\n",
        "arr=np.where(notes1 > arr1)\n",
        "print(\"les indices des éléments plus grandes que Médiane sont:\",arr)"
      ],
      "execution_count": null,
      "outputs": [
        {
          "output_type": "stream",
          "name": "stdout",
          "text": [
            "[[ 4 15 17  8  6 13  2 17  4 17]\n",
            " [17 11 13 19  8 18  6 19  9 14]\n",
            " [12 19 17 13 16 11 13  9 17  4]]\n",
            "la Médiane de la matrice ci-dessus est: 13.0\n",
            "les indices des éléments plus grandes que Médiane sont: (array([0, 0, 0, 0, 1, 1, 1, 1, 1, 2, 2, 2, 2]), array([1, 2, 7, 9, 0, 3, 5, 7, 9, 1, 2, 4, 8]))\n"
          ]
        }
      ]
    },
    {
      "cell_type": "code",
      "metadata": {
        "id": "Ljy8t0yvqha5",
        "colab": {
          "base_uri": "https://localhost:8080/"
        },
        "outputId": "35a82c42-7833-484f-bdc6-7622f1c9c506"
      },
      "source": [
        "# Mission 11: Create 3 arrays filled with 5 random integers each, and place them in another array.\n",
        "# You have now an array with (3, 5) shape. You can use the `shape` attribute to check it.\n",
        "# Display the elements, with each column appearing on a different line (so there will be 5 lines with 3 values each)\n",
        "\n",
        "# Mission 11 : Créez 3 tableaux remplis de 5 entiers aléatoires chacun, et placez-les dans un autre tableau.\n",
        "# Vous avez maintenant un tableau avec la forme (3, 5). Vous pouvez utiliser l'attribut `shape` pour le vérifier.\n",
        "# Affichez les éléments, chaque colonne apparaissant sur une ligne différente (il y aura donc 5 lignes avec 3 valeurs chacune).\n",
        "\n",
        "tb1= np.random.randint(10, size=(1, 5)) # tableaux d'entiers aléatoires entre 0 et 10 de dimension (1,5): 1 ligne & 5 colonnes/valeurs\n",
        "tb2= np.random.randint(10, size=(1, 5))\n",
        "tb3= np.random.randint(10, size=(1, 5))\n",
        "print(tb1, tb2, tb3)\n",
        "#  A travailler encore la synthaxe du \"np.ndarray\" !\n",
        "#data = np.ndarray((tb1),(tb2),(tb3))\n",
        "#print(type(data))\n",
        "#print(data.shape)\n",
        "\n",
        "#Autrement définir 3 tableaux suite d'entiers croissant de dim(1,5)\n",
        "A,B,C = (np.full((1,5),k) for k in range(3))\n",
        "D = np.block([[A],[B],[C]])\n",
        "print(\"un autre tableau de tableaux est:\", D)\n",
        "print(type(D))\n",
        "print(D.shape)"
      ],
      "execution_count": null,
      "outputs": [
        {
          "output_type": "stream",
          "name": "stdout",
          "text": [
            "[[6 5 7 4 6]] [[5 7 5 4 0]] [[3 7 2 7 0]]\n",
            "un autre tableau de tableaux est: [[0 0 0 0 0]\n",
            " [1 1 1 1 1]\n",
            " [2 2 2 2 2]]\n",
            "<class 'numpy.ndarray'>\n",
            "(3, 5)\n"
          ]
        }
      ]
    },
    {
      "cell_type": "code",
      "metadata": {
        "id": "I-Ecqv-Gqigx",
        "colab": {
          "base_uri": "https://localhost:8080/"
        },
        "outputId": "d1e9b465-53d5-4bea-bbb8-ea5f9c50275a"
      },
      "source": [
        "# Mission 12: Create an array and fill it with 20 random float values.\n",
        "# Create a function that returns the smallest and largest value it contains, with their indexes!\n",
        "# You are allowed to use `min()` and `max()` methods.\n",
        "# Example with a shorter array: [300, 500, 1000, 700, 100, 600] -> (4, 100), (2, 1000)\n",
        "# Example with a shorter array: [80, 50, 90, -20, 100, 10] -> (3, -20), (4, 100)\n",
        "\n",
        "# Mission 12 : Créez un tableau et remplissez-le avec 20 valeurs flottantes aléatoires.\n",
        "# Créez une fonction qui retourne la plus petite et la plus grande valeur qu'il contient, avec leurs index !\n",
        "# Vous pouvez utiliser les méthodes `min()` et `max()`.\n",
        "# Exemple avec un tableau plus court : [300, 500, 1000, 700, 100, 600] -> (4, 100), (2, 1000)\n",
        "# Exemple avec un tableau plus court : [80, 50, 90, -20, 100, 10] -> (3, -20), (4, 100)\n",
        "\n",
        "tb=np.random.randint(1000, size=(1, 20))\n",
        "mini=np.min(tb) # le minimum\n",
        "maxi=np.max(tb) # le Maximum\n",
        "ind_mi=np.where(tb == mini) #index du minimum\n",
        "ind_ma=np.where(tb == maxi) #index du Maximum\n",
        "print(mini, maxi, ind_mi, ind_ma )\n",
        "\n",
        "# A creuser plus : utilisation d'une fonction!\n",
        "#def min_max(mini,maxi):\n",
        "#  mini=np.min(tb)\n",
        "#  maxi=np.max(tb)\n",
        "#  ind_2m=np.where((tb> mini) and (tb< maxi))\n",
        "#  return(tb, mini, maxi,ind_2m)\n",
        "\n",
        "tb\n"
      ],
      "execution_count": null,
      "outputs": [
        {
          "output_type": "stream",
          "name": "stdout",
          "text": [
            "145 880 (array([0]), array([11])) (array([0]), array([6]))\n"
          ]
        },
        {
          "output_type": "execute_result",
          "data": {
            "text/plain": [
              "array([[575, 365, 643, 389, 343, 839, 880, 329, 825, 723, 314, 145, 567,\n",
              "        751, 175, 403, 345, 630, 833, 703]])"
            ]
          },
          "metadata": {},
          "execution_count": 16
        }
      ]
    },
    {
      "cell_type": "code",
      "metadata": {
        "id": "6Q31D-P0qk14",
        "colab": {
          "base_uri": "https://localhost:8080/"
        },
        "outputId": "f6ad18b2-47db-4c1b-990e-bb2b11257cf4"
      },
      "source": [
        "# Mission 13: Create 2 arrays, randomly fill them with 20 int values between 0 and 10.\n",
        "# Return all indices where the values of the 2 arrays happen to be equal.\n",
        "# If no values are equal at the same indices across the 2 arrays, it will return an empty structure.\n",
        "# Example with shorter arrays: np.array([1, 3, 5, 7]) & np.array([2, 3, 5, 8]) -> np.array([1, 2])\n",
        "# Example with shorter arrays: np.array([1, 1, 1, 1]) & np.array([1, 2, 3, 4]) -> np.array([0])\n",
        "\n",
        "# Mission 13 : Créer 2 tableaux, les remplir aléatoirement avec 20 valeurs int entre 0 et 10.\n",
        "# Retourne tous les indices où les valeurs des 2 tableaux sont égales.\n",
        "# Si aucune valeur n'est égale aux mêmes indices dans les 2 tableaux, il retournera une structure vide.\n",
        "# Exemple avec des tableaux courts : np.array([1, 3, 5, 7]) & np.array([2, 3, 5, 8]) -> np.array([1, 2])\n",
        "# Exemple avec des tableaux plus courts : np.array([1, 1, 1, 1]) & np.array([1, 2, 3, 4]) -> np.array([0])\n",
        "\n",
        "tbx1=np.random.randint(10, size=(1, 20))\n",
        "tbx2=np.random.randint(10, size=(1, 20))\n",
        "print(tbx1, tbx2)\n",
        "print((tbx1 == tbx2).any()) #Renvoie True si un des couples de valeurs est égal, sinon False\n",
        "\n",
        "print(np.where(tbx1 == tbx2)) #\"np.where(condiction)\" :Renvoie les indices qui vérifient la condiction"
      ],
      "execution_count": null,
      "outputs": [
        {
          "output_type": "stream",
          "name": "stdout",
          "text": [
            "[[5 4 6 3 4 2 9 6 1 1 2 1 4 8 2 6 7 5 7 2]] [[5 2 2 4 7 0 3 2 7 4 6 9 1 1 0 7 4 0 4 4]]\n",
            "True\n",
            "(array([0]), array([0]))\n"
          ]
        }
      ]
    },
    {
      "cell_type": "code",
      "metadata": {
        "id": "ZXuj-bFN_lcZ"
      },
      "source": [
        "# Mission 14: now, just compare both arrays of mission 13 with this command (change the name of arrays): array1 == array2\n",
        "\n",
        "#Mission 14 : maintenant, il suffit de comparer les deux tableaux de la mission 13 avec cette commande (changer le nom des tableaux) : tableau1 == tableau2\n",
        "\n",
        "\n",
        "tbx1=np.random.randint(10, size=(1, 20))\n",
        "tbx2=np.random.randint(10, size=(1, 20))\n",
        "np.where(tbx1 == tbx1)\n",
        "#tbx2.rename(np.where(tbx1 == tbx1)) # A revoir la synthaxe de replace()!\n",
        "print(tbx2)"
      ],
      "execution_count": null,
      "outputs": []
    }
  ]
}