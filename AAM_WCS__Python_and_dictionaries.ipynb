{
  "nbformat": 4,
  "nbformat_minor": 0,
  "metadata": {
    "colab": {
      "provenance": [],
      "include_colab_link": true
    },
    "kernelspec": {
      "name": "python3",
      "display_name": "Python 3"
    }
  },
  "cells": [
    {
      "cell_type": "markdown",
      "metadata": {
        "id": "view-in-github",
        "colab_type": "text"
      },
      "source": [
        "<a href=\"https://colab.research.google.com/github/mars241/PYTHON/blob/main/AAM_WCS__Python_and_dictionaries.ipynb\" target=\"_parent\"><img src=\"https://colab.research.google.com/assets/colab-badge.svg\" alt=\"Open In Colab\"/></a>"
      ]
    },
    {
      "cell_type": "markdown",
      "metadata": {
        "id": "LoJw-LlCTnWF"
      },
      "source": [
        "# Mission 1\n",
        "\n",
        "Below is a dictionary containing the number of French campuses that offer each kind of Wild Code School course.\n",
        "\n",
        "wildcodeschool = {\n",
        "   \"data_analyst\": 4,\n",
        "   \"data_scientist\": 2,\n",
        "   \"dev_web\": \"13\" \n",
        "}\n",
        "\n",
        "Find a way to only display the keys that have int values.\n",
        "\n",
        "# Mission 1\n",
        "\n",
        "Vous trouverez ci-dessous un dictionnaire contenant le nombre de campus français qui proposent chaque type de cours de la Wild Code School.\n",
        "\n",
        "wildcodeschool = {\n",
        "   \"analyste_données\" : 4,\n",
        "   \"data_scientist\" : 2,\n",
        "   \"dev_web\" : \"13\" \n",
        "}\n",
        "\n",
        "Trouvez un moyen d'afficher uniquement les clés qui ont des valeurs int."
      ]
    },
    {
      "cell_type": "code",
      "metadata": {
        "id": "C2Lk113KSPUO"
      },
      "source": [
        "wildcodeschool =\t{\n",
        "  \"data_analyst\": 4,\n",
        "  \"data_scientist\": 2,\n",
        "  \"dev_web\": \"13\"\n",
        "}\n"
      ],
      "execution_count": null,
      "outputs": []
    },
    {
      "cell_type": "code",
      "source": [
        "# Methode 1: Afficher uniquement les clés qui ont des valeurs int.\n",
        "\n",
        "for key, value in wildcodeschool.items():\n",
        "    if type(value) in [int] :  # vérifier que le type de la valeur est dans une liste de types désirés.\n",
        "        print(key)"
      ],
      "metadata": {
        "colab": {
          "base_uri": "https://localhost:8080/"
        },
        "id": "lZyorAuelFq9",
        "outputId": "be283763-c14b-4180-c34c-cf07d6f5f58d"
      },
      "execution_count": null,
      "outputs": [
        {
          "output_type": "stream",
          "name": "stdout",
          "text": [
            "data_analyst\n",
            "data_scientist\n"
          ]
        }
      ]
    },
    {
      "cell_type": "code",
      "metadata": {
        "id": "i1T9MV2V3j5I",
        "colab": {
          "base_uri": "https://localhost:8080/"
        },
        "outputId": "36a4063a-3a11-4164-ae4e-2fbd5c974651"
      },
      "source": [
        "# Methode 2: Afficher uniquement les clés qui ont des valeurs int.\n",
        "\n",
        "for key, value in wildcodeschool.items():\n",
        "    if type(value) == int :  # vérifier si le type de la valeur est égal à int\n",
        "        print(key)"
      ],
      "execution_count": null,
      "outputs": [
        {
          "output_type": "stream",
          "name": "stdout",
          "text": [
            "data_analyst\n",
            "data_scientist\n"
          ]
        }
      ]
    },
    {
      "cell_type": "markdown",
      "metadata": {
        "id": "J3bsGIvAT049"
      },
      "source": [
        "# Mission 2\n",
        "\n",
        "For the same dictionary, find a way to display all the values that have a key that contains the letter \"e\".\n",
        "\n",
        "# Mission 2\n",
        "\n",
        "Pour le même dictionnaire, trouvez un moyen d'afficher toutes les valeurs dont la clé contient la lettre \"e\"."
      ]
    },
    {
      "cell_type": "code",
      "metadata": {
        "id": "Fy1OmPSUXNaP",
        "colab": {
          "base_uri": "https://localhost:8080/"
        },
        "outputId": "37c4b1c2-d986-4f66-b621-a17ba10e6e9f"
      },
      "source": [
        "# Affiché les clés\n",
        "# Démarche comme (Mission1): \n",
        "# Boucler sur le dictionnaire pour obtenir les paires clé-valeur - vérifier si la lettre 'e' se trouve dans la clé - imprimer la valeur si 'e' est présent dans la clé.\n",
        "\n",
        "for key, value in wildcodeschool.items():\n",
        "    if 'e' in key:  # vérifie si la lettre 'e' est dans la clé actuelle du dictionnaire\n",
        "        print(value) # affiche la valeur courante (correspondant à la clé courante)            \n"
      ],
      "execution_count": null,
      "outputs": [
        {
          "output_type": "stream",
          "name": "stdout",
          "text": [
            "2\n",
            "13\n"
          ]
        }
      ]
    },
    {
      "cell_type": "markdown",
      "metadata": {
        "id": "dVl36lvlWLdV"
      },
      "source": [
        "# Mission 3\n",
        "\n",
        "Within the same dictionary, change the type of the value of the \"dev_web\" key to be an int. Then add a new key-value pair which will be \"total_campus\" : 19, using a **dictionary method**.\n",
        "\n",
        "# Mission 3\n",
        "\n",
        "Dans le même dictionnaire, changez le type de la valeur de la clé \"dev_web\" pour être un int. Puis ajoutez une nouvelle paire clé-valeur qui sera \"total_campus\" : 19, en utilisant une **méthode dictionnaire**."
      ]
    },
    {
      "cell_type": "markdown",
      "source": [
        "**Changer la valeur de \"dev_web\" pour être et int :**"
      ],
      "metadata": {
        "id": "e2M9hABuo21r"
      }
    },
    {
      "cell_type": "code",
      "metadata": {
        "id": "pN3_mD4YSPfb",
        "colab": {
          "base_uri": "https://localhost:8080/"
        },
        "outputId": "4efaf88e-9923-440b-f54f-cf0cc00dcfab"
      },
      "source": [
        "# Changer la valeur de \"dev_web\" pour être et int\n",
        "\n",
        "wildcodeschool['dev_web'] = int(wildcodeschool['dev_web']) # int() convertira le type str en type int et la valeur sera assignée à la clé 'dev_web'.\n",
        "print(wildcodeschool) # imprime le dictionnaire pour vérifier si tout s'est bien passé"
      ],
      "execution_count": null,
      "outputs": [
        {
          "output_type": "stream",
          "name": "stdout",
          "text": [
            "{'data_analyst': 4, 'data_scientist': 2, 'dev_web': 13}\n"
          ]
        }
      ]
    },
    {
      "cell_type": "markdown",
      "metadata": {
        "id": "GCvpkWzXXPTf"
      },
      "source": [
        "# Mission 4\n",
        "\n",
        "Take the dictionary generated from mission 3. Delete the key value pair :\n",
        "- 'dev_web': 13 using a method\n",
        "- 'total_campus': 19 using another method\n",
        "\n",
        "# Mission 4\n",
        "\n",
        "Prenez le dictionnaire généré par la mission 3. Supprimez la paire clé-valeur :\n",
        "- 'dev_web' : 13 en utilisant une méthode\n",
        "- 'total_campus' : 19 en utilisant une autre méthode"
      ]
    },
    {
      "cell_type": "markdown",
      "source": [
        "**Ajouter une nouvelle paire clé-valeur qui sera \"total_campus\" : 19, en utilisant une méthode de dictionnaire**."
      ],
      "metadata": {
        "id": "qwzYustqqBTt"
      }
    },
    {
      "cell_type": "code",
      "metadata": {
        "id": "XkpewNl7r5sy"
      },
      "source": [
        "wildcodeschool =\t{\n",
        "  \"data_analyst\": 4,\n",
        "  \"data_scientist\": 2,\n",
        "  \"dev_web\": \"13\"\n",
        "}\n"
      ],
      "execution_count": null,
      "outputs": []
    },
    {
      "cell_type": "code",
      "metadata": {
        "id": "QjLMjogySPk_",
        "colab": {
          "base_uri": "https://localhost:8080/"
        },
        "outputId": "09e45291-a60e-44a2-8750-010c09fb2441"
      },
      "source": [
        "## Méthode 1\n",
        "# Nous pouvons également créer une nouvelle paire clé-valeur en utilisant la méthode suivante\n",
        "\n",
        "wildcodeschool['total_campus'] = 19 # Attribuer la valeur 19 à la clé 'total_campus'. Comme les deux éléments n'existent pas encore, ils seront ajoutés\n",
        "print(wildcodeschool) # Imprimez le dictionnaire pour vérifier si tout a bien fonctionné."
      ],
      "execution_count": null,
      "outputs": [
        {
          "output_type": "stream",
          "name": "stdout",
          "text": [
            "{'data_analyst': 4, 'data_scientist': 2, 'dev_web': 13, 'total_campus': 19}\n"
          ]
        }
      ]
    },
    {
      "cell_type": "code",
      "source": [
        "## Méthode 2\n",
        "# Enfin, nous pouvons supprimer la paire clé-valeur en utilisant la méthode pop()\n",
        "\n",
        "wildcodeschool.pop('dev_web')\n",
        "print(wildcodeschool) # imprimer le dictionnaire pour vérifier si tout s'est bien passé"
      ],
      "metadata": {
        "id": "mVYoeUf3rLZx"
      },
      "execution_count": null,
      "outputs": []
    },
    {
      "cell_type": "markdown",
      "metadata": {
        "id": "V8ZS3aECXvuZ"
      },
      "source": [
        "# Mission 5\n",
        "\n",
        "Still within the dictionary generated from Mission 3, find a way to display the dictionary keys in alphabetical order.\n",
        "\n",
        "# Mission 5\n",
        "\n",
        "Toujours dans le dictionnaire généré par la mission 3, trouvez un moyen d'afficher les clés du dictionnaire par ordre alphabétique."
      ]
    },
    {
      "cell_type": "code",
      "metadata": {
        "id": "ph_j97PoSPmU",
        "colab": {
          "base_uri": "https://localhost:8080/"
        },
        "outputId": "4cc57d99-5fe0-41f7-c527-2d57a8b6f3c9"
      },
      "source": [
        "all_keys = list(wildcodeschool.keys()) # Crée une liste de clés de dictionnaire\n",
        "all_keys.sort() # Trier la liste avec la méthode sort()\n",
        "print(all_keys) # Imprime la liste pour vérifier si tout s'est bien passé"
      ],
      "execution_count": null,
      "outputs": [
        {
          "output_type": "stream",
          "name": "stdout",
          "text": [
            "['data_analyst', 'data_scientist', 'dev_web', 'total_campus']\n"
          ]
        }
      ]
    },
    {
      "cell_type": "markdown",
      "metadata": {
        "id": "geMLdrvAYHKx"
      },
      "source": [
        "# Mission 6\n",
        "\n",
        "Create a script that returns the same elements as the **values()** method, as a list.\n",
        "\n",
        "Example: for `{'a': 1, 'b': 2, 'c': 3}` it will create `[1, 2, 3]`\n",
        "\n",
        "# Mission 6\n",
        "\n",
        "Créez un script qui retourne les mêmes éléments que la méthode **values()**, sous forme de liste.\n",
        "\n",
        "Exemple : pour `{'a' : 1, 'b' : 2, 'c' : 3}`, il créera `[1, 2, 3]`."
      ]
    },
    {
      "cell_type": "code",
      "metadata": {
        "id": "1-cenx3RSPpq"
      },
      "source": [
        "def values(a_dict):\n",
        "    values_list = []\n",
        "    for key in a_dict:\n",
        "        values_list.append(a_dict[key])\n",
        "    return values_list"
      ],
      "execution_count": null,
      "outputs": []
    },
    {
      "cell_type": "code",
      "source": [
        "# Vérifier si notre script fonctionne bien\n",
        "dico = {'a' : 1, 'b' : 2, 'c' : 3}\n",
        "print(values(dico))"
      ],
      "metadata": {
        "colab": {
          "base_uri": "https://localhost:8080/"
        },
        "id": "FE_dHoPptH8T",
        "outputId": "93a7c9bd-0e42-415e-d6e9-81e78d8e9e52"
      },
      "execution_count": null,
      "outputs": [
        {
          "output_type": "stream",
          "name": "stdout",
          "text": [
            "[1, 2, 3]\n"
          ]
        }
      ]
    },
    {
      "cell_type": "code",
      "source": [
        "# Vérifier si notre script fonctionne bien avec notre dictionnaire de la misson 1\n",
        "print(values(wildcodeschool))"
      ],
      "metadata": {
        "colab": {
          "base_uri": "https://localhost:8080/"
        },
        "id": "lWuLF1a0tdRh",
        "outputId": "3a56dbed-8f43-41ed-d73b-6803df0a5527"
      },
      "execution_count": null,
      "outputs": [
        {
          "output_type": "stream",
          "name": "stdout",
          "text": [
            "[4, 2, 13, 19]\n"
          ]
        }
      ]
    }
  ]
}