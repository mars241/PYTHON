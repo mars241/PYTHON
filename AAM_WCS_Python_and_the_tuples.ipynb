{
  "nbformat": 4,
  "nbformat_minor": 0,
  "metadata": {
    "colab": {
      "provenance": [],
      "include_colab_link": true
    },
    "kernelspec": {
      "name": "python3",
      "display_name": "Python 3"
    }
  },
  "cells": [
    {
      "cell_type": "markdown",
      "metadata": {
        "id": "view-in-github",
        "colab_type": "text"
      },
      "source": [
        "<a href=\"https://colab.research.google.com/github/mars241/PYTHON/blob/main/AAM_WCS_Python_and_the_tuples.ipynb\" target=\"_parent\"><img src=\"https://colab.research.google.com/assets/colab-badge.svg\" alt=\"Open In Colab\"/></a>"
      ]
    },
    {
      "cell_type": "markdown",
      "metadata": {
        "id": "LoJw-LlCTnWF"
      },
      "source": [
        "# Mission 1\n",
        "\n",
        "Create a tuple of your choice containing 10 elements in this order:\n",
        "- 3 integers\n",
        "- 3 strings\n",
        "- 2 lists containing 3 items each\n",
        "- 2 dictionaries containing 3 items (3 key/value pairs) each\n",
        "\n",
        "# Mission 1\n",
        "\n",
        "Créez un tuple de votre choix contenant 10 éléments dans cet ordre :\n",
        "- 3 entiers\n",
        "- 3 chaînes de caractères\n",
        "- 2 listes contenant chacune 3 éléments\n",
        "- 2 dictionnaires contenant chacun 3 éléments (3 paires clé/valeur)"
      ]
    },
    {
      "cell_type": "code",
      "source": [
        "tuple1 = (8, 7, 6, \n",
        "          \"Ville\", \"Région\", \"Pays\", \n",
        "          [\"Paris\", \"Lyon\", \"Bordeaux\"], [\"Franceville\", \"Libreville\", \"Port-Gentil\"], \n",
        "          {\"France\":\"Paris\" ,\"Allemagne\":\"Berlin\", \"Italie\":\"Venise\"}, {\"Gabon\":\"Libreville\", \"Côte d'ivoire\":\"Abidjan\" , \"Congo\":\"Pointe-Noire\"})"
      ],
      "metadata": {
        "id": "H3EzxtF8Yaa_"
      },
      "execution_count": 14,
      "outputs": []
    },
    {
      "cell_type": "code",
      "source": [
        "# Definition notre dictionnaire\n",
        "mon_dictionnaire = dict() # on peu aussi ici mettre ici \"= {}\" à la place de \"dict()\"\n",
        "\n",
        "# Ajoutons les valeurs dans notre dictionnaire crée:\n",
        "mon_dictionnaire[\"France\"]=\"Paris\"\n",
        "mon_dictionnaire[\"Allemagne\"] = \"Berlin\"\n",
        "mon_dictionnaire[\"Italie\"] = \"Venise\" \n",
        "mon_dictionnaire[\"Gabon\"] = \"Libreville\"\n",
        "mon_dictionnaire[\"Côte d'ivoire\"] =\"Abidjan\"\n",
        "mon_dictionnaire[\"Congo\"] =\"Pointe-Noire\"\n",
        "\n",
        "print(mon_dictionnaire)"
      ],
      "metadata": {
        "colab": {
          "base_uri": "https://localhost:8080/"
        },
        "id": "DrcrERTxgRTt",
        "outputId": "d4609013-1638-4560-80c5-6bfb8f8dec33"
      },
      "execution_count": 5,
      "outputs": [
        {
          "output_type": "stream",
          "name": "stdout",
          "text": [
            "{'France': 'Paris', 'Allemagne': 'Berlin', 'Italie': 'Venise', 'Gabon': 'Libreville', \"Côte d'ivoire\": 'Abidjan', 'Congo': 'Pointe-Noire'}\n"
          ]
        }
      ]
    },
    {
      "cell_type": "code",
      "source": [
        "tuple1 = (8, 7, 6, \n",
        "          \"Ville\", \"Région\", \"Pays\", \n",
        "          [\"Paris\", \"Lyon\", \"Bordeaux\"], [\"Franceville\", \"Libreville\", \"Port-Gentil\"], \n",
        "          mon_dictionnaire)"
      ],
      "metadata": {
        "id": "MBg5dmADgS4f"
      },
      "execution_count": 21,
      "outputs": []
    },
    {
      "cell_type": "markdown",
      "metadata": {
        "id": "cPQRTT3q6GB1"
      },
      "source": [
        "Now, access the second-to-last item in the second list.\n",
        "\n",
        "Maintenant, accédez à l'avant-dernier élément de la deuxième liste."
      ]
    },
    {
      "cell_type": "code",
      "metadata": {
        "id": "V9LKho6U6HM8",
        "colab": {
          "base_uri": "https://localhost:8080/"
        },
        "outputId": "af6cf4a7-f372-43bc-af87-6fc8b4454f28"
      },
      "source": [
        "#position 0: 8; position 1: 7;... position 6 :[\"Paris\", \"Lyon\", \"Bordeaux\"] et position 7 :[\"Franceville\", \"Libreville\", \"Port-Gentil\"]\n",
        "print((tuple1[7])[1])"
      ],
      "execution_count": 12,
      "outputs": [
        {
          "output_type": "stream",
          "name": "stdout",
          "text": [
            "Libreville\n"
          ]
        }
      ]
    },
    {
      "cell_type": "code",
      "metadata": {
        "id": "C2Lk113KSPUO",
        "colab": {
          "base_uri": "https://localhost:8080/"
        },
        "outputId": "08b0b603-afc5-4b8a-a59b-a32cda655df6"
      },
      "source": [
        "# Pour accèder à une clé & valeur du dictionnaire:\n",
        "for key, values in mon_dictionnaire.items(): # pour accèder aux clés on mets \".keys()\" et pour les valeurs \".values():\" à la place de \"items()\"\n",
        "    print(key, values)"
      ],
      "execution_count": 13,
      "outputs": [
        {
          "output_type": "stream",
          "name": "stdout",
          "text": [
            "France Paris\n",
            "Allemagne Berlin\n",
            "Italie Venise\n",
            "Gabon Libreville\n",
            "Côte d'ivoire Abidjan\n",
            "Congo Pointe-Noire\n"
          ]
        }
      ]
    },
    {
      "cell_type": "markdown",
      "metadata": {
        "id": "HGoGFI9qxuzW"
      },
      "source": [
        "# Mission 2\n",
        "\n",
        "In the same tuple, access the last 4 elements using slicing.\n",
        "\n",
        "# Mission 2\n",
        "\n",
        "Dans le même tuple, accédez aux 4 derniers éléments en utilisant le slicing."
      ]
    },
    {
      "cell_type": "code",
      "metadata": {
        "id": "qk097m4Zx4mR",
        "colab": {
          "base_uri": "https://localhost:8080/"
        },
        "outputId": "6101c577-aea5-4ff8-e834-79b391535718"
      },
      "source": [
        "print(tuple1[-5:-1])"
      ],
      "execution_count": 15,
      "outputs": [
        {
          "output_type": "stream",
          "name": "stdout",
          "text": [
            "('Pays', ['Paris', 'Lyon', 'Bordeaux'], ['Franceville', 'Libreville', 'Port-Gentil'], {'France': 'Paris', 'Allemagne': 'Berlin', 'Italie': 'Venise'})\n"
          ]
        }
      ]
    },
    {
      "cell_type": "markdown",
      "metadata": {
        "id": "iVHJFx3Px8mY"
      },
      "source": [
        "# Mission 3\n",
        "\n",
        "Change the value of the 4th element (the first string) of your tuple (since tuples are immutable, this means recreating a tuple where this element is changed).\n",
        "\n",
        "# Mission 3\n",
        "\n",
        "Changez la valeur du 4ème élément (la première chaîne) de votre tuple (puisque les tuples sont immuables, cela signifie recréer un tuple où cet élément est changé)."
      ]
    },
    {
      "cell_type": "code",
      "metadata": {
        "id": "op3qyirV7tGZ",
        "colab": {
          "base_uri": "https://localhost:8080/"
        },
        "outputId": "7b44c943-5bb5-4c1d-9d28-bff7e694ffd9"
      },
      "source": [
        "# créeons d'abord une copie du Tuple à modifier, puis apportons notre modification\n",
        "y = list(tuple1)\n",
        "y[3] = \"Commune\"\n",
        "tuple1 = tuple(y)\n",
        "\n",
        "print(tuple1)"
      ],
      "execution_count": 23,
      "outputs": [
        {
          "output_type": "stream",
          "name": "stdout",
          "text": [
            "(8, 7, 6, 'Commune', 'Région', 'Pays', ['Paris', 'Lyon', 'Bordeaux'], ['Franceville', 'Libreville', 'Port-Gentil'], {'France': 'Paris', 'Allemagne': 'Berlin', 'Italie': 'Venise', 'Gabon': 'Libreville', \"Côte d'ivoire\": 'Abidjan', 'Congo': 'Pointe-Noire'})\n"
          ]
        }
      ]
    },
    {
      "cell_type": "markdown",
      "metadata": {
        "id": "Wp3_jhWS2Foi"
      },
      "source": [
        "# Mission 4\n",
        "\n",
        "Create 2 tuples of the same length that contain only integers.\n",
        "\n",
        "Then create a script that compares the sum of their elements and displays the tuple that has the highet total.\n",
        "\n",
        "# Mission 4\n",
        "\n",
        "Créez 2 tuples de même longueur qui ne contiennent que des entiers.\n",
        "\n",
        "Créez ensuite un script qui compare la somme de leurs éléments et affiche le tuple qui a le total le plus élevé."
      ]
    },
    {
      "cell_type": "code",
      "metadata": {
        "id": "dGMYxaMWx8RO",
        "colab": {
          "base_uri": "https://localhost:8080/"
        },
        "outputId": "3983806c-014e-4c9f-f966-d7e7b241f53b"
      },
      "source": [
        "\n",
        "tuple2 = (2, 4, 1, 9, 5, 10, 90, 14, 6, 8)\n",
        "tuple3 = (55, 30, 4, 12, 3, 5, 1, 9, 11, 2)\n",
        "\n",
        "res1 = sum(list(tuple2))\n",
        "res2 = sum(list(tuple3))\n",
        "\n",
        "if res1 > res2:\n",
        "  print(\"La somme du Tuple1 est : \", res1 ,\", Et le tuple2 a un total supérieur au tuple3\")\n",
        "else:\n",
        "  print(\"La somme du Tuple1 est : \", res2 ,\", Et le tuple3 a un total supérieur au tuple2\")"
      ],
      "execution_count": 25,
      "outputs": [
        {
          "output_type": "stream",
          "name": "stdout",
          "text": [
            "La somme du Tuple1 est :  149 , Et le tuple2 a un total supérieur au tuple3\n"
          ]
        }
      ]
    },
    {
      "cell_type": "markdown",
      "metadata": {
        "id": "Zmk8uviVzPBZ"
      },
      "source": [
        "# Mission 5\n",
        "\n",
        "Here's a tuple:\n",
        "\n",
        "`my_tuple = (\"data analyst\", \"data scientist\", \"data engineer\", \"data architect\")`\n",
        "\n",
        "Ask the user for a string, then for an integer position. Create an altered copy of `my_tuple` where the element at the given position is now the given string.\n",
        "\n",
        "# Mission 5\n",
        "\n",
        "Voici un tuple :\n",
        "\n",
        "`mon_tuple = (\"data analyst\", \"data scientist\", \"data engineer\", \"data architect\")`\n",
        "\n",
        "Demandez à l'utilisateur une chaîne de caractères, puis une position entière. Créez une copie modifiée de `mon_tuple` où l'élément à la position donnée est maintenant la chaîne donnée."
      ]
    },
    {
      "cell_type": "code",
      "metadata": {
        "id": "0o-MuRyZ1_7u",
        "colab": {
          "base_uri": "https://localhost:8080/"
        },
        "outputId": "ac446e7f-1a1f-48cf-f5ec-66f81286b227"
      },
      "source": [
        "my_tuple = (\"data analyst\", \"data scientist\", \"data engineer\", \"data architect\")\n",
        "\n",
        "string = str(input(\"Entrez le nom d'un métier autour de la data: \"))\n",
        "integer = int(input(\"Entrez un entier compris entre 0 et 3 tout deux inclus !: \"))\n",
        "\n",
        "x = list(my_tuple)\n",
        "x.insert(integer, string)\n",
        "\n",
        "my_tuple = tuple(x)\n",
        "print(my_tuple)"
      ],
      "execution_count": 29,
      "outputs": [
        {
          "output_type": "stream",
          "name": "stdout",
          "text": [
            "Entrez le nom d'un métier autour de la data: Data Steward\n",
            "Entrez un entier compris entre 0 et 3 tout deux inclus !: 3\n",
            "('data analyst', 'data scientist', 'data engineer', 'Data Steward', 'data architect')\n"
          ]
        }
      ]
    }
  ]
}