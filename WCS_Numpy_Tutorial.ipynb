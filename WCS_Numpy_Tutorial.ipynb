{
  "nbformat": 4,
  "nbformat_minor": 0,
  "metadata": {
    "colab": {
      "provenance": [],
      "include_colab_link": true
    },
    "kernelspec": {
      "display_name": "Python 3",
      "language": "python",
      "name": "python3"
    }
  },
  "cells": [
    {
      "cell_type": "markdown",
      "metadata": {
        "id": "view-in-github",
        "colab_type": "text"
      },
      "source": [
        "<a href=\"https://colab.research.google.com/github/mars241/PYTHON/blob/main/WCS_Numpy_Tutorial.ipynb\" target=\"_parent\"><img src=\"https://colab.research.google.com/assets/colab-badge.svg\" alt=\"Open In Colab\"/></a>"
      ]
    },
    {
      "cell_type": "markdown",
      "metadata": {
        "id": "-s9bQNqkVygt"
      },
      "source": [
        "![sslogo](https://github.com/stratascratch/stratascratch.github.io/raw/master/assets/sslogo.jpg)"
      ]
    },
    {
      "cell_type": "markdown",
      "metadata": {
        "id": "7UV8v2kdVscb"
      },
      "source": [
        "# Intro to NumPy\n",
        "\n",
        "NumPy is the fundamental package for scientific computing in Python. NumPy is used in many other packages in python even though you may not see it explicitly running in your code.\n",
        "\n",
        "It is a python library that provides a multidimensional array object, various derived objects (such as masked arrays and matrices), and an assortment of routines for fast operations on arrays, including mathematical, logical, shape manipulation, sorting, selecting, I/O, discrete Fourier transforms, basic linear algebra, basic statistical operations, random simulation and much more.\n",
        "\n",
        "\n"
      ]
    },
    {
      "cell_type": "markdown",
      "metadata": {
        "id": "fkjpKVmZVscc"
      },
      "source": [
        "#### Import the numpy package"
      ]
    },
    {
      "cell_type": "code",
      "metadata": {
        "id": "oFl5JU9fVscd"
      },
      "source": [
        "import numpy as np"
      ],
      "execution_count": null,
      "outputs": []
    },
    {
      "cell_type": "markdown",
      "metadata": {
        "id": "Wi_iVJZcVsch"
      },
      "source": [
        "#### Make an array from a list.\n",
        "\n",
        "This will create a numpy array with 3 elements.\n",
        "\n",
        "Each numpy array contains an attribute called `shape`. Shape is a tuple which tells you how many elements you have per axis. For example (5, 6, 8) means 5 elements per axis 0, 6 elements per axis 1 and 8 elements per axis 2. Usually you will have only one or two axes.\n",
        "\n",
        "The shape for the array in this section is `(3, )`. The reason for this funny notation is python's type system where shape must be a tuple and this is a tuple with 1 element. Writing just 3 would mean a number, not a tuple.\n",
        "\n",
        "To verify that try `np.array([1, 2, 3]).shape`"
      ]
    },
    {
      "cell_type": "code",
      "metadata": {
        "id": "hiCYmtPGVsch"
      },
      "source": [
        "np.array([1, 2, 3])"
      ],
      "execution_count": null,
      "outputs": []
    },
    {
      "cell_type": "markdown",
      "metadata": {
        "id": "stlK-cUIVscm"
      },
      "source": [
        "#### Make an array from a list of lists\n",
        "\n",
        "The shape of this array is (2, 2) so this is a matrix."
      ]
    },
    {
      "cell_type": "code",
      "metadata": {
        "id": "0R0OYUEgVscn"
      },
      "source": [
        "np.array([[1, 2], [3, 4]])"
      ],
      "execution_count": null,
      "outputs": []
    },
    {
      "cell_type": "markdown",
      "metadata": {
        "id": "XlI6D-_IVscq"
      },
      "source": [
        "#### Make an array using a function\n",
        "\n",
        "The arrays made in previous sections were based on us supplying each value.\n",
        "\n",
        "Very often we need large arrays and it is not possible to use our current approach and thus we need to use array creating functions. The most important functions are `zeros` and `ones`. They both take a parameter called shape which determines the shape of the output array.\n",
        "* `zeros` makes an array which is all 0 [docs](https://docs.scipy.org/doc/numpy/reference/generated/numpy.zeros.html)\n",
        "* `ones`  makes an array which is all 1 [docs](https://docs.scipy.org/doc/numpy/reference/generated/numpy.ones.html#numpy.ones)"
      ]
    },
    {
      "cell_type": "code",
      "metadata": {
        "id": "VbIimhBLVscr"
      },
      "source": [
        "np.zeros((2, 3))"
      ],
      "execution_count": null,
      "outputs": []
    },
    {
      "cell_type": "code",
      "metadata": {
        "id": "2ehKzKEsVsct"
      },
      "source": [
        "np.ones((3, 2))"
      ],
      "execution_count": null,
      "outputs": []
    },
    {
      "cell_type": "markdown",
      "metadata": {
        "id": "SYWOfj3GVscx"
      },
      "source": [
        "#### Make an array by starting at 0, incrementing by 2 and ending before 10\n",
        "\n",
        "`arange` is the exact same thing as regular python `range` except giving back a numpy array.\n",
        "\n",
        "This functions requires only a single argument which is the end point. The start point is assumed to be 0 and step is assumed to be 1.\n",
        "\n",
        "In this variety when in takes three parameters, the first one is the start, second one is the end and the third one is the step.\n",
        "\n",
        "[docs](https://docs.scipy.org/doc/numpy/reference/generated/numpy.arange.html)"
      ]
    },
    {
      "cell_type": "code",
      "metadata": {
        "id": "YmUE2XZIVscx"
      },
      "source": [
        "np.arange(0, 10, 2)"
      ],
      "execution_count": null,
      "outputs": []
    },
    {
      "cell_type": "markdown",
      "metadata": {
        "id": "WgfvR8_eVsc0"
      },
      "source": [
        "#### Make an array of four evenly spaced numbers including both endpoints"
      ]
    },
    {
      "cell_type": "code",
      "metadata": {
        "id": "CmQ2LtbjVsc2"
      },
      "source": [
        "np.linspace(0, 1, 4)"
      ],
      "execution_count": null,
      "outputs": []
    },
    {
      "cell_type": "markdown",
      "metadata": {
        "id": "pSwe4s-6Vsc6"
      },
      "source": [
        "#### Make an array of random numbers (using a normal distribution)\n",
        "\n",
        "The random submodule of numpy contains a variety of functions for generating random numbers following a specified probability distributions or sampling from a finite set of choices. To learn more about it visit the [documentation](https://docs.scipy.org/doc/numpy/reference/routines.random.html)."
      ]
    },
    {
      "cell_type": "code",
      "metadata": {
        "id": "rIVnHqRNVsc6"
      },
      "source": [
        "mean = 10\n",
        "stdev = 3\n",
        "number_values = 20\n",
        "np.random.normal(mean, stdev, number_values)"
      ],
      "execution_count": null,
      "outputs": []
    },
    {
      "cell_type": "markdown",
      "metadata": {
        "id": "gPZuEtnjVsc9"
      },
      "source": [
        "## Indexing Arrays\n",
        "#### Access elements of a 1-dimensional array.  Get the first and last element.\n",
        "\n",
        "In python as is in many other programming languages all arrays start from 0 so the first element is at position 0.\n",
        "\n",
        "To access the last element we can use -1 as the index. `x[-1]` is identical to `x[x.shape[0] - 1]` where `shape[0]` is the length of the array."
      ]
    },
    {
      "cell_type": "code",
      "metadata": {
        "id": "TTfE_CDUVsc-"
      },
      "source": [
        "x = np.arange(4)\n",
        "\n",
        "print(x[0])\n",
        "print(x[-1])"
      ],
      "execution_count": null,
      "outputs": []
    },
    {
      "cell_type": "markdown",
      "metadata": {
        "id": "TzlouFp2VsdD"
      },
      "source": [
        "#### Reshape an array\n",
        "\n",
        "Remember that shape is the fundamenal property of each array and we can modify it as we desire and we often do so. To change the shape of an array we use the `reshape` method.\n",
        "\n",
        "The code in this example creates an 1D-array of 6 elements using the `arange` functon.\n",
        "\n",
        "We convert it to a 2D-array using the `reshape` method.\n",
        "\n",
        "You see that the total amount of numbers did not change, only our view of them. 6 elements in a vector or 3 x 2 elements in a matrix.\n",
        "\n",
        "It is very important that when using `reshape` to ensure that dimensions match or you will get an error. 6 = 3 x 2 is a match so this works but trying np.arange(6).reshape(4, 2) will give you an error.\n",
        "\n",
        "[docs](https://docs.scipy.org/doc/numpy/reference/generated/numpy.reshape.html)"
      ]
    },
    {
      "cell_type": "code",
      "metadata": {
        "id": "L-99GhjBVsdE"
      },
      "source": [
        "x = np.arange(6).reshape(2, 3)\n",
        "print(x)"
      ],
      "execution_count": null,
      "outputs": []
    },
    {
      "cell_type": "markdown",
      "metadata": {
        "id": "PJwakKH2VsdG"
      },
      "source": [
        "#### Get the last row\n",
        "\n",
        "When dealing with arrays which are of more than a single dimension we can use partial indexing specifications go slice the array the way we want.\n",
        "\n",
        "For example `print(x[-1])` will print the last **row**.\n",
        "\n",
        "To get the last column take the transpose of the 2d-array and then use [-1].\n",
        "\n",
        "For exampe `print(x.T[-1])` will give you the last columns. `x.T` is the transpose of `x`"
      ]
    },
    {
      "cell_type": "code",
      "metadata": {
        "id": "eRzSoVEBVsdH"
      },
      "source": [
        "print(x[-1])"
      ],
      "execution_count": null,
      "outputs": []
    },
    {
      "cell_type": "markdown",
      "metadata": {
        "id": "lLqO8U4ZVsdL"
      },
      "source": [
        "#### Get the last element of the last row\n",
        "\n",
        "Here we are using full indexing to get a single **element**."
      ]
    },
    {
      "cell_type": "code",
      "metadata": {
        "id": "ktEhAKY0VsdL"
      },
      "source": [
        "print(x[-1, -1])"
      ],
      "execution_count": null,
      "outputs": []
    },
    {
      "cell_type": "markdown",
      "metadata": {
        "id": "S_vuadjsVsdO"
      },
      "source": [
        "#### Get elements like a list\n",
        "\n",
        "Using the notation `a:b` we can slice arrays as precisely as we want.\n",
        "\n",
        "`a:b` means give me back all elements whose positions is in that set.\n",
        "\n",
        "For example `y = [1, 3, 5, 7, 9]` and `y[0:2]` would give us the first two elements `[1, 3]`.\n",
        "\n",
        "Negative indices mean from back so -3 means 3 positions starting from the last position.\n",
        "\n",
        "Experiment with the values until you get the feel for it."
      ]
    },
    {
      "cell_type": "code",
      "metadata": {
        "id": "Q6coPcKdVsdO"
      },
      "source": [
        "x = np.arange(10)\n",
        "\n",
        "print(x)\n",
        "print(x[:3])\n",
        "print(x[1:4])\n",
        "print(x[-3:])"
      ],
      "execution_count": null,
      "outputs": []
    },
    {
      "cell_type": "markdown",
      "metadata": {
        "id": "u0LUGU7QVsdR"
      },
      "source": [
        "#### Get all elements in reverse order\n",
        "\n",
        "The enhanced slicing syntax is `a:b:c` were `c` is the step. For example `0:10:2`.\n",
        "\n",
        "If we omit `a` and `b` we always asume they are `a` = 0 and `b` = length of the list so we are only left with a step.\n",
        "\n",
        "Thus `::2` means slicing from 0 to end with a step 2. `::3` mean slicing with a step 3.\n",
        "\n",
        "Now what if we used negative steps. Using -1 as the step would reverse the logic and `a` becomes the end of the list and `b` becomes zero. So `::-1` will slice in reverse direction.\n",
        "\n",
        "Finally there is also the slice form `::1` or written short `:` which means give me back all elements in order as they are present."
      ]
    },
    {
      "cell_type": "code",
      "metadata": {
        "id": "4UzObVzGVsdS"
      },
      "source": [
        "print(x[::-1])"
      ],
      "execution_count": null,
      "outputs": []
    },
    {
      "cell_type": "markdown",
      "metadata": {
        "id": "RYDI0tKZVsdV"
      },
      "source": [
        "#### Get every second element or third element"
      ]
    },
    {
      "cell_type": "code",
      "metadata": {
        "id": "Qt1WeSeUVsdW"
      },
      "source": [
        "print(x[::2])\n",
        "print(x[::3])"
      ],
      "execution_count": null,
      "outputs": []
    },
    {
      "cell_type": "markdown",
      "metadata": {
        "id": "gTtzstSeVsdZ"
      },
      "source": [
        "#### Create a 5x5 matrix"
      ]
    },
    {
      "cell_type": "code",
      "metadata": {
        "id": "QGlTQXhwVsda"
      },
      "source": [
        "x = np.arange(25).reshape(5, 5)\n",
        "print(x)"
      ],
      "execution_count": null,
      "outputs": []
    },
    {
      "cell_type": "markdown",
      "metadata": {
        "id": "13f9XrWfVsdc"
      },
      "source": [
        "#### Get the first two columns and the first two rows\n",
        "\n",
        "Until now you have learned how to slice on a 1D array but slices can be generalized to any dimensional arrays.\n",
        "\n",
        "The trick is to create a slice for every dimensions.\n",
        "\n",
        "In this example we have a 2d-array so we create two slices, one for dimension 0 (rows) and one for dimension 1 (columns)\n"
      ]
    },
    {
      "cell_type": "code",
      "metadata": {
        "id": "sU273gC3Vsdd"
      },
      "source": [
        "print(x[:2, :2])"
      ],
      "execution_count": null,
      "outputs": []
    },
    {
      "cell_type": "markdown",
      "metadata": {
        "id": "k4o5CSY-Vsdg"
      },
      "source": [
        "#### Get every second column of every second row"
      ]
    },
    {
      "cell_type": "code",
      "metadata": {
        "id": "v1RkC6_XVsdg"
      },
      "source": [
        "print(x[::2, ::2])"
      ],
      "execution_count": null,
      "outputs": []
    },
    {
      "cell_type": "markdown",
      "metadata": {
        "id": "VUN97--UVsdj"
      },
      "source": [
        "## Access parts of an array with index arrays"
      ]
    },
    {
      "cell_type": "markdown",
      "metadata": {
        "id": "LpR2l52dVsdj"
      },
      "source": [
        "#### Generate six random integers between 0 and 9 inclusive\n",
        "\n",
        "`randint` in `np.random` is a very useful function which generates uniformly distributed random integers from the range provided as its first two parameters (start and end of range respectively). It's third parameter tells the method how many numbers we need."
      ]
    },
    {
      "cell_type": "code",
      "metadata": {
        "id": "1nY57f_oVsdk"
      },
      "source": [
        "x = np.random.randint(0, 10, 6)\n",
        "print(x)"
      ],
      "execution_count": null,
      "outputs": []
    },
    {
      "cell_type": "markdown",
      "metadata": {
        "id": "bkjGnJKEVsdo"
      },
      "source": [
        "#### Get the first number and the last two numbers\n",
        "\n",
        "Slices are inhetently linear and give us access to arrays in a linear fashion.\n",
        "\n",
        "To access elements in any order we must use index arrays which are numpy arrays holding integer numbers which tell what elements to chose from the indexed array."
      ]
    },
    {
      "cell_type": "code",
      "metadata": {
        "id": "GWxn2lx2Vsdp"
      },
      "source": [
        "indices = [0, -2, -1]\n",
        "print(x[indices])"
      ],
      "execution_count": null,
      "outputs": []
    },
    {
      "cell_type": "markdown",
      "metadata": {
        "id": "5RfG_quvVsdr"
      },
      "source": [
        "#### Create two arrays\n",
        "\n",
        "The array `x2` is created as `x1 * -1`. The multiplication operator here means multiply all elements of `x1` with -1 and give back that as result."
      ]
    },
    {
      "cell_type": "code",
      "metadata": {
        "id": "V46GuSJOVsdr"
      },
      "source": [
        "arrayLength = 5\n",
        "x1 = np.arange(arrayLength)\n",
        "x2 = np.arange(arrayLength) * -1\n",
        "\n",
        "print(x1)\n",
        "print(x2)"
      ],
      "execution_count": null,
      "outputs": []
    },
    {
      "cell_type": "markdown",
      "metadata": {
        "id": "Qm54IQiiVsdu"
      },
      "source": [
        "#### Create a random shuffled range of numbers\n",
        "\n",
        "This and the following example shows how to shuffle an array in numpy.\n",
        "\n",
        "Shuffling means reoreding the items in an array and we can do that using random permutations of the array positions."
      ]
    },
    {
      "cell_type": "code",
      "metadata": {
        "id": "-XfqUqd8Vsdv"
      },
      "source": [
        "indices = np.random.permutation(arrayLength)\n",
        "print(indices)"
      ],
      "execution_count": null,
      "outputs": []
    },
    {
      "cell_type": "markdown",
      "metadata": {
        "id": "At69gWFaVsdz"
      },
      "source": [
        "#### Use indices to re-order arrays"
      ]
    },
    {
      "cell_type": "code",
      "metadata": {
        "id": "bqfTE7IEVsd0"
      },
      "source": [
        "print(x1[indices])\n",
        "print(x2[indices])"
      ],
      "execution_count": null,
      "outputs": []
    },
    {
      "cell_type": "markdown",
      "metadata": {
        "id": "JhA7z7NiVsd5"
      },
      "source": [
        "#### Create array of boolean values\n",
        "\n",
        "The main novelty of this example is `print(x > 2)`.\n",
        "\n",
        "`x > 2` generates an array of boolean values where each element is True or False.\n",
        "Having True at position i of the output means that the conditions is satisfied for the element of `x` at position i.\n",
        "\n",
        "For exampe if `x=[0,1,2,3,4]` then `x > 2` would be `[False, False, False, True, True]`.\n",
        "\n",
        "As you see 0 > 2 = False, 1 > 2 = False, 2 > 2 = False, 3 > 2 = True and 4 > 2 = True and that is shown in the output array."
      ]
    },
    {
      "cell_type": "code",
      "metadata": {
        "id": "Wq39t_tDVsd6"
      },
      "source": [
        "x = np.arange(5)\n",
        "print(x)\n",
        "print(x > 2)"
      ],
      "execution_count": null,
      "outputs": []
    },
    {
      "cell_type": "markdown",
      "metadata": {
        "id": "k5Zv-VArVsd8"
      },
      "source": [
        "#### Use boolean values to index arrays\n",
        "\n",
        "Once we have created our boolean array we can use it to index other arrays.\n",
        "\n",
        "The rule is very simple. If at position i of index we have True include `x[i]` in the output."
      ]
    },
    {
      "cell_type": "code",
      "metadata": {
        "id": "E4ea2NQwVsd9"
      },
      "source": [
        "print(x[x > 2])\n",
        "print(x[np.array([False,False,False,True,True])])"
      ],
      "execution_count": null,
      "outputs": []
    },
    {
      "cell_type": "markdown",
      "metadata": {
        "id": "CPA6fxsgVseB"
      },
      "source": [
        "## Array Math"
      ]
    },
    {
      "cell_type": "markdown",
      "metadata": {
        "id": "BXU-_j3XYjIx"
      },
      "source": [
        "#### Try adding to a list"
      ]
    },
    {
      "cell_type": "code",
      "metadata": {
        "id": "77uE0DtkVseC"
      },
      "source": [
        "x = [1, 2, 3, 4]\n",
        "\n",
        "print(x + 10)"
      ],
      "execution_count": null,
      "outputs": []
    },
    {
      "cell_type": "markdown",
      "metadata": {
        "id": "TmH2s9-aVseE"
      },
      "source": [
        "#### Try again with an array\n",
        "\n",
        "When trying with a list you got an error because simple python lists do not support addition with scalars.\n",
        "\n",
        "But numpy arrays do allow that."
      ]
    },
    {
      "cell_type": "code",
      "metadata": {
        "id": "oOmv1DBxVseE"
      },
      "source": [
        "x = np.array(x)\n",
        "\n",
        "print(x)\n",
        "print(x + 10)"
      ],
      "execution_count": null,
      "outputs": []
    },
    {
      "cell_type": "markdown",
      "metadata": {
        "id": "XvwnrdEsVseH"
      },
      "source": [
        "## Exercises"
      ]
    },
    {
      "cell_type": "markdown",
      "metadata": {
        "id": "Xf0nHJl3VseH"
      },
      "source": [
        "#### Create an array from 0 to 26 assign it to a variable x"
      ]
    },
    {
      "cell_type": "code",
      "metadata": {
        "id": "CFzHAXotVseI"
      },
      "source": [],
      "execution_count": null,
      "outputs": []
    },
    {
      "cell_type": "markdown",
      "metadata": {
        "id": "gSpgRMsjVseK"
      },
      "source": [
        "#### Reverse the order of the array and print it out"
      ]
    },
    {
      "cell_type": "code",
      "metadata": {
        "id": "Xg3yZ1yYVseL"
      },
      "source": [],
      "execution_count": null,
      "outputs": []
    },
    {
      "cell_type": "markdown",
      "metadata": {
        "id": "9C0WP05VVseR"
      },
      "source": [
        "#### Convert the 1-dimensional array you created into a 3 dimensional array"
      ]
    },
    {
      "cell_type": "code",
      "metadata": {
        "id": "S1EwyyqfVseS"
      },
      "source": [],
      "execution_count": null,
      "outputs": []
    },
    {
      "cell_type": "markdown",
      "metadata": {
        "id": "30CSoki5VseU"
      },
      "source": [
        "#### Find the index (location) for value 12"
      ]
    },
    {
      "cell_type": "code",
      "metadata": {
        "id": "3en3QEIXVseV"
      },
      "source": [],
      "execution_count": null,
      "outputs": []
    },
    {
      "cell_type": "markdown",
      "metadata": {
        "id": "aIawXcgSVseb"
      },
      "source": [
        "#### Create a random shuffled list of values from 0-19 and assign it to variable y"
      ]
    },
    {
      "cell_type": "code",
      "metadata": {
        "id": "G9hLCgCeVseb"
      },
      "source": [],
      "execution_count": null,
      "outputs": []
    },
    {
      "cell_type": "markdown",
      "metadata": {
        "id": "aRe_-tIOVsee"
      },
      "source": [
        "#### Create an array of boolean values for values in y that are greater than 10"
      ]
    },
    {
      "cell_type": "code",
      "metadata": {
        "id": "wZ3zDBh-Vsee"
      },
      "source": [],
      "execution_count": null,
      "outputs": []
    },
    {
      "cell_type": "markdown",
      "metadata": {
        "id": "r8XL5KlKVseg"
      },
      "source": [
        "#### Create a random sample of 20 data points from a normal distribution with mean of 10 and standard deviation 5"
      ]
    },
    {
      "cell_type": "code",
      "metadata": {
        "id": "zwFXB9qbVseh"
      },
      "source": [],
      "execution_count": null,
      "outputs": []
    }
  ]
}