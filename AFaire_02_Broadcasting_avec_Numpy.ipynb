{
  "cells": [
    {
      "cell_type": "markdown",
      "metadata": {
        "id": "view-in-github",
        "colab_type": "text"
      },
      "source": [
        "<a href=\"https://colab.research.google.com/github/mars241/PYTHON/blob/main/AFaire_02_Broadcasting_avec_Numpy.ipynb\" target=\"_parent\"><img src=\"https://colab.research.google.com/assets/colab-badge.svg\" alt=\"Open In Colab\"/></a>"
      ]
    },
    {
      "cell_type": "code",
      "execution_count": null,
      "metadata": {
        "id": "UvsZLupMLJ7I"
      },
      "outputs": [],
      "source": [
        "import numpy as np"
      ]
    },
    {
      "cell_type": "markdown",
      "metadata": {
        "id": "G_wiM9D4LJ7O"
      },
      "source": [
        "Voici la définition du broadcasting qu'on peut trouver sur le site de Numpy\n",
        "\n",
        "> Le terme `broadcasting` décrit comment numpy traite les tableaux de différentes formes lors des opérations arithmétiques. Sous réserve de certaines contraintes, le plus petit tableau est «diffusé» à travers le plus grand tableau afin qu'ils aient des formes compatibles. La diffusion fournit un moyen de vectoriser les opérations de tableau afin que la boucle se produise en C au lieu de Python. Il le fait sans faire de copies inutiles des données et conduit généralement à des implémentations d'algorithmes efficaces. Il existe cependant des cas où le broadcasting est une mauvaise idée car elle conduit à une utilisation inefficace de la mémoire qui ralentit le calcul."
      ]
    },
    {
      "cell_type": "markdown",
      "metadata": {
        "id": "T35yYhpGLJ7Q"
      },
      "source": [
        "Considérons l'opération suivante:"
      ]
    },
    {
      "cell_type": "code",
      "execution_count": null,
      "metadata": {
        "id": "ctfXvsgALJ7R",
        "outputId": "e77e12e5-ccbc-4092-a75a-bf76c8649795"
      },
      "outputs": [
        {
          "data": {
            "text/plain": [
              "array([5, 6, 7])"
            ]
          },
          "execution_count": 3,
          "metadata": {},
          "output_type": "execute_result"
        }
      ],
      "source": [
        "a = np.array([0, 1, 2])\n",
        "b = np.array([5, 5, 5])\n",
        "a + b # on peut aisément deviner la reponse"
      ]
    },
    {
      "cell_type": "markdown",
      "metadata": {
        "id": "acImluz_LJ7S"
      },
      "source": [
        "Mais qu'en est-il de ceci :"
      ]
    },
    {
      "cell_type": "code",
      "execution_count": null,
      "metadata": {
        "id": "FYBoo7bcLJ7T",
        "outputId": "42a11e2a-8a49-40a5-a006-41fce997d1b9"
      },
      "outputs": [
        {
          "data": {
            "text/plain": [
              "array([[16,  2,  0],\n",
              "       [ 1, 12,  0],\n",
              "       [16,  9,  2]])"
            ]
          },
          "execution_count": 4,
          "metadata": {},
          "output_type": "execute_result"
        }
      ],
      "source": [
        "matrice = np.random.randint(20, size=(3, 3))\n",
        "matrice"
      ]
    },
    {
      "cell_type": "code",
      "execution_count": null,
      "metadata": {
        "id": "Sq9u2e1pLJ7T",
        "outputId": "f203fc09-b098-46d5-9a80-76950e84f509"
      },
      "outputs": [
        {
          "data": {
            "text/plain": [
              "array([0, 1, 2])"
            ]
          },
          "execution_count": 5,
          "metadata": {},
          "output_type": "execute_result"
        }
      ],
      "source": [
        "a"
      ]
    },
    {
      "cell_type": "code",
      "execution_count": null,
      "metadata": {
        "id": "RmyBmQBULJ7U",
        "outputId": "e3a3a990-da91-4e51-97ca-63562fac71a9"
      },
      "outputs": [
        {
          "data": {
            "text/plain": [
              "array([[16,  3,  2],\n",
              "       [ 1, 13,  2],\n",
              "       [16, 10,  4]])"
            ]
          },
          "execution_count": 6,
          "metadata": {},
          "output_type": "execute_result"
        }
      ],
      "source": [
        "matrice + a # ici les 2 tableaux n'ont pas la même taille"
      ]
    },
    {
      "cell_type": "markdown",
      "metadata": {
        "id": "TPnH4yy2LJ7U"
      },
      "source": [
        "Ici s'est produit, le phénomène de broadcasting, la forme du plus petit tableau a été adapté pour avoir la même que la grande. C'est équivalent à ceci :"
      ]
    },
    {
      "cell_type": "code",
      "execution_count": null,
      "metadata": {
        "id": "M1OWLhMDLJ7V",
        "outputId": "e83d773f-5e44-437b-ad92-b75c8b691a14"
      },
      "outputs": [
        {
          "data": {
            "text/plain": [
              "array([[0, 1, 2],\n",
              "       [0, 1, 2],\n",
              "       [0, 1, 2]])"
            ]
          },
          "execution_count": 7,
          "metadata": {},
          "output_type": "execute_result"
        }
      ],
      "source": [
        "np.vstack([a, a, a])"
      ]
    },
    {
      "cell_type": "code",
      "execution_count": null,
      "metadata": {
        "id": "CjP02QUqLJ7V",
        "outputId": "ad7bc6b6-c087-49fb-e1ff-74f74edd00fc"
      },
      "outputs": [
        {
          "data": {
            "text/plain": [
              "array([[16,  3,  2],\n",
              "       [ 1, 13,  2],\n",
              "       [16, 10,  4]])"
            ]
          },
          "execution_count": 8,
          "metadata": {},
          "output_type": "execute_result"
        }
      ],
      "source": [
        "matrice + np.vstack([a, a, a])"
      ]
    },
    {
      "cell_type": "markdown",
      "metadata": {
        "id": "NDyV9zZRLJ7W"
      },
      "source": [
        "Il existe 3 règles à connaitre pour le broadcasting"
      ]
    },
    {
      "cell_type": "markdown",
      "metadata": {
        "id": "NFdBuKt8LJ7W"
      },
      "source": [
        "> Règle 1 : si 2 tableaux ont des ndim différents, le shape de celui avec le ndim inférieur est augmenté par des 1 à gauches pour avoir le même ndim que l'autre"
      ]
    },
    {
      "cell_type": "code",
      "execution_count": null,
      "metadata": {
        "id": "cwcCwBpzLJ7X",
        "outputId": "62658b5c-b7ae-4c83-bf3e-86e60a1c853f"
      },
      "outputs": [
        {
          "data": {
            "text/plain": [
              "array([[5, 0, 5],\n",
              "       [9, 8, 0]])"
            ]
          },
          "execution_count": 9,
          "metadata": {},
          "output_type": "execute_result"
        }
      ],
      "source": [
        "m = np.random.randint(10, size=(2, 3))\n",
        "m"
      ]
    },
    {
      "cell_type": "code",
      "execution_count": null,
      "metadata": {
        "id": "4NeSU3CwLJ7Y",
        "outputId": "02973cc1-9f8d-4c1a-aa21-20f4204d76ad"
      },
      "outputs": [
        {
          "data": {
            "text/plain": [
              "array([0, 1, 2])"
            ]
          },
          "execution_count": 10,
          "metadata": {},
          "output_type": "execute_result"
        }
      ],
      "source": [
        "a"
      ]
    },
    {
      "cell_type": "code",
      "execution_count": null,
      "metadata": {
        "id": "pgg1Nmx-LJ7Y",
        "outputId": "4d15cdde-9b3e-4fb7-a77c-63534809382c"
      },
      "outputs": [
        {
          "data": {
            "text/plain": [
              "array([0, 1, 2])"
            ]
          },
          "execution_count": 11,
          "metadata": {},
          "output_type": "execute_result"
        }
      ],
      "source": [
        "m # (2, 3) --> (2, 3)\n",
        "a # (3)    ---> (1, 3)"
      ]
    },
    {
      "cell_type": "markdown",
      "metadata": {
        "id": "_6r7xDA8LJ7Z"
      },
      "source": [
        "> Règle 2 : Si le shape de 2 tableaux n'est pas égale dans une dimension quelconque, celui qui a un 1 à cette dimension est étendu pour atteindre le nombre d'éléments que l'autre a à cette dimension"
      ]
    },
    {
      "cell_type": "code",
      "execution_count": null,
      "metadata": {
        "id": "2TErEh4ILJ7Z"
      },
      "outputs": [],
      "source": [
        "m # (2, 3) --> (2, 3)  ---> (2, 3)\n",
        "a # (3)    ---> (1, 3)  ---->(2, 3) #grace à vstack"
      ]
    },
    {
      "cell_type": "code",
      "execution_count": null,
      "metadata": {
        "id": "mNtJ0e9uLJ7a",
        "outputId": "a59fe31b-0e35-4dab-f24f-647dcb1f01eb"
      },
      "outputs": [
        {
          "data": {
            "text/plain": [
              "array([[0, 1, 2],\n",
              "       [0, 1, 2]])"
            ]
          },
          "execution_count": 12,
          "metadata": {},
          "output_type": "execute_result"
        }
      ],
      "source": [
        "np.vstack([a, a])"
      ]
    },
    {
      "cell_type": "code",
      "execution_count": null,
      "metadata": {
        "id": "3HSwpYPyLJ7b",
        "outputId": "875c5c57-ecce-4d00-8963-af4ccca53505"
      },
      "outputs": [
        {
          "data": {
            "text/plain": [
              "array([[5, 1, 7],\n",
              "       [9, 9, 2]])"
            ]
          },
          "execution_count": 13,
          "metadata": {},
          "output_type": "execute_result"
        }
      ],
      "source": [
        "m + a"
      ]
    },
    {
      "cell_type": "markdown",
      "metadata": {
        "id": "s5yQBcmELJ7b"
      },
      "source": [
        "Un autre exemple"
      ]
    },
    {
      "cell_type": "code",
      "execution_count": null,
      "metadata": {
        "id": "y5yiwucbLJ7d",
        "outputId": "fef1542c-55b3-4396-ef3e-a9868fc944a2"
      },
      "outputs": [
        {
          "data": {
            "text/plain": [
              "array([[0],\n",
              "       [1],\n",
              "       [2]])"
            ]
          },
          "execution_count": 14,
          "metadata": {},
          "output_type": "execute_result"
        }
      ],
      "source": [
        "m = np.arange(3).reshape((3, 1))\n",
        "m"
      ]
    },
    {
      "cell_type": "code",
      "execution_count": null,
      "metadata": {
        "id": "EcqNiKQBLJ7e",
        "outputId": "2bfadaa7-7706-45b1-b340-6b9bb039e80a"
      },
      "outputs": [
        {
          "data": {
            "text/plain": [
              "array([1, 2, 1])"
            ]
          },
          "execution_count": 15,
          "metadata": {},
          "output_type": "execute_result"
        }
      ],
      "source": [
        "h = np.random.randint(3, size=(3,))\n",
        "h"
      ]
    },
    {
      "cell_type": "code",
      "execution_count": null,
      "metadata": {
        "id": "SFaFukxYLJ7f"
      },
      "outputs": [],
      "source": [
        "m.shape = (3, 1)\n",
        "h.shape = (3, )"
      ]
    },
    {
      "cell_type": "code",
      "execution_count": null,
      "metadata": {
        "id": "R2-vX2ZjLJ7g"
      },
      "outputs": [],
      "source": [
        "# Regle 1\n",
        "m.shape = (3, 1)\n",
        "h.shape = (1, 3)"
      ]
    },
    {
      "cell_type": "code",
      "execution_count": null,
      "metadata": {
        "id": "PhAvmSq6LJ7h",
        "outputId": "f2541112-4ec2-4373-e4ed-b11ed25dd84d"
      },
      "outputs": [
        {
          "data": {
            "text/plain": [
              "array([[1, 2, 1]])"
            ]
          },
          "execution_count": 16,
          "metadata": {},
          "output_type": "execute_result"
        }
      ],
      "source": [
        "h.reshape((1, 3))"
      ]
    },
    {
      "cell_type": "code",
      "execution_count": null,
      "metadata": {
        "id": "DqF-9yN_LJ7h",
        "outputId": "b37c1279-49c7-417b-90ec-2d24992e73d1"
      },
      "outputs": [
        {
          "data": {
            "text/plain": [
              "array([[1, 2, 1],\n",
              "       [1, 2, 1],\n",
              "       [1, 2, 1]])"
            ]
          },
          "execution_count": 17,
          "metadata": {},
          "output_type": "execute_result"
        }
      ],
      "source": [
        "np.vstack([h.reshape((1, 3))]* 3)"
      ]
    },
    {
      "cell_type": "code",
      "execution_count": null,
      "metadata": {
        "id": "yym_ljYVLJ7i"
      },
      "outputs": [],
      "source": [
        "# Regle 2\n",
        "m.shape = (3, 1)\n",
        "h.shape = (3, 3)"
      ]
    },
    {
      "cell_type": "code",
      "execution_count": null,
      "metadata": {
        "id": "V805KC0wLJ7i",
        "outputId": "8df2effc-a405-48bb-9294-74fad9e6febe"
      },
      "outputs": [
        {
          "data": {
            "text/plain": [
              "array([[0],\n",
              "       [1],\n",
              "       [2]])"
            ]
          },
          "execution_count": 18,
          "metadata": {},
          "output_type": "execute_result"
        }
      ],
      "source": [
        "m"
      ]
    },
    {
      "cell_type": "code",
      "execution_count": null,
      "metadata": {
        "id": "gG82PilFLJ7i",
        "outputId": "9c2afd3c-aa51-4a02-baf0-cf7c93b3c1f3"
      },
      "outputs": [
        {
          "data": {
            "text/plain": [
              "array([[0, 0, 0],\n",
              "       [1, 1, 1],\n",
              "       [2, 2, 2]])"
            ]
          },
          "execution_count": 19,
          "metadata": {},
          "output_type": "execute_result"
        }
      ],
      "source": [
        "np.hstack([m, m, m])"
      ]
    },
    {
      "cell_type": "code",
      "execution_count": null,
      "metadata": {
        "id": "0LO15HApLJ7j"
      },
      "outputs": [],
      "source": [
        "# Regle 2\n",
        "m.shape = (3, 3)\n",
        "h.shape = (3, 3)"
      ]
    },
    {
      "cell_type": "code",
      "execution_count": null,
      "metadata": {
        "id": "kIUmjSUpLJ7j",
        "outputId": "1a5178a3-60d0-4d86-9658-2fab8e93acea"
      },
      "outputs": [
        {
          "data": {
            "text/plain": [
              "array([[1, 2, 1],\n",
              "       [1, 2, 1],\n",
              "       [1, 2, 1]])"
            ]
          },
          "execution_count": 20,
          "metadata": {},
          "output_type": "execute_result"
        }
      ],
      "source": [
        "np.vstack([h.reshape((1, 3)),  h.reshape((1, 3)),  h.reshape((1, 3))])"
      ]
    },
    {
      "cell_type": "code",
      "execution_count": null,
      "metadata": {
        "id": "Dq9GatlcLJ7k",
        "outputId": "23734b18-bd64-4953-ddf9-4157672f6cb8"
      },
      "outputs": [
        {
          "data": {
            "text/plain": [
              "array([[1, 2, 1],\n",
              "       [2, 3, 2],\n",
              "       [3, 4, 3]])"
            ]
          },
          "execution_count": 21,
          "metadata": {},
          "output_type": "execute_result"
        }
      ],
      "source": [
        "m + h"
      ]
    },
    {
      "cell_type": "markdown",
      "metadata": {
        "id": "ZhunNxLtLJ7k"
      },
      "source": [
        "Encore un exemple :"
      ]
    },
    {
      "cell_type": "code",
      "execution_count": null,
      "metadata": {
        "id": "_ykCWBk2LJ7k",
        "outputId": "6f3f7e54-cb67-45e5-c875-7d3c223b910f"
      },
      "outputs": [
        {
          "data": {
            "text/plain": [
              "array([[1., 1.],\n",
              "       [1., 1.],\n",
              "       [1., 1.]])"
            ]
          },
          "execution_count": 22,
          "metadata": {},
          "output_type": "execute_result"
        }
      ],
      "source": [
        "m = np.ones((3, 2))\n",
        "m"
      ]
    },
    {
      "cell_type": "code",
      "execution_count": null,
      "metadata": {
        "id": "B_Dg2hxnLJ7k",
        "outputId": "bebfe6f4-e70b-4aaa-cea9-884da9687804"
      },
      "outputs": [
        {
          "data": {
            "text/plain": [
              "array([0, 1, 2])"
            ]
          },
          "execution_count": 23,
          "metadata": {},
          "output_type": "execute_result"
        }
      ],
      "source": [
        "j = np.arange(3)\n",
        "j"
      ]
    },
    {
      "cell_type": "code",
      "execution_count": null,
      "metadata": {
        "id": "aEwOrDgHLJ7l"
      },
      "outputs": [],
      "source": [
        "m.shape = (3, 2)\n",
        "j.shape = (3)"
      ]
    },
    {
      "cell_type": "code",
      "execution_count": null,
      "metadata": {
        "id": "qVsRQ7v2LJ7l"
      },
      "outputs": [],
      "source": [
        "Règle 1\n",
        "m.shape = (3, 2)\n",
        "j.shape = (1, 3) # j.reshape((1, 3))"
      ]
    },
    {
      "cell_type": "code",
      "execution_count": null,
      "metadata": {
        "id": "vF2ralAMLJ7l",
        "outputId": "16069fed-37c8-484e-ca91-68183d6b7176"
      },
      "outputs": [
        {
          "data": {
            "text/plain": [
              "array([[0, 1, 2],\n",
              "       [0, 1, 2],\n",
              "       [0, 1, 2]])"
            ]
          },
          "execution_count": 24,
          "metadata": {},
          "output_type": "execute_result"
        }
      ],
      "source": [
        "np.vstack([j.reshape((1, 3)),  j.reshape((1, 3)),  j.reshape((1, 3))])"
      ]
    },
    {
      "cell_type": "code",
      "execution_count": null,
      "metadata": {
        "id": "cmDNnQwKLJ7m"
      },
      "outputs": [],
      "source": [
        "Règle 2\n",
        "m.shape = (3, 2)\n",
        "j.shape = (3, 3)"
      ]
    },
    {
      "cell_type": "code",
      "execution_count": null,
      "metadata": {
        "id": "mtOeqiaxLJ7m",
        "outputId": "f9e549db-11e3-4956-97d8-5dc6128a689e"
      },
      "outputs": [
        {
          "ename": "ValueError",
          "evalue": "operands could not be broadcast together with shapes (3,2) (3,) ",
          "output_type": "error",
          "traceback": [
            "\u001b[0;31m---------------------------------------------------------------------------\u001b[0m",
            "\u001b[0;31mValueError\u001b[0m                                Traceback (most recent call last)",
            "\u001b[0;32m<ipython-input-25-59c7aac06f5e>\u001b[0m in \u001b[0;36m<module>\u001b[0;34m\u001b[0m\n\u001b[0;32m----> 1\u001b[0;31m \u001b[0mm\u001b[0m \u001b[0;34m+\u001b[0m \u001b[0mj\u001b[0m\u001b[0;34m\u001b[0m\u001b[0;34m\u001b[0m\u001b[0m\n\u001b[0m",
            "\u001b[0;31mValueError\u001b[0m: operands could not be broadcast together with shapes (3,2) (3,) "
          ]
        }
      ],
      "source": [
        "m + j"
      ]
    },
    {
      "cell_type": "code",
      "execution_count": null,
      "metadata": {
        "id": "jGQYDfLXLJ7m",
        "outputId": "20cd96e2-85c3-4856-f8ac-340146cda23b"
      },
      "outputs": [
        {
          "data": {
            "text/plain": [
              "array([[1., 1.],\n",
              "       [1., 1.],\n",
              "       [1., 1.]])"
            ]
          },
          "execution_count": 26,
          "metadata": {},
          "output_type": "execute_result"
        }
      ],
      "source": [
        "m"
      ]
    },
    {
      "cell_type": "code",
      "execution_count": null,
      "metadata": {
        "id": "uNsLCnbhLJ7n",
        "outputId": "74fbbfa5-8437-41fd-f8fc-37851afc68dd"
      },
      "outputs": [
        {
          "data": {
            "text/plain": [
              "array([0, 1, 2])"
            ]
          },
          "execution_count": 27,
          "metadata": {},
          "output_type": "execute_result"
        }
      ],
      "source": [
        "j"
      ]
    },
    {
      "cell_type": "markdown",
      "metadata": {
        "id": "6cCCPWTuLJ7n"
      },
      "source": [
        "> Règle 3 : Si après Règle 1 et 2, les shapes, ne sont pas les mêmes, alors calcul impossible"
      ]
    },
    {
      "cell_type": "markdown",
      "metadata": {
        "id": "y5BMg00yLJ7n"
      },
      "source": [
        "# Utilité de brodcast"
      ]
    },
    {
      "cell_type": "code",
      "execution_count": null,
      "metadata": {
        "id": "NY8mS563LJ7o",
        "outputId": "6d60c6a5-b0bf-4442-d30f-aa1cd41ceaa6"
      },
      "outputs": [
        {
          "data": {
            "text/plain": [
              "array([[233, 160,  20],\n",
              "       [ 88,  51,  86],\n",
              "       [160, 253, 188],\n",
              "       [205, 253,  65],\n",
              "       [234, 111, 250],\n",
              "       [155, 186, 172]])"
            ]
          },
          "execution_count": 28,
          "metadata": {},
          "output_type": "execute_result"
        }
      ],
      "source": [
        "x = np.random.randint(255, size=(6, 3))\n",
        "x"
      ]
    },
    {
      "cell_type": "code",
      "execution_count": null,
      "metadata": {
        "id": "GfkoiZjSLJ7o",
        "outputId": "1f24ab56-13b9-42d6-8f86-c38ee379bc0f"
      },
      "outputs": [
        {
          "data": {
            "text/plain": [
              "array([179.16666667, 169.        , 130.16666667])"
            ]
          },
          "execution_count": 29,
          "metadata": {},
          "output_type": "execute_result"
        }
      ],
      "source": [
        "xmean = x.mean(axis=0)\n",
        "xmean"
      ]
    },
    {
      "cell_type": "code",
      "execution_count": null,
      "metadata": {
        "id": "cxmFmOs5LJ7o",
        "outputId": "9746add2-787d-4a62-9a09-498cfd83c10e"
      },
      "outputs": [
        {
          "data": {
            "text/plain": [
              "(6, 3)"
            ]
          },
          "execution_count": 30,
          "metadata": {},
          "output_type": "execute_result"
        }
      ],
      "source": [
        "x.shape"
      ]
    },
    {
      "cell_type": "code",
      "execution_count": null,
      "metadata": {
        "id": "XtiqKdazLJ7p",
        "outputId": "07359c7e-f436-4163-87a4-c183e4767354"
      },
      "outputs": [
        {
          "data": {
            "text/plain": [
              "(3,)"
            ]
          },
          "execution_count": 31,
          "metadata": {},
          "output_type": "execute_result"
        }
      ],
      "source": [
        "xmean.shape"
      ]
    },
    {
      "cell_type": "code",
      "execution_count": null,
      "metadata": {
        "id": "pwhkez5NLJ7p",
        "outputId": "faf4edaa-5394-4801-acb5-c14592f4045a"
      },
      "outputs": [
        {
          "data": {
            "text/plain": [
              "array([51.37254996, 72.76675065, 79.36081457])"
            ]
          },
          "execution_count": 32,
          "metadata": {},
          "output_type": "execute_result"
        }
      ],
      "source": [
        "xstd = x.std(axis=0)\n",
        "xstd"
      ]
    },
    {
      "cell_type": "code",
      "execution_count": null,
      "metadata": {
        "id": "ZSqh5oISLJ7q",
        "outputId": "eb738ae0-544b-4b13-d8d1-e079788e6501"
      },
      "outputs": [
        {
          "data": {
            "text/plain": [
              "array([[ 1.04790074, -0.12368286, -1.3881746 ],\n",
              "       [-1.77461829, -1.62161975, -0.55652991],\n",
              "       [-0.3730916 ,  1.15437338,  0.72873916],\n",
              "       [ 0.50286259,  1.15437338, -0.82114413],\n",
              "       [ 1.06736639, -0.79706733,  1.50998114],\n",
              "       [-0.47041984,  0.23362318,  0.52712833]])"
            ]
          },
          "execution_count": 33,
          "metadata": {},
          "output_type": "execute_result"
        }
      ],
      "source": [
        "x_centre_et_reduit = (x - xmean) / xstd\n",
        "x_centre_et_reduit"
      ]
    },
    {
      "cell_type": "markdown",
      "metadata": {
        "id": "vfKy9VWMLJ7q"
      },
      "source": [
        "# Plus : Fancy Indexing"
      ]
    },
    {
      "cell_type": "code",
      "execution_count": null,
      "metadata": {
        "id": "Rcj_r9OrLJ7q",
        "outputId": "1e287428-15a9-4d0f-e673-e83e625d712e"
      },
      "outputs": [
        {
          "data": {
            "text/plain": [
              "array([79, 22, 48,  3, 95])"
            ]
          },
          "execution_count": 35,
          "metadata": {},
          "output_type": "execute_result"
        }
      ],
      "source": [
        "x = np.random.randint(100, size=(5))\n",
        "x"
      ]
    },
    {
      "cell_type": "code",
      "execution_count": null,
      "metadata": {
        "id": "hW_NTXdQLJ7q",
        "outputId": "0574b1dc-59d6-4e41-9778-97139ef20156"
      },
      "outputs": [
        {
          "data": {
            "text/plain": [
              "(array([79, 22]), array([48,  3]))"
            ]
          },
          "execution_count": 36,
          "metadata": {},
          "output_type": "execute_result"
        }
      ],
      "source": [
        "x[:2], x[2:4]"
      ]
    },
    {
      "cell_type": "code",
      "execution_count": null,
      "metadata": {
        "id": "_sR7R2AdLJ7r",
        "outputId": "0f4d68b6-7eae-45e2-a062-9ab3ee14c05f"
      },
      "outputs": [
        {
          "data": {
            "text/plain": [
              "array([22,  3])"
            ]
          },
          "execution_count": 37,
          "metadata": {},
          "output_type": "execute_result"
        }
      ],
      "source": [
        "x[1:4:2]"
      ]
    },
    {
      "cell_type": "code",
      "execution_count": null,
      "metadata": {
        "id": "hEp3AtUFLJ7r",
        "outputId": "82a154b9-eb31-4109-d6da-30f8da7b00f8"
      },
      "outputs": [
        {
          "data": {
            "text/plain": [
              "array([79, 22, 95])"
            ]
          },
          "execution_count": 38,
          "metadata": {},
          "output_type": "execute_result"
        }
      ],
      "source": [
        "x[[0,1,-1] ] # ceci est le fancy indexing. On indexe avec une liste des index de chaque élément"
      ]
    },
    {
      "cell_type": "code",
      "execution_count": null,
      "metadata": {
        "id": "b7fVx3q0LJ7r",
        "outputId": "99953491-f271-479e-f528-cb150e7851ba"
      },
      "outputs": [
        {
          "data": {
            "text/plain": [
              "array([[11, 88, 17],\n",
              "       [38, 37, 71],\n",
              "       [53, 23, 66],\n",
              "       [18,  4, 62],\n",
              "       [89, 89,  3],\n",
              "       [92, 97, 88]])"
            ]
          },
          "execution_count": 34,
          "metadata": {},
          "output_type": "execute_result"
        }
      ],
      "source": [
        "data = np.random.randint(100, size=(6, 3))\n",
        "data"
      ]
    },
    {
      "cell_type": "code",
      "execution_count": null,
      "metadata": {
        "id": "l_7hA1FSLJ7s",
        "outputId": "8e5d881c-0989-4a49-b58d-69d51b1da1bb"
      },
      "outputs": [
        {
          "data": {
            "text/plain": [
              "array([[11, 17],\n",
              "       [38, 71],\n",
              "       [53, 66],\n",
              "       [18, 62],\n",
              "       [89,  3],\n",
              "       [92, 88]])"
            ]
          },
          "execution_count": 39,
          "metadata": {},
          "output_type": "execute_result"
        }
      ],
      "source": [
        "data[:, [0, 2],  ]"
      ]
    },
    {
      "cell_type": "code",
      "execution_count": null,
      "metadata": {
        "id": "gj2YYVyjLJ7s",
        "outputId": "fd7fb6b0-c444-4f49-f205-22a17238f302"
      },
      "outputs": [
        {
          "data": {
            "text/plain": [
              "array([[17, 11],\n",
              "       [71, 38],\n",
              "       [66, 53],\n",
              "       [62, 18],\n",
              "       [ 3, 89],\n",
              "       [88, 92]])"
            ]
          },
          "execution_count": 40,
          "metadata": {},
          "output_type": "execute_result"
        }
      ],
      "source": [
        "data[:, [2,0]]"
      ]
    },
    {
      "cell_type": "code",
      "execution_count": null,
      "metadata": {
        "id": "CnNtHCp1LJ7u",
        "outputId": "5a116371-27e7-4889-be0a-9e1db824cd17"
      },
      "outputs": [
        {
          "data": {
            "text/plain": [
              "array([[53, 23, 66],\n",
              "       [38, 37, 71],\n",
              "       [89, 89,  3]])"
            ]
          },
          "execution_count": 41,
          "metadata": {},
          "output_type": "execute_result"
        }
      ],
      "source": [
        "data[[2,1, 4] , :]"
      ]
    },
    {
      "cell_type": "code",
      "execution_count": null,
      "metadata": {
        "id": "KaNP-D9qLJ7v"
      },
      "outputs": [],
      "source": []
    }
  ],
  "metadata": {
    "kernelspec": {
      "display_name": "Python 3",
      "language": "python",
      "name": "python3"
    },
    "language_info": {
      "codemirror_mode": {
        "name": "ipython",
        "version": 3
      },
      "file_extension": ".py",
      "mimetype": "text/x-python",
      "name": "python",
      "nbconvert_exporter": "python",
      "pygments_lexer": "ipython3",
      "version": "3.7.6"
    },
    "colab": {
      "provenance": [],
      "include_colab_link": true
    }
  },
  "nbformat": 4,
  "nbformat_minor": 0
}