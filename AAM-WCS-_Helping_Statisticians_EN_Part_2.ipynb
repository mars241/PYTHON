{
  "nbformat": 4,
  "nbformat_minor": 0,
  "metadata": {
    "colab": {
      "provenance": [],
      "include_colab_link": true
    },
    "kernelspec": {
      "name": "python3",
      "display_name": "Python 3"
    }
  },
  "cells": [
    {
      "cell_type": "markdown",
      "metadata": {
        "id": "view-in-github",
        "colab_type": "text"
      },
      "source": [
        "<a href=\"https://colab.research.google.com/github/mars241/PYTHON/blob/main/AAM-WCS-_Helping_Statisticians_EN_Part_2.ipynb\" target=\"_parent\"><img src=\"https://colab.research.google.com/assets/colab-badge.svg\" alt=\"Open In Colab\"/></a>"
      ]
    },
    {
      "cell_type": "markdown",
      "metadata": {
        "id": "co2X9cGIieV0"
      },
      "source": [
        "# Help for statisticians!\n",
        "\n",
        "Your fellow statisticians need you. They want to learn how to program in Python and have tons of calculations to do.\n",
        "\n",
        "Very kindly, you agree to help them. Complete the missions below.\n",
        "\n"
      ]
    },
    {
      "cell_type": "markdown",
      "metadata": {
        "id": "CLFkEk_Fm9d4"
      },
      "source": [
        "### For all functions below, please add an extra cell where you actually call the function on at least two different inputs and displays the returned value (if the function doesn't already display stuff)."
      ]
    },
    {
      "cell_type": "code",
      "metadata": {
        "id": "pIoUqiKynBbe",
        "colab": {
          "base_uri": "https://localhost:8080/"
        },
        "outputId": "e619ef65-d6be-41c5-d2c9-72dc71b2282a"
      },
      "source": [
        "# Mission 9: Create a function that takes a day as a parameter and returns the next day (i.e. for Sunday it would return Monday). \n",
        "# You can use lists or dictionaries to solve this.\n",
        "\n",
        "# Mission 9 : Créez une fonction qui prend un jour en paramètre et renvoie le jour suivant (par exemple, pour un dimanche, elle renverrait lundi). \n",
        "# Vous pouvez utiliser des listes ou des dictionnaires pour résoudre ce problème.\n",
        "# Choix des listes\n",
        "j=str(input(\"Donnez un jour de la semaine(idéalement le jour d'aujourhui): \"))\n",
        "week = ['lundi','mardi','mercredi','jeudi','vendredi','samedi','dimanche']\n",
        "for pos,val in enumerate(week): #deux paramètres parcours la liste \"week\" la fct enumerate\n",
        "  if j==val: # Cas de jour suivant de lundi à samedi\n",
        "    print(\"Demain c'est:\",week[pos+1])\n",
        "  if j==week[len(week)-1]:# cas du jour suivant \"dimanche\"\n",
        "    print(\"Demain c'est:\",week[0])\n",
        "print(\"des\",len(week),\"jour de la semaine\")"
      ],
      "execution_count": null,
      "outputs": [
        {
          "output_type": "stream",
          "name": "stdout",
          "text": [
            "Donnez un jour de la semaine(idéalement le jour d'aujourhui): jeudi\n",
            "Demain c'est: vendredi\n",
            "des 7 jour de la semaine\n"
          ]
        }
      ]
    },
    {
      "cell_type": "code",
      "metadata": {
        "id": "68rX-Y0AnGiR",
        "colab": {
          "base_uri": "https://localhost:8080/"
        },
        "outputId": "ba4b0c54-ecb0-49e0-df79-698759070dc8"
      },
      "source": [
        "# Mission 10: Create a function that fills an empty list with values (words) from the following string : \n",
        "# \"After twelve soft showers are the arch-duchess' socks dry, arch-dry?\"\n",
        "\n",
        "# Mission 10 : Créer une fonction qui remplit une liste vide avec les valeurs (mots) de la chaîne suivante : \n",
        "# \"Après douze douches douces, les chaussettes de l'archiduchesse sont-elles sèches, archi-sèches ?\"\n",
        "def cut_txt(mystring):\n",
        "  return [x for x in mystring.split(\" \")] #Retourner en coupant dès qu'il y a un vide\n",
        "  \n",
        "cut_txt(\"Après douze douches douces, les chaussettes de l'archiduchesse sont-elles sèches, archi-sèches ?\")"
      ],
      "execution_count": null,
      "outputs": [
        {
          "output_type": "execute_result",
          "data": {
            "text/plain": [
              "['Après',\n",
              " 'douze',\n",
              " 'douches',\n",
              " 'douces,',\n",
              " 'les',\n",
              " 'chaussettes',\n",
              " 'de',\n",
              " \"l'archiduchesse\",\n",
              " 'sont-elles',\n",
              " 'sèches,',\n",
              " 'archi-sèches',\n",
              " '?']"
            ]
          },
          "metadata": {},
          "execution_count": 6
        }
      ]
    },
    {
      "cell_type": "code",
      "metadata": {
        "id": "YGNoBYBEnLAx",
        "colab": {
          "base_uri": "https://localhost:8080/",
          "height": 36
        },
        "outputId": "cc378069-7c65-4eab-fe16-71c5421eb49e"
      },
      "source": [
        "# Mission 11: Create a function that takes a string as a parameter, and returns the same string, where every other letter\n",
        "# is written in uppercase, unless it's a consonant.\n",
        "# Example: antithetical -> AntithEtIcAl\n",
        "# Example: marvelously -> marvElOuslY\n",
        "\n",
        "# Mission 11 : Créez une fonction qui prend une chaîne de caractères comme paramètre et renvoie la même chaîne, où une lettre sur deux\n",
        "# est écrite en majuscule, sauf si c'est une consonne.\n",
        "# Exemple: antithetical -> AntithEtIcAl\n",
        "# Exemple: marvelously -> marvElOuslY\n",
        "\n",
        "def funct_2up_lettre(txt):\n",
        "\n",
        "  txt = txt.lower()\n",
        "  lst = []\n",
        "\n",
        "  for index, letter in enumerate(txt): # index & letter/element sont des fct prédéfinie: index=position  & element=valeur(ici str) d'une chaîne de caractère\n",
        "    if index % 2 == 0 and letter in \"aeiouy\": #\"index % 2==0\" équivalent \"lst[::2]\" (index paire)\n",
        "          lst.append(letter.upper()) # append()= ajouter à la fin= surfixe  & upper(): mettre en majuscule\n",
        "    else:\n",
        "      lst.append(letter)\n",
        "\n",
        "  return \"\".join(lst) # joindre toutes les lettres traitées(majuscule) ou non\n",
        "\n",
        "funct_2up_lettre('marvelously')\n"
      ],
      "execution_count": null,
      "outputs": [
        {
          "output_type": "execute_result",
          "data": {
            "text/plain": [
              "'marvElOuslY'"
            ],
            "application/vnd.google.colaboratory.intrinsic+json": {
              "type": "string"
            }
          },
          "metadata": {},
          "execution_count": 7
        }
      ]
    },
    {
      "cell_type": "code",
      "metadata": {
        "id": "IJCr_jvwnOCh",
        "colab": {
          "base_uri": "https://localhost:8080/"
        },
        "outputId": "91cd8781-faaa-4a5f-d07c-a7c3e1e4863b"
      },
      "source": [
        "# Mission 12: Create a function that takes a number n as parameter, and then returns a list containing n lists, each containing n empty lists.\n",
        "\n",
        "# Mission 12 : Créez une fonction qui prend un nombre n comme paramètre, puis retourne une liste contenant n listes, chacune contenant n listes vides.\n",
        "\n",
        "\n",
        "def create_lists(nbr_list):\n",
        "    intermediaire_list = []\n",
        "    final_list = []\n",
        "    for i in range(nbr_list):\n",
        "        intermediaire_list[:]=[] # \"liste[:] = []\" <=> vide la liste, est équivalent à \".append([])\" \n",
        "    for i in range(nbr_list):\n",
        "        final_list.append(intermediaire_list)\n",
        "    return final_list\n",
        "\n",
        "create_lists(5)"
      ],
      "execution_count": null,
      "outputs": [
        {
          "output_type": "execute_result",
          "data": {
            "text/plain": [
              "[[], [], [], [], []]"
            ]
          },
          "metadata": {},
          "execution_count": 8
        }
      ]
    },
    {
      "cell_type": "code",
      "metadata": {
        "id": "xjYGsODEnSb2",
        "colab": {
          "base_uri": "https://localhost:8080/"
        },
        "outputId": "77a6bb49-63f9-4510-f846-744e863b8770"
      },
      "source": [
        "# Mission 13: Create a function that takes two inputs, their year of birth and first name.\n",
        "# Convert the year of birth into an int and subtract it from the current year (you can do it using a certain module :-P).\n",
        "# Then display the message: Hello [first name], today you are (or you will be this year) [age] years old.\n",
        "# When testing the function, ask the user for the parameters!\n",
        "\n",
        "# Mission 13 : Créer une fonction qui prend deux entrées, l'année de naissance et le prénom.\n",
        "# Convertissez l'année de naissance en un int et soustrayez-la de l'année en cours (vous pouvez le faire en utilisant un certain module :-P).\n",
        "# Puis afficher le message : Bonjour [prénom], aujourd'hui vous avez (ou vous aurez cette année) [âge] ans.\n",
        "# Lorsque vous testez la fonction, demandez les paramètres à l'utilisateur !\n",
        "\n",
        "# OPERATIONs sur la variable de type \"Datetime\" = VARIABLE TEMPORELLES\n",
        "# importons le module relatif au traitement du des variables de type \"Datetime\" avec l'alias(speudo) \"dt\"\n",
        "import datetime as dt\n",
        "\n",
        "#la fct now() pour le temps qu'il fait\n",
        "#x = datetime.datetime.now() \n",
        "#Affichez la date actuelle : la DATE & l\"HEURE\n",
        "#print(x)\n",
        "\n",
        "#Donner l'année \n",
        "#print(x.year)\n",
        "\n",
        "#Donner le jour actuel\n",
        "#print(x.strftime(\"%A\"))\n",
        "\n",
        "annee_courante = dt.datetime.today().year # On peut aussi utiliser \"today()\" à la place de \"now()\"\n",
        "\n",
        "def you_age():\n",
        "  annee_naiss = int(input('Saisissez votre année de naissance SVP : '))\n",
        "  prenm = input('Saisissez votre prénom SVP : ')\n",
        "  return print ('Hé!', prenm, 'Ce jour vous avez', (annee_courante - annee_naiss), 'an(s).')\n",
        "\n",
        "you_age()"
      ],
      "execution_count": null,
      "outputs": [
        {
          "output_type": "stream",
          "name": "stdout",
          "text": [
            "Saisissez votre année de naissance SVP : 1988\n",
            "Saisissez votre prénom SVP : Marcia\n",
            "Hé! Marcia Ce jour vous avez 35 an(s).\n"
          ]
        }
      ]
    }
  ]
}