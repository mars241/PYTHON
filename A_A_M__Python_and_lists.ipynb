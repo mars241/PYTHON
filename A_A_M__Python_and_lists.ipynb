{
  "nbformat": 4,
  "nbformat_minor": 0,
  "metadata": {
    "colab": {
      "provenance": [],
      "include_colab_link": true
    },
    "kernelspec": {
      "name": "python3",
      "display_name": "Python 3"
    }
  },
  "cells": [
    {
      "cell_type": "markdown",
      "metadata": {
        "id": "view-in-github",
        "colab_type": "text"
      },
      "source": [
        "<a href=\"https://colab.research.google.com/github/mars241/PYTHON/blob/main/A_A_M__Python_and_lists.ipynb\" target=\"_parent\"><img src=\"https://colab.research.google.com/assets/colab-badge.svg\" alt=\"Open In Colab\"/></a>"
      ]
    },
    {
      "cell_type": "markdown",
      "source": [
        "**Preliminary note:** sometimes, the challenge tells you to do something that is incompatible with some input (for instance, you ask for a position but the user enters some text, or an invalid number).\n",
        "\n",
        "Here you can assume that all user input goes according to plan (the \"happy path\"). If you want an extra **optional** challenge, feel free to manage possible error cases!\n",
        "\n",
        "TRAD:\n",
        "**Remarque préliminaire : parfois, le défi vous dit de faire quelque chose qui est incompatible avec certaines entrées (par exemple, vous demandez une position mais l'utilisateur entre du texte, ou un nombre invalide).**\n",
        "\n",
        "**Dans ce cas, vous pouvez supposer que toutes les entrées de l'utilisateur se déroulent comme prévu (le \"chemin heureux\"). Si vous voulez un défi supplémentaire facultatif, n'hésitez pas à gérer les cas d'erreur possibles !**"
      ],
      "metadata": {
        "id": "1LeJKHt8Hd9O"
      }
    },
    {
      "cell_type": "markdown",
      "metadata": {
        "id": "LoJw-LlCTnWF"
      },
      "source": [
        "# Mission 1\n",
        "\n",
        "Define a list, then display only the elements (and their position) that have even positions (0, 2, 4, 6...).\n",
        "\n",
        "With `test_list = [\"a\", \"b\", \"c\", \"d\", \"e\"]`, the script should display:\n",
        "\n",
        "TRAD:\n",
        "**Définissez une liste, puis affichez seulement les éléments (et leur position) qui ont des positions paires (0, 2, 4, 6...).**\n",
        "\n",
        "**Avec test_list = [\"a\", \"b\", \"c\", \"d\", \"e\"], le script devrait afficher :**\n",
        "```\n",
        "a at position 0\n",
        "c at position 2\n",
        "e at position 4\n",
        "```"
      ]
    },
    {
      "cell_type": "code",
      "metadata": {
        "id": "C2Lk113KSPUO",
        "colab": {
          "base_uri": "https://localhost:8080/"
        },
        "outputId": "2b4c7c07-50ee-4124-d2ca-13152c9bee4d"
      },
      "source": [
        "test_list = [\"a\", \"b\", \"c\", \"d\", \"e\"]\n",
        "\n",
        "# Your code here\n",
        "# List[::n]Prendre/Retire chaque nième élément d'une liste pour les afficher en sous-emsemble de liste.\n",
        "# Que faire si l'on veut avoir seulement chaque 2ième élément d'un liste ? C'est là que le paramètre step \"::\" entre en jeu ;\n",
        "# Si vous voulez en plus récupérer l'index, vous pouvez utiliser la fonction enumerate :\n",
        "\n",
        "for index, lettre in enumerate(test_list):\n",
        "  print(index, lettre) #Affiche chaque index et sa lettre côte à côte\n",
        "test_list[::2] # Affiche que les élements de la liste dont l'index fait un pas de 2(d'indice paire)\n",
        "\n",
        "\n",
        "# à améliorer la mise en forme ( affiché en ligne avec l'opérateur <,end= \" \"> à la fin dans le print())"
      ],
      "execution_count": null,
      "outputs": [
        {
          "output_type": "stream",
          "name": "stdout",
          "text": [
            "0 a\n",
            "1 b\n",
            "2 c\n",
            "3 d\n",
            "4 e\n"
          ]
        },
        {
          "output_type": "execute_result",
          "data": {
            "text/plain": [
              "['a', 'c', 'e']"
            ]
          },
          "metadata": {},
          "execution_count": 11
        }
      ]
    },
    {
      "cell_type": "markdown",
      "metadata": {
        "id": "J3bsGIvAT049"
      },
      "source": [
        "# Mission 2\n",
        "\n",
        "Define a list, then **ask** for a position, then for a string. Then replace the list element at that position by the given string, and display the resulting list.\n",
        "\n",
        "For example, with the list `test_list2 = ['hello', 'good morning', 'bye bye', 'have a good day']`, the position `2` and the string `yeah`, you should display:\n",
        "\n",
        "TRAD:\n",
        "\n",
        "**Définir une liste, puis demander une position, puis une chaîne de caractères. Ensuite, remplacez l'élément de la liste à cette position par la chaîne de caractères donnée, et affichez la liste résultante.**\n",
        "\n",
        "**Par exemple, avec la liste test_list2 = ['hello', 'good morning', 'bye bye', 'have a good day'], la position 2 et la chaîne yeah, vous devez afficher :**\n",
        "```\n",
        "['hello', 'good morning', 'yeah', 'have a good day']\n",
        "```"
      ]
    },
    {
      "cell_type": "code",
      "metadata": {
        "id": "Fy1OmPSUXNaP",
        "colab": {
          "base_uri": "https://localhost:8080/"
        },
        "outputId": "2e012190-db8f-4b30-a857-3e84c31d56d9"
      },
      "source": [
        "list1=['hello', 'good morning', 'yeah', 'have a good day']\n",
        "print('Voici une liste de mot, nommé \"list1\" :',list1)\n",
        "\n",
        "index1 = int(input('Saississez SVP, une position(NOMBRE ENTIER)=\"n\"compris entre; 0=position1 & longueur=len(list1) du mot que vous voulez changer dans \"list1\":'))\n",
        "char = input('Saississez le nouveau mot que vous voulez remplacer SVP:')\n",
        "newlist = [x if x != list1[index1]  else char for x in list1] # <x if x!= \"mot1\" else \"mot2\" for x in list> remplace le mot1 par le mot2 dans \"list\"\n",
        "\n",
        "print('votre nouvelle liste \"list2\" est :',newlist)"
      ],
      "execution_count": null,
      "outputs": [
        {
          "output_type": "stream",
          "name": "stdout",
          "text": [
            "Voici une liste de mot, nommé \"list1\" : ['hello', 'good morning', 'yeah', 'have a good day']\n",
            "Saississez SVP, une position(NOMBRE ENTIER)=\"n\"compris entre; 0=position1 & longueur=len(list1) du mot que vous voulez changer dans \"list1\":2\n",
            "Saississez le nouveau mot que vous voulez remplacer SVP:welcome\n",
            "votre nouvelle liste \"list2\" est : ['hello', 'good morning', 'welcome', 'have a good day']\n"
          ]
        }
      ]
    },
    {
      "cell_type": "markdown",
      "metadata": {
        "id": "dVl36lvlWLdV"
      },
      "source": [
        "# Mission 3\n",
        "\n",
        "Define a list with five numbers, then ask the user for a number. Put the number at the end of the list, remove the first element from the list, and finally display the list.\n",
        "\n",
        "For example, with the list `test_list3 = [1, 9, 6, 15, 4]` and the input `7`, you should display:\n",
        "\n",
        "TRAD:\n",
        "\n",
        "**Définir une liste avec cinq numéros, puis demander à l'utilisateur un numéro. Placez le nombre à la fin de la liste, supprimez le premier élément de la liste, et enfin affichez la liste.**\n",
        "\n",
        "**Par exemple, avec la liste `test_list3 = [1, 9, 6, 15, 4]` et l'entrée `7`, vous devriez afficher :**\n",
        "```\n",
        "[9, 6, 15, 4, 7]\n",
        "```\n"
      ]
    },
    {
      "cell_type": "code",
      "metadata": {
        "id": "pN3_mD4YSPfb",
        "colab": {
          "base_uri": "https://localhost:8080/"
        },
        "outputId": "209c5d72-d08d-4f92-c3de-65c865529a74"
      },
      "source": [
        "# Générons génère une liste composée d'une suite arithmétique quelconque:\n",
        "liste = [1,2,3,5,10]\n",
        "print('Voici une liste:', liste)\n",
        "\n",
        "entier = int(input('Saississez SVP un entier à remplacer en fin de liste ci-dessus:'))\n",
        "del(liste[0]) #utiliser la fonction del() : \"del list[num_position]\", pour supprimer une entrée avec un index\n",
        "# Autrement pour supprimer en connaissant la valeur dans une liste avec la fct remove() : \"list.remove(\"valeur_à_changer\")\"\n",
        "liste.append(entier)\n",
        "print(liste);\n"
      ],
      "execution_count": null,
      "outputs": [
        {
          "output_type": "stream",
          "name": "stdout",
          "text": [
            "Voici une liste: [1, 2, 3, 5, 10]\n",
            "Saississez SVP un entier à remplacer en fin de liste ci-dessus:2\n",
            "[2, 3, 5, 10, 2]\n"
          ]
        }
      ]
    },
    {
      "cell_type": "markdown",
      "metadata": {
        "id": "GCvpkWzXXPTf"
      },
      "source": [
        "# Mission 4\n",
        "\n",
        "Define a list, then ask the user for a string. Then, insert the string in the list at a random position, and display the resulting list.\n",
        "\n",
        "For example, with the list `test_list4 = [\"p\", \"y\", \"t\", \"h\", \"o\"]` and the input `n`, you *might* get:\n",
        "```\n",
        "[\"p\", \"n\", \"y\", \"t\", \"h\", \"o\"]\n",
        "```\n",
        "... but you might also get:\n",
        "```\n",
        "[\"p\", \"y\", \"t\", \"n\", \"h\", \"o\"]\n",
        "```\n",
        "TRAD:\n",
        "**Définissez une liste, puis demandez à l'utilisateur une chaîne de caractères. Ensuite, insérez la chaîne dans la liste à une position aléatoire, et affichez la liste résultante**\n",
        "\n",
        "**Par exemple, avec la liste `test_list4 = [\"p\", \"y\", \"t\", \"h\", \"o\"]` et l'entrée `n`, vous *pourriez* obtenir :**\n",
        "```\n",
        "[\"p\", \"n\", \"y\", \"t\", \"h\", \"o\"]\n",
        "```\n",
        "**... mais vous pourriez aussi obtenir :**\n",
        "```\n",
        "[\"p\", \"y\", \"t\", \"n\", \"h\", \"o\"]"
      ]
    },
    {
      "cell_type": "code",
      "metadata": {
        "id": "QjLMjogySPk_",
        "colab": {
          "base_uri": "https://localhost:8080/"
        },
        "outputId": "a694ea82-5211-42fb-dbbf-ba1fe7e93605"
      },
      "source": [
        "liste = [\"p\", \"y\", \"t\", \"h\", \"o\"]\n",
        "print('Voici une liste:', liste)\n",
        "\n",
        "char = input('Saississez SVP une lettre à inserer dans la liste ci-dessus:')\n",
        "\n",
        "# Importons le module/la bibliothèque: \"random\"\n",
        "import random\n",
        "\n",
        "random_index = random.randrange(len(liste)) #random.randrange(a) est une méthode qui renvoie un nombre aléatoire n tel que 0 <= n < a :\n",
        "\n",
        "print(liste[random_index]) # Afficher aléatoirement un index de la liste\n",
        "\n",
        "liste.append(char) #Ajouter un charatère avec append()\n",
        "# La permutation d'un ensemble d'éléments est une liste de tous les cas possibles; \"itertools\" s'en occupe pour vous!\n",
        "from itertools import permutations\n",
        "\n",
        "print(list(permutations(liste))); # Afficher tout les résultats possibles de la liste"
      ],
      "execution_count": null,
      "outputs": [
        {
          "output_type": "stream",
          "name": "stdout",
          "text": [
            "Voici une liste: ['p', 'y', 't', 'h', 'o']\n",
            "Saississez SVP une lettre à inserer dans la liste ci-dessus:n\n",
            "y\n",
            "[('p', 'y', 't', 'h', 'o', 'n'), ('p', 'y', 't', 'h', 'n', 'o'), ('p', 'y', 't', 'o', 'h', 'n'), ('p', 'y', 't', 'o', 'n', 'h'), ('p', 'y', 't', 'n', 'h', 'o'), ('p', 'y', 't', 'n', 'o', 'h'), ('p', 'y', 'h', 't', 'o', 'n'), ('p', 'y', 'h', 't', 'n', 'o'), ('p', 'y', 'h', 'o', 't', 'n'), ('p', 'y', 'h', 'o', 'n', 't'), ('p', 'y', 'h', 'n', 't', 'o'), ('p', 'y', 'h', 'n', 'o', 't'), ('p', 'y', 'o', 't', 'h', 'n'), ('p', 'y', 'o', 't', 'n', 'h'), ('p', 'y', 'o', 'h', 't', 'n'), ('p', 'y', 'o', 'h', 'n', 't'), ('p', 'y', 'o', 'n', 't', 'h'), ('p', 'y', 'o', 'n', 'h', 't'), ('p', 'y', 'n', 't', 'h', 'o'), ('p', 'y', 'n', 't', 'o', 'h'), ('p', 'y', 'n', 'h', 't', 'o'), ('p', 'y', 'n', 'h', 'o', 't'), ('p', 'y', 'n', 'o', 't', 'h'), ('p', 'y', 'n', 'o', 'h', 't'), ('p', 't', 'y', 'h', 'o', 'n'), ('p', 't', 'y', 'h', 'n', 'o'), ('p', 't', 'y', 'o', 'h', 'n'), ('p', 't', 'y', 'o', 'n', 'h'), ('p', 't', 'y', 'n', 'h', 'o'), ('p', 't', 'y', 'n', 'o', 'h'), ('p', 't', 'h', 'y', 'o', 'n'), ('p', 't', 'h', 'y', 'n', 'o'), ('p', 't', 'h', 'o', 'y', 'n'), ('p', 't', 'h', 'o', 'n', 'y'), ('p', 't', 'h', 'n', 'y', 'o'), ('p', 't', 'h', 'n', 'o', 'y'), ('p', 't', 'o', 'y', 'h', 'n'), ('p', 't', 'o', 'y', 'n', 'h'), ('p', 't', 'o', 'h', 'y', 'n'), ('p', 't', 'o', 'h', 'n', 'y'), ('p', 't', 'o', 'n', 'y', 'h'), ('p', 't', 'o', 'n', 'h', 'y'), ('p', 't', 'n', 'y', 'h', 'o'), ('p', 't', 'n', 'y', 'o', 'h'), ('p', 't', 'n', 'h', 'y', 'o'), ('p', 't', 'n', 'h', 'o', 'y'), ('p', 't', 'n', 'o', 'y', 'h'), ('p', 't', 'n', 'o', 'h', 'y'), ('p', 'h', 'y', 't', 'o', 'n'), ('p', 'h', 'y', 't', 'n', 'o'), ('p', 'h', 'y', 'o', 't', 'n'), ('p', 'h', 'y', 'o', 'n', 't'), ('p', 'h', 'y', 'n', 't', 'o'), ('p', 'h', 'y', 'n', 'o', 't'), ('p', 'h', 't', 'y', 'o', 'n'), ('p', 'h', 't', 'y', 'n', 'o'), ('p', 'h', 't', 'o', 'y', 'n'), ('p', 'h', 't', 'o', 'n', 'y'), ('p', 'h', 't', 'n', 'y', 'o'), ('p', 'h', 't', 'n', 'o', 'y'), ('p', 'h', 'o', 'y', 't', 'n'), ('p', 'h', 'o', 'y', 'n', 't'), ('p', 'h', 'o', 't', 'y', 'n'), ('p', 'h', 'o', 't', 'n', 'y'), ('p', 'h', 'o', 'n', 'y', 't'), ('p', 'h', 'o', 'n', 't', 'y'), ('p', 'h', 'n', 'y', 't', 'o'), ('p', 'h', 'n', 'y', 'o', 't'), ('p', 'h', 'n', 't', 'y', 'o'), ('p', 'h', 'n', 't', 'o', 'y'), ('p', 'h', 'n', 'o', 'y', 't'), ('p', 'h', 'n', 'o', 't', 'y'), ('p', 'o', 'y', 't', 'h', 'n'), ('p', 'o', 'y', 't', 'n', 'h'), ('p', 'o', 'y', 'h', 't', 'n'), ('p', 'o', 'y', 'h', 'n', 't'), ('p', 'o', 'y', 'n', 't', 'h'), ('p', 'o', 'y', 'n', 'h', 't'), ('p', 'o', 't', 'y', 'h', 'n'), ('p', 'o', 't', 'y', 'n', 'h'), ('p', 'o', 't', 'h', 'y', 'n'), ('p', 'o', 't', 'h', 'n', 'y'), ('p', 'o', 't', 'n', 'y', 'h'), ('p', 'o', 't', 'n', 'h', 'y'), ('p', 'o', 'h', 'y', 't', 'n'), ('p', 'o', 'h', 'y', 'n', 't'), ('p', 'o', 'h', 't', 'y', 'n'), ('p', 'o', 'h', 't', 'n', 'y'), ('p', 'o', 'h', 'n', 'y', 't'), ('p', 'o', 'h', 'n', 't', 'y'), ('p', 'o', 'n', 'y', 't', 'h'), ('p', 'o', 'n', 'y', 'h', 't'), ('p', 'o', 'n', 't', 'y', 'h'), ('p', 'o', 'n', 't', 'h', 'y'), ('p', 'o', 'n', 'h', 'y', 't'), ('p', 'o', 'n', 'h', 't', 'y'), ('p', 'n', 'y', 't', 'h', 'o'), ('p', 'n', 'y', 't', 'o', 'h'), ('p', 'n', 'y', 'h', 't', 'o'), ('p', 'n', 'y', 'h', 'o', 't'), ('p', 'n', 'y', 'o', 't', 'h'), ('p', 'n', 'y', 'o', 'h', 't'), ('p', 'n', 't', 'y', 'h', 'o'), ('p', 'n', 't', 'y', 'o', 'h'), ('p', 'n', 't', 'h', 'y', 'o'), ('p', 'n', 't', 'h', 'o', 'y'), ('p', 'n', 't', 'o', 'y', 'h'), ('p', 'n', 't', 'o', 'h', 'y'), ('p', 'n', 'h', 'y', 't', 'o'), ('p', 'n', 'h', 'y', 'o', 't'), ('p', 'n', 'h', 't', 'y', 'o'), ('p', 'n', 'h', 't', 'o', 'y'), ('p', 'n', 'h', 'o', 'y', 't'), ('p', 'n', 'h', 'o', 't', 'y'), ('p', 'n', 'o', 'y', 't', 'h'), ('p', 'n', 'o', 'y', 'h', 't'), ('p', 'n', 'o', 't', 'y', 'h'), ('p', 'n', 'o', 't', 'h', 'y'), ('p', 'n', 'o', 'h', 'y', 't'), ('p', 'n', 'o', 'h', 't', 'y'), ('y', 'p', 't', 'h', 'o', 'n'), ('y', 'p', 't', 'h', 'n', 'o'), ('y', 'p', 't', 'o', 'h', 'n'), ('y', 'p', 't', 'o', 'n', 'h'), ('y', 'p', 't', 'n', 'h', 'o'), ('y', 'p', 't', 'n', 'o', 'h'), ('y', 'p', 'h', 't', 'o', 'n'), ('y', 'p', 'h', 't', 'n', 'o'), ('y', 'p', 'h', 'o', 't', 'n'), ('y', 'p', 'h', 'o', 'n', 't'), ('y', 'p', 'h', 'n', 't', 'o'), ('y', 'p', 'h', 'n', 'o', 't'), ('y', 'p', 'o', 't', 'h', 'n'), ('y', 'p', 'o', 't', 'n', 'h'), ('y', 'p', 'o', 'h', 't', 'n'), ('y', 'p', 'o', 'h', 'n', 't'), ('y', 'p', 'o', 'n', 't', 'h'), ('y', 'p', 'o', 'n', 'h', 't'), ('y', 'p', 'n', 't', 'h', 'o'), ('y', 'p', 'n', 't', 'o', 'h'), ('y', 'p', 'n', 'h', 't', 'o'), ('y', 'p', 'n', 'h', 'o', 't'), ('y', 'p', 'n', 'o', 't', 'h'), ('y', 'p', 'n', 'o', 'h', 't'), ('y', 't', 'p', 'h', 'o', 'n'), ('y', 't', 'p', 'h', 'n', 'o'), ('y', 't', 'p', 'o', 'h', 'n'), ('y', 't', 'p', 'o', 'n', 'h'), ('y', 't', 'p', 'n', 'h', 'o'), ('y', 't', 'p', 'n', 'o', 'h'), ('y', 't', 'h', 'p', 'o', 'n'), ('y', 't', 'h', 'p', 'n', 'o'), ('y', 't', 'h', 'o', 'p', 'n'), ('y', 't', 'h', 'o', 'n', 'p'), ('y', 't', 'h', 'n', 'p', 'o'), ('y', 't', 'h', 'n', 'o', 'p'), ('y', 't', 'o', 'p', 'h', 'n'), ('y', 't', 'o', 'p', 'n', 'h'), ('y', 't', 'o', 'h', 'p', 'n'), ('y', 't', 'o', 'h', 'n', 'p'), ('y', 't', 'o', 'n', 'p', 'h'), ('y', 't', 'o', 'n', 'h', 'p'), ('y', 't', 'n', 'p', 'h', 'o'), ('y', 't', 'n', 'p', 'o', 'h'), ('y', 't', 'n', 'h', 'p', 'o'), ('y', 't', 'n', 'h', 'o', 'p'), ('y', 't', 'n', 'o', 'p', 'h'), ('y', 't', 'n', 'o', 'h', 'p'), ('y', 'h', 'p', 't', 'o', 'n'), ('y', 'h', 'p', 't', 'n', 'o'), ('y', 'h', 'p', 'o', 't', 'n'), ('y', 'h', 'p', 'o', 'n', 't'), ('y', 'h', 'p', 'n', 't', 'o'), ('y', 'h', 'p', 'n', 'o', 't'), ('y', 'h', 't', 'p', 'o', 'n'), ('y', 'h', 't', 'p', 'n', 'o'), ('y', 'h', 't', 'o', 'p', 'n'), ('y', 'h', 't', 'o', 'n', 'p'), ('y', 'h', 't', 'n', 'p', 'o'), ('y', 'h', 't', 'n', 'o', 'p'), ('y', 'h', 'o', 'p', 't', 'n'), ('y', 'h', 'o', 'p', 'n', 't'), ('y', 'h', 'o', 't', 'p', 'n'), ('y', 'h', 'o', 't', 'n', 'p'), ('y', 'h', 'o', 'n', 'p', 't'), ('y', 'h', 'o', 'n', 't', 'p'), ('y', 'h', 'n', 'p', 't', 'o'), ('y', 'h', 'n', 'p', 'o', 't'), ('y', 'h', 'n', 't', 'p', 'o'), ('y', 'h', 'n', 't', 'o', 'p'), ('y', 'h', 'n', 'o', 'p', 't'), ('y', 'h', 'n', 'o', 't', 'p'), ('y', 'o', 'p', 't', 'h', 'n'), ('y', 'o', 'p', 't', 'n', 'h'), ('y', 'o', 'p', 'h', 't', 'n'), ('y', 'o', 'p', 'h', 'n', 't'), ('y', 'o', 'p', 'n', 't', 'h'), ('y', 'o', 'p', 'n', 'h', 't'), ('y', 'o', 't', 'p', 'h', 'n'), ('y', 'o', 't', 'p', 'n', 'h'), ('y', 'o', 't', 'h', 'p', 'n'), ('y', 'o', 't', 'h', 'n', 'p'), ('y', 'o', 't', 'n', 'p', 'h'), ('y', 'o', 't', 'n', 'h', 'p'), ('y', 'o', 'h', 'p', 't', 'n'), ('y', 'o', 'h', 'p', 'n', 't'), ('y', 'o', 'h', 't', 'p', 'n'), ('y', 'o', 'h', 't', 'n', 'p'), ('y', 'o', 'h', 'n', 'p', 't'), ('y', 'o', 'h', 'n', 't', 'p'), ('y', 'o', 'n', 'p', 't', 'h'), ('y', 'o', 'n', 'p', 'h', 't'), ('y', 'o', 'n', 't', 'p', 'h'), ('y', 'o', 'n', 't', 'h', 'p'), ('y', 'o', 'n', 'h', 'p', 't'), ('y', 'o', 'n', 'h', 't', 'p'), ('y', 'n', 'p', 't', 'h', 'o'), ('y', 'n', 'p', 't', 'o', 'h'), ('y', 'n', 'p', 'h', 't', 'o'), ('y', 'n', 'p', 'h', 'o', 't'), ('y', 'n', 'p', 'o', 't', 'h'), ('y', 'n', 'p', 'o', 'h', 't'), ('y', 'n', 't', 'p', 'h', 'o'), ('y', 'n', 't', 'p', 'o', 'h'), ('y', 'n', 't', 'h', 'p', 'o'), ('y', 'n', 't', 'h', 'o', 'p'), ('y', 'n', 't', 'o', 'p', 'h'), ('y', 'n', 't', 'o', 'h', 'p'), ('y', 'n', 'h', 'p', 't', 'o'), ('y', 'n', 'h', 'p', 'o', 't'), ('y', 'n', 'h', 't', 'p', 'o'), ('y', 'n', 'h', 't', 'o', 'p'), ('y', 'n', 'h', 'o', 'p', 't'), ('y', 'n', 'h', 'o', 't', 'p'), ('y', 'n', 'o', 'p', 't', 'h'), ('y', 'n', 'o', 'p', 'h', 't'), ('y', 'n', 'o', 't', 'p', 'h'), ('y', 'n', 'o', 't', 'h', 'p'), ('y', 'n', 'o', 'h', 'p', 't'), ('y', 'n', 'o', 'h', 't', 'p'), ('t', 'p', 'y', 'h', 'o', 'n'), ('t', 'p', 'y', 'h', 'n', 'o'), ('t', 'p', 'y', 'o', 'h', 'n'), ('t', 'p', 'y', 'o', 'n', 'h'), ('t', 'p', 'y', 'n', 'h', 'o'), ('t', 'p', 'y', 'n', 'o', 'h'), ('t', 'p', 'h', 'y', 'o', 'n'), ('t', 'p', 'h', 'y', 'n', 'o'), ('t', 'p', 'h', 'o', 'y', 'n'), ('t', 'p', 'h', 'o', 'n', 'y'), ('t', 'p', 'h', 'n', 'y', 'o'), ('t', 'p', 'h', 'n', 'o', 'y'), ('t', 'p', 'o', 'y', 'h', 'n'), ('t', 'p', 'o', 'y', 'n', 'h'), ('t', 'p', 'o', 'h', 'y', 'n'), ('t', 'p', 'o', 'h', 'n', 'y'), ('t', 'p', 'o', 'n', 'y', 'h'), ('t', 'p', 'o', 'n', 'h', 'y'), ('t', 'p', 'n', 'y', 'h', 'o'), ('t', 'p', 'n', 'y', 'o', 'h'), ('t', 'p', 'n', 'h', 'y', 'o'), ('t', 'p', 'n', 'h', 'o', 'y'), ('t', 'p', 'n', 'o', 'y', 'h'), ('t', 'p', 'n', 'o', 'h', 'y'), ('t', 'y', 'p', 'h', 'o', 'n'), ('t', 'y', 'p', 'h', 'n', 'o'), ('t', 'y', 'p', 'o', 'h', 'n'), ('t', 'y', 'p', 'o', 'n', 'h'), ('t', 'y', 'p', 'n', 'h', 'o'), ('t', 'y', 'p', 'n', 'o', 'h'), ('t', 'y', 'h', 'p', 'o', 'n'), ('t', 'y', 'h', 'p', 'n', 'o'), ('t', 'y', 'h', 'o', 'p', 'n'), ('t', 'y', 'h', 'o', 'n', 'p'), ('t', 'y', 'h', 'n', 'p', 'o'), ('t', 'y', 'h', 'n', 'o', 'p'), ('t', 'y', 'o', 'p', 'h', 'n'), ('t', 'y', 'o', 'p', 'n', 'h'), ('t', 'y', 'o', 'h', 'p', 'n'), ('t', 'y', 'o', 'h', 'n', 'p'), ('t', 'y', 'o', 'n', 'p', 'h'), ('t', 'y', 'o', 'n', 'h', 'p'), ('t', 'y', 'n', 'p', 'h', 'o'), ('t', 'y', 'n', 'p', 'o', 'h'), ('t', 'y', 'n', 'h', 'p', 'o'), ('t', 'y', 'n', 'h', 'o', 'p'), ('t', 'y', 'n', 'o', 'p', 'h'), ('t', 'y', 'n', 'o', 'h', 'p'), ('t', 'h', 'p', 'y', 'o', 'n'), ('t', 'h', 'p', 'y', 'n', 'o'), ('t', 'h', 'p', 'o', 'y', 'n'), ('t', 'h', 'p', 'o', 'n', 'y'), ('t', 'h', 'p', 'n', 'y', 'o'), ('t', 'h', 'p', 'n', 'o', 'y'), ('t', 'h', 'y', 'p', 'o', 'n'), ('t', 'h', 'y', 'p', 'n', 'o'), ('t', 'h', 'y', 'o', 'p', 'n'), ('t', 'h', 'y', 'o', 'n', 'p'), ('t', 'h', 'y', 'n', 'p', 'o'), ('t', 'h', 'y', 'n', 'o', 'p'), ('t', 'h', 'o', 'p', 'y', 'n'), ('t', 'h', 'o', 'p', 'n', 'y'), ('t', 'h', 'o', 'y', 'p', 'n'), ('t', 'h', 'o', 'y', 'n', 'p'), ('t', 'h', 'o', 'n', 'p', 'y'), ('t', 'h', 'o', 'n', 'y', 'p'), ('t', 'h', 'n', 'p', 'y', 'o'), ('t', 'h', 'n', 'p', 'o', 'y'), ('t', 'h', 'n', 'y', 'p', 'o'), ('t', 'h', 'n', 'y', 'o', 'p'), ('t', 'h', 'n', 'o', 'p', 'y'), ('t', 'h', 'n', 'o', 'y', 'p'), ('t', 'o', 'p', 'y', 'h', 'n'), ('t', 'o', 'p', 'y', 'n', 'h'), ('t', 'o', 'p', 'h', 'y', 'n'), ('t', 'o', 'p', 'h', 'n', 'y'), ('t', 'o', 'p', 'n', 'y', 'h'), ('t', 'o', 'p', 'n', 'h', 'y'), ('t', 'o', 'y', 'p', 'h', 'n'), ('t', 'o', 'y', 'p', 'n', 'h'), ('t', 'o', 'y', 'h', 'p', 'n'), ('t', 'o', 'y', 'h', 'n', 'p'), ('t', 'o', 'y', 'n', 'p', 'h'), ('t', 'o', 'y', 'n', 'h', 'p'), ('t', 'o', 'h', 'p', 'y', 'n'), ('t', 'o', 'h', 'p', 'n', 'y'), ('t', 'o', 'h', 'y', 'p', 'n'), ('t', 'o', 'h', 'y', 'n', 'p'), ('t', 'o', 'h', 'n', 'p', 'y'), ('t', 'o', 'h', 'n', 'y', 'p'), ('t', 'o', 'n', 'p', 'y', 'h'), ('t', 'o', 'n', 'p', 'h', 'y'), ('t', 'o', 'n', 'y', 'p', 'h'), ('t', 'o', 'n', 'y', 'h', 'p'), ('t', 'o', 'n', 'h', 'p', 'y'), ('t', 'o', 'n', 'h', 'y', 'p'), ('t', 'n', 'p', 'y', 'h', 'o'), ('t', 'n', 'p', 'y', 'o', 'h'), ('t', 'n', 'p', 'h', 'y', 'o'), ('t', 'n', 'p', 'h', 'o', 'y'), ('t', 'n', 'p', 'o', 'y', 'h'), ('t', 'n', 'p', 'o', 'h', 'y'), ('t', 'n', 'y', 'p', 'h', 'o'), ('t', 'n', 'y', 'p', 'o', 'h'), ('t', 'n', 'y', 'h', 'p', 'o'), ('t', 'n', 'y', 'h', 'o', 'p'), ('t', 'n', 'y', 'o', 'p', 'h'), ('t', 'n', 'y', 'o', 'h', 'p'), ('t', 'n', 'h', 'p', 'y', 'o'), ('t', 'n', 'h', 'p', 'o', 'y'), ('t', 'n', 'h', 'y', 'p', 'o'), ('t', 'n', 'h', 'y', 'o', 'p'), ('t', 'n', 'h', 'o', 'p', 'y'), ('t', 'n', 'h', 'o', 'y', 'p'), ('t', 'n', 'o', 'p', 'y', 'h'), ('t', 'n', 'o', 'p', 'h', 'y'), ('t', 'n', 'o', 'y', 'p', 'h'), ('t', 'n', 'o', 'y', 'h', 'p'), ('t', 'n', 'o', 'h', 'p', 'y'), ('t', 'n', 'o', 'h', 'y', 'p'), ('h', 'p', 'y', 't', 'o', 'n'), ('h', 'p', 'y', 't', 'n', 'o'), ('h', 'p', 'y', 'o', 't', 'n'), ('h', 'p', 'y', 'o', 'n', 't'), ('h', 'p', 'y', 'n', 't', 'o'), ('h', 'p', 'y', 'n', 'o', 't'), ('h', 'p', 't', 'y', 'o', 'n'), ('h', 'p', 't', 'y', 'n', 'o'), ('h', 'p', 't', 'o', 'y', 'n'), ('h', 'p', 't', 'o', 'n', 'y'), ('h', 'p', 't', 'n', 'y', 'o'), ('h', 'p', 't', 'n', 'o', 'y'), ('h', 'p', 'o', 'y', 't', 'n'), ('h', 'p', 'o', 'y', 'n', 't'), ('h', 'p', 'o', 't', 'y', 'n'), ('h', 'p', 'o', 't', 'n', 'y'), ('h', 'p', 'o', 'n', 'y', 't'), ('h', 'p', 'o', 'n', 't', 'y'), ('h', 'p', 'n', 'y', 't', 'o'), ('h', 'p', 'n', 'y', 'o', 't'), ('h', 'p', 'n', 't', 'y', 'o'), ('h', 'p', 'n', 't', 'o', 'y'), ('h', 'p', 'n', 'o', 'y', 't'), ('h', 'p', 'n', 'o', 't', 'y'), ('h', 'y', 'p', 't', 'o', 'n'), ('h', 'y', 'p', 't', 'n', 'o'), ('h', 'y', 'p', 'o', 't', 'n'), ('h', 'y', 'p', 'o', 'n', 't'), ('h', 'y', 'p', 'n', 't', 'o'), ('h', 'y', 'p', 'n', 'o', 't'), ('h', 'y', 't', 'p', 'o', 'n'), ('h', 'y', 't', 'p', 'n', 'o'), ('h', 'y', 't', 'o', 'p', 'n'), ('h', 'y', 't', 'o', 'n', 'p'), ('h', 'y', 't', 'n', 'p', 'o'), ('h', 'y', 't', 'n', 'o', 'p'), ('h', 'y', 'o', 'p', 't', 'n'), ('h', 'y', 'o', 'p', 'n', 't'), ('h', 'y', 'o', 't', 'p', 'n'), ('h', 'y', 'o', 't', 'n', 'p'), ('h', 'y', 'o', 'n', 'p', 't'), ('h', 'y', 'o', 'n', 't', 'p'), ('h', 'y', 'n', 'p', 't', 'o'), ('h', 'y', 'n', 'p', 'o', 't'), ('h', 'y', 'n', 't', 'p', 'o'), ('h', 'y', 'n', 't', 'o', 'p'), ('h', 'y', 'n', 'o', 'p', 't'), ('h', 'y', 'n', 'o', 't', 'p'), ('h', 't', 'p', 'y', 'o', 'n'), ('h', 't', 'p', 'y', 'n', 'o'), ('h', 't', 'p', 'o', 'y', 'n'), ('h', 't', 'p', 'o', 'n', 'y'), ('h', 't', 'p', 'n', 'y', 'o'), ('h', 't', 'p', 'n', 'o', 'y'), ('h', 't', 'y', 'p', 'o', 'n'), ('h', 't', 'y', 'p', 'n', 'o'), ('h', 't', 'y', 'o', 'p', 'n'), ('h', 't', 'y', 'o', 'n', 'p'), ('h', 't', 'y', 'n', 'p', 'o'), ('h', 't', 'y', 'n', 'o', 'p'), ('h', 't', 'o', 'p', 'y', 'n'), ('h', 't', 'o', 'p', 'n', 'y'), ('h', 't', 'o', 'y', 'p', 'n'), ('h', 't', 'o', 'y', 'n', 'p'), ('h', 't', 'o', 'n', 'p', 'y'), ('h', 't', 'o', 'n', 'y', 'p'), ('h', 't', 'n', 'p', 'y', 'o'), ('h', 't', 'n', 'p', 'o', 'y'), ('h', 't', 'n', 'y', 'p', 'o'), ('h', 't', 'n', 'y', 'o', 'p'), ('h', 't', 'n', 'o', 'p', 'y'), ('h', 't', 'n', 'o', 'y', 'p'), ('h', 'o', 'p', 'y', 't', 'n'), ('h', 'o', 'p', 'y', 'n', 't'), ('h', 'o', 'p', 't', 'y', 'n'), ('h', 'o', 'p', 't', 'n', 'y'), ('h', 'o', 'p', 'n', 'y', 't'), ('h', 'o', 'p', 'n', 't', 'y'), ('h', 'o', 'y', 'p', 't', 'n'), ('h', 'o', 'y', 'p', 'n', 't'), ('h', 'o', 'y', 't', 'p', 'n'), ('h', 'o', 'y', 't', 'n', 'p'), ('h', 'o', 'y', 'n', 'p', 't'), ('h', 'o', 'y', 'n', 't', 'p'), ('h', 'o', 't', 'p', 'y', 'n'), ('h', 'o', 't', 'p', 'n', 'y'), ('h', 'o', 't', 'y', 'p', 'n'), ('h', 'o', 't', 'y', 'n', 'p'), ('h', 'o', 't', 'n', 'p', 'y'), ('h', 'o', 't', 'n', 'y', 'p'), ('h', 'o', 'n', 'p', 'y', 't'), ('h', 'o', 'n', 'p', 't', 'y'), ('h', 'o', 'n', 'y', 'p', 't'), ('h', 'o', 'n', 'y', 't', 'p'), ('h', 'o', 'n', 't', 'p', 'y'), ('h', 'o', 'n', 't', 'y', 'p'), ('h', 'n', 'p', 'y', 't', 'o'), ('h', 'n', 'p', 'y', 'o', 't'), ('h', 'n', 'p', 't', 'y', 'o'), ('h', 'n', 'p', 't', 'o', 'y'), ('h', 'n', 'p', 'o', 'y', 't'), ('h', 'n', 'p', 'o', 't', 'y'), ('h', 'n', 'y', 'p', 't', 'o'), ('h', 'n', 'y', 'p', 'o', 't'), ('h', 'n', 'y', 't', 'p', 'o'), ('h', 'n', 'y', 't', 'o', 'p'), ('h', 'n', 'y', 'o', 'p', 't'), ('h', 'n', 'y', 'o', 't', 'p'), ('h', 'n', 't', 'p', 'y', 'o'), ('h', 'n', 't', 'p', 'o', 'y'), ('h', 'n', 't', 'y', 'p', 'o'), ('h', 'n', 't', 'y', 'o', 'p'), ('h', 'n', 't', 'o', 'p', 'y'), ('h', 'n', 't', 'o', 'y', 'p'), ('h', 'n', 'o', 'p', 'y', 't'), ('h', 'n', 'o', 'p', 't', 'y'), ('h', 'n', 'o', 'y', 'p', 't'), ('h', 'n', 'o', 'y', 't', 'p'), ('h', 'n', 'o', 't', 'p', 'y'), ('h', 'n', 'o', 't', 'y', 'p'), ('o', 'p', 'y', 't', 'h', 'n'), ('o', 'p', 'y', 't', 'n', 'h'), ('o', 'p', 'y', 'h', 't', 'n'), ('o', 'p', 'y', 'h', 'n', 't'), ('o', 'p', 'y', 'n', 't', 'h'), ('o', 'p', 'y', 'n', 'h', 't'), ('o', 'p', 't', 'y', 'h', 'n'), ('o', 'p', 't', 'y', 'n', 'h'), ('o', 'p', 't', 'h', 'y', 'n'), ('o', 'p', 't', 'h', 'n', 'y'), ('o', 'p', 't', 'n', 'y', 'h'), ('o', 'p', 't', 'n', 'h', 'y'), ('o', 'p', 'h', 'y', 't', 'n'), ('o', 'p', 'h', 'y', 'n', 't'), ('o', 'p', 'h', 't', 'y', 'n'), ('o', 'p', 'h', 't', 'n', 'y'), ('o', 'p', 'h', 'n', 'y', 't'), ('o', 'p', 'h', 'n', 't', 'y'), ('o', 'p', 'n', 'y', 't', 'h'), ('o', 'p', 'n', 'y', 'h', 't'), ('o', 'p', 'n', 't', 'y', 'h'), ('o', 'p', 'n', 't', 'h', 'y'), ('o', 'p', 'n', 'h', 'y', 't'), ('o', 'p', 'n', 'h', 't', 'y'), ('o', 'y', 'p', 't', 'h', 'n'), ('o', 'y', 'p', 't', 'n', 'h'), ('o', 'y', 'p', 'h', 't', 'n'), ('o', 'y', 'p', 'h', 'n', 't'), ('o', 'y', 'p', 'n', 't', 'h'), ('o', 'y', 'p', 'n', 'h', 't'), ('o', 'y', 't', 'p', 'h', 'n'), ('o', 'y', 't', 'p', 'n', 'h'), ('o', 'y', 't', 'h', 'p', 'n'), ('o', 'y', 't', 'h', 'n', 'p'), ('o', 'y', 't', 'n', 'p', 'h'), ('o', 'y', 't', 'n', 'h', 'p'), ('o', 'y', 'h', 'p', 't', 'n'), ('o', 'y', 'h', 'p', 'n', 't'), ('o', 'y', 'h', 't', 'p', 'n'), ('o', 'y', 'h', 't', 'n', 'p'), ('o', 'y', 'h', 'n', 'p', 't'), ('o', 'y', 'h', 'n', 't', 'p'), ('o', 'y', 'n', 'p', 't', 'h'), ('o', 'y', 'n', 'p', 'h', 't'), ('o', 'y', 'n', 't', 'p', 'h'), ('o', 'y', 'n', 't', 'h', 'p'), ('o', 'y', 'n', 'h', 'p', 't'), ('o', 'y', 'n', 'h', 't', 'p'), ('o', 't', 'p', 'y', 'h', 'n'), ('o', 't', 'p', 'y', 'n', 'h'), ('o', 't', 'p', 'h', 'y', 'n'), ('o', 't', 'p', 'h', 'n', 'y'), ('o', 't', 'p', 'n', 'y', 'h'), ('o', 't', 'p', 'n', 'h', 'y'), ('o', 't', 'y', 'p', 'h', 'n'), ('o', 't', 'y', 'p', 'n', 'h'), ('o', 't', 'y', 'h', 'p', 'n'), ('o', 't', 'y', 'h', 'n', 'p'), ('o', 't', 'y', 'n', 'p', 'h'), ('o', 't', 'y', 'n', 'h', 'p'), ('o', 't', 'h', 'p', 'y', 'n'), ('o', 't', 'h', 'p', 'n', 'y'), ('o', 't', 'h', 'y', 'p', 'n'), ('o', 't', 'h', 'y', 'n', 'p'), ('o', 't', 'h', 'n', 'p', 'y'), ('o', 't', 'h', 'n', 'y', 'p'), ('o', 't', 'n', 'p', 'y', 'h'), ('o', 't', 'n', 'p', 'h', 'y'), ('o', 't', 'n', 'y', 'p', 'h'), ('o', 't', 'n', 'y', 'h', 'p'), ('o', 't', 'n', 'h', 'p', 'y'), ('o', 't', 'n', 'h', 'y', 'p'), ('o', 'h', 'p', 'y', 't', 'n'), ('o', 'h', 'p', 'y', 'n', 't'), ('o', 'h', 'p', 't', 'y', 'n'), ('o', 'h', 'p', 't', 'n', 'y'), ('o', 'h', 'p', 'n', 'y', 't'), ('o', 'h', 'p', 'n', 't', 'y'), ('o', 'h', 'y', 'p', 't', 'n'), ('o', 'h', 'y', 'p', 'n', 't'), ('o', 'h', 'y', 't', 'p', 'n'), ('o', 'h', 'y', 't', 'n', 'p'), ('o', 'h', 'y', 'n', 'p', 't'), ('o', 'h', 'y', 'n', 't', 'p'), ('o', 'h', 't', 'p', 'y', 'n'), ('o', 'h', 't', 'p', 'n', 'y'), ('o', 'h', 't', 'y', 'p', 'n'), ('o', 'h', 't', 'y', 'n', 'p'), ('o', 'h', 't', 'n', 'p', 'y'), ('o', 'h', 't', 'n', 'y', 'p'), ('o', 'h', 'n', 'p', 'y', 't'), ('o', 'h', 'n', 'p', 't', 'y'), ('o', 'h', 'n', 'y', 'p', 't'), ('o', 'h', 'n', 'y', 't', 'p'), ('o', 'h', 'n', 't', 'p', 'y'), ('o', 'h', 'n', 't', 'y', 'p'), ('o', 'n', 'p', 'y', 't', 'h'), ('o', 'n', 'p', 'y', 'h', 't'), ('o', 'n', 'p', 't', 'y', 'h'), ('o', 'n', 'p', 't', 'h', 'y'), ('o', 'n', 'p', 'h', 'y', 't'), ('o', 'n', 'p', 'h', 't', 'y'), ('o', 'n', 'y', 'p', 't', 'h'), ('o', 'n', 'y', 'p', 'h', 't'), ('o', 'n', 'y', 't', 'p', 'h'), ('o', 'n', 'y', 't', 'h', 'p'), ('o', 'n', 'y', 'h', 'p', 't'), ('o', 'n', 'y', 'h', 't', 'p'), ('o', 'n', 't', 'p', 'y', 'h'), ('o', 'n', 't', 'p', 'h', 'y'), ('o', 'n', 't', 'y', 'p', 'h'), ('o', 'n', 't', 'y', 'h', 'p'), ('o', 'n', 't', 'h', 'p', 'y'), ('o', 'n', 't', 'h', 'y', 'p'), ('o', 'n', 'h', 'p', 'y', 't'), ('o', 'n', 'h', 'p', 't', 'y'), ('o', 'n', 'h', 'y', 'p', 't'), ('o', 'n', 'h', 'y', 't', 'p'), ('o', 'n', 'h', 't', 'p', 'y'), ('o', 'n', 'h', 't', 'y', 'p'), ('n', 'p', 'y', 't', 'h', 'o'), ('n', 'p', 'y', 't', 'o', 'h'), ('n', 'p', 'y', 'h', 't', 'o'), ('n', 'p', 'y', 'h', 'o', 't'), ('n', 'p', 'y', 'o', 't', 'h'), ('n', 'p', 'y', 'o', 'h', 't'), ('n', 'p', 't', 'y', 'h', 'o'), ('n', 'p', 't', 'y', 'o', 'h'), ('n', 'p', 't', 'h', 'y', 'o'), ('n', 'p', 't', 'h', 'o', 'y'), ('n', 'p', 't', 'o', 'y', 'h'), ('n', 'p', 't', 'o', 'h', 'y'), ('n', 'p', 'h', 'y', 't', 'o'), ('n', 'p', 'h', 'y', 'o', 't'), ('n', 'p', 'h', 't', 'y', 'o'), ('n', 'p', 'h', 't', 'o', 'y'), ('n', 'p', 'h', 'o', 'y', 't'), ('n', 'p', 'h', 'o', 't', 'y'), ('n', 'p', 'o', 'y', 't', 'h'), ('n', 'p', 'o', 'y', 'h', 't'), ('n', 'p', 'o', 't', 'y', 'h'), ('n', 'p', 'o', 't', 'h', 'y'), ('n', 'p', 'o', 'h', 'y', 't'), ('n', 'p', 'o', 'h', 't', 'y'), ('n', 'y', 'p', 't', 'h', 'o'), ('n', 'y', 'p', 't', 'o', 'h'), ('n', 'y', 'p', 'h', 't', 'o'), ('n', 'y', 'p', 'h', 'o', 't'), ('n', 'y', 'p', 'o', 't', 'h'), ('n', 'y', 'p', 'o', 'h', 't'), ('n', 'y', 't', 'p', 'h', 'o'), ('n', 'y', 't', 'p', 'o', 'h'), ('n', 'y', 't', 'h', 'p', 'o'), ('n', 'y', 't', 'h', 'o', 'p'), ('n', 'y', 't', 'o', 'p', 'h'), ('n', 'y', 't', 'o', 'h', 'p'), ('n', 'y', 'h', 'p', 't', 'o'), ('n', 'y', 'h', 'p', 'o', 't'), ('n', 'y', 'h', 't', 'p', 'o'), ('n', 'y', 'h', 't', 'o', 'p'), ('n', 'y', 'h', 'o', 'p', 't'), ('n', 'y', 'h', 'o', 't', 'p'), ('n', 'y', 'o', 'p', 't', 'h'), ('n', 'y', 'o', 'p', 'h', 't'), ('n', 'y', 'o', 't', 'p', 'h'), ('n', 'y', 'o', 't', 'h', 'p'), ('n', 'y', 'o', 'h', 'p', 't'), ('n', 'y', 'o', 'h', 't', 'p'), ('n', 't', 'p', 'y', 'h', 'o'), ('n', 't', 'p', 'y', 'o', 'h'), ('n', 't', 'p', 'h', 'y', 'o'), ('n', 't', 'p', 'h', 'o', 'y'), ('n', 't', 'p', 'o', 'y', 'h'), ('n', 't', 'p', 'o', 'h', 'y'), ('n', 't', 'y', 'p', 'h', 'o'), ('n', 't', 'y', 'p', 'o', 'h'), ('n', 't', 'y', 'h', 'p', 'o'), ('n', 't', 'y', 'h', 'o', 'p'), ('n', 't', 'y', 'o', 'p', 'h'), ('n', 't', 'y', 'o', 'h', 'p'), ('n', 't', 'h', 'p', 'y', 'o'), ('n', 't', 'h', 'p', 'o', 'y'), ('n', 't', 'h', 'y', 'p', 'o'), ('n', 't', 'h', 'y', 'o', 'p'), ('n', 't', 'h', 'o', 'p', 'y'), ('n', 't', 'h', 'o', 'y', 'p'), ('n', 't', 'o', 'p', 'y', 'h'), ('n', 't', 'o', 'p', 'h', 'y'), ('n', 't', 'o', 'y', 'p', 'h'), ('n', 't', 'o', 'y', 'h', 'p'), ('n', 't', 'o', 'h', 'p', 'y'), ('n', 't', 'o', 'h', 'y', 'p'), ('n', 'h', 'p', 'y', 't', 'o'), ('n', 'h', 'p', 'y', 'o', 't'), ('n', 'h', 'p', 't', 'y', 'o'), ('n', 'h', 'p', 't', 'o', 'y'), ('n', 'h', 'p', 'o', 'y', 't'), ('n', 'h', 'p', 'o', 't', 'y'), ('n', 'h', 'y', 'p', 't', 'o'), ('n', 'h', 'y', 'p', 'o', 't'), ('n', 'h', 'y', 't', 'p', 'o'), ('n', 'h', 'y', 't', 'o', 'p'), ('n', 'h', 'y', 'o', 'p', 't'), ('n', 'h', 'y', 'o', 't', 'p'), ('n', 'h', 't', 'p', 'y', 'o'), ('n', 'h', 't', 'p', 'o', 'y'), ('n', 'h', 't', 'y', 'p', 'o'), ('n', 'h', 't', 'y', 'o', 'p'), ('n', 'h', 't', 'o', 'p', 'y'), ('n', 'h', 't', 'o', 'y', 'p'), ('n', 'h', 'o', 'p', 'y', 't'), ('n', 'h', 'o', 'p', 't', 'y'), ('n', 'h', 'o', 'y', 'p', 't'), ('n', 'h', 'o', 'y', 't', 'p'), ('n', 'h', 'o', 't', 'p', 'y'), ('n', 'h', 'o', 't', 'y', 'p'), ('n', 'o', 'p', 'y', 't', 'h'), ('n', 'o', 'p', 'y', 'h', 't'), ('n', 'o', 'p', 't', 'y', 'h'), ('n', 'o', 'p', 't', 'h', 'y'), ('n', 'o', 'p', 'h', 'y', 't'), ('n', 'o', 'p', 'h', 't', 'y'), ('n', 'o', 'y', 'p', 't', 'h'), ('n', 'o', 'y', 'p', 'h', 't'), ('n', 'o', 'y', 't', 'p', 'h'), ('n', 'o', 'y', 't', 'h', 'p'), ('n', 'o', 'y', 'h', 'p', 't'), ('n', 'o', 'y', 'h', 't', 'p'), ('n', 'o', 't', 'p', 'y', 'h'), ('n', 'o', 't', 'p', 'h', 'y'), ('n', 'o', 't', 'y', 'p', 'h'), ('n', 'o', 't', 'y', 'h', 'p'), ('n', 'o', 't', 'h', 'p', 'y'), ('n', 'o', 't', 'h', 'y', 'p'), ('n', 'o', 'h', 'p', 'y', 't'), ('n', 'o', 'h', 'p', 't', 'y'), ('n', 'o', 'h', 'y', 'p', 't'), ('n', 'o', 'h', 'y', 't', 'p'), ('n', 'o', 'h', 't', 'p', 'y'), ('n', 'o', 'h', 't', 'y', 'p')]\n"
          ]
        }
      ]
    },
    {
      "cell_type": "markdown",
      "metadata": {
        "id": "Ygonr8C4pEgg"
      },
      "source": [
        "# Mission 5\n",
        "\n",
        "Create a list of integers. Then, display a list with the elements ordered from smallest to largest, using the right built-in function.\n",
        "\n",
        "With the list `test_list5 = [3, 4, 0, -1, 35, 7]`, this will display:\n",
        "\n",
        "TRAD:\n",
        "**Créez une liste d'entiers. Ensuite, affichez une liste dont les éléments sont classés du plus petit au plus grand, en utilisant la bonne fonction intégrée.**\n",
        "\n",
        "**Avec la liste** `test_list5 = [3, 4, 0, -1, 35, 7]`**, ceci affichera :**\n",
        "```\n",
        "[-1, 0, 3, 4, 7, 35]\n",
        "```"
      ]
    },
    {
      "cell_type": "code",
      "source": [
        "## Les objets de type liste possèdent une méthode sort() qui permet de trier la liste de manière alphanumérique, en ordre croissant, par défaut;\n",
        "# avec \"reverse = True\" Trie en ordre décroissant tel que: \"list.sort(reverse = True)\"\n",
        "\n",
        "abc_list = [\"orange\", \"mango\", \"kiwi\", \"pineapple\", \"banana\"]\n",
        "num_list = [3, 4, 0, -1, 35, 7]\n",
        "\n",
        "abc_list.sort()\n",
        "num_list.sort()\n",
        "\n",
        "print('Vos listes dans ordre alphabétique & ordre croissant:', abc_list,'&',num_list)"
      ],
      "metadata": {
        "id": "KYW-riV7K3DA",
        "colab": {
          "base_uri": "https://localhost:8080/"
        },
        "outputId": "d9823aa7-6e66-4115-8bcf-2c520bfd2438"
      },
      "execution_count": null,
      "outputs": [
        {
          "output_type": "stream",
          "name": "stdout",
          "text": [
            "Vos listes dans ordre alphabétique & ordre croissant: ['banana', 'kiwi', 'mango', 'orange', 'pineapple'] & [-1, 0, 3, 4, 7, 35]\n"
          ]
        }
      ]
    },
    {
      "cell_type": "markdown",
      "metadata": {
        "id": "V8ZS3aECXvuZ"
      },
      "source": [
        "# Mission 6\n",
        "\n",
        "Ask the user for a string, convert it to a list of characters with the `list` function, then ask for a single character.\n",
        "\n",
        "Remove the first occurrence of the character from the list, then display how many occurrences of the character remain in the list.\n",
        "\n",
        "For instance if you enter `\"Excellent work\"` then the letter `\"e\"`, it will display:\n",
        "```\n",
        "There are still 2 copies of e in the list\n",
        "```\n",
        "TRAD:\n",
        "**Demandez à l'utilisateur une chaîne de caractères, convertissez-la en une liste de caractères avec la fonction `list`, puis demandez un seul caractère.**\n",
        "\n",
        "**Retirez la première occurrence du caractère de la liste, puis affichez le nombre d'occurrences du caractère restant dans la liste.**\n",
        "\n",
        "**Par exemple, si vous entrez \"Excellent travail\", puis la lettre \"e\", il affichera :**\n",
        "```\n",
        "Il y a encore 2 exemplaires de e dans la liste"
      ]
    },
    {
      "cell_type": "code",
      "metadata": {
        "id": "dlRdqxco5r8U",
        "colab": {
          "base_uri": "https://localhost:8080/"
        },
        "outputId": "35f891b4-db78-4316-92dd-d510b911f758"
      },
      "source": [
        "ma_chaine =str(input(\"Entrez un mot ou goupe de mot SVP :\"))\n",
        "\n",
        "# Transformer une string en liste\n",
        "# Transformer une chaine de caractère en liste avec la méthode \" split(\"x\") \": coupe quand tu vois le caractère \"x\"\n",
        "new_chaine_out_space = ma_chaine.split(\" \")\n",
        "print('votre mot ou groupe de mot est transformé en liste de mot:', new_chaine_out_space)\n",
        "\n",
        "ma_liste_mots =list(ma_chaine) # Utilisation de \"list(str)\" pour donner la liste des lettres contenue dans le string \"str\"\n",
        "print('votre mot ou groupe de mot contient la liste de lettres:', ma_liste_mots)\n",
        "\n",
        "ma_lettre = input(\"Entrez SVP, une lettre contenue dans cette liste de lettres :\")\n",
        "\n",
        "x = ma_liste_mots.count(ma_lettre) # Utilisation du count():\"list.count(n)\" pour compter le nombre d'occurences \"n\" dans list de string.\n",
        "print('Il y a encore', x , 'exemplaire(s) de',ma_lettre, 'dans vôtre liste de mot.')\n",
        "\n",
        "# les DECOUVERTES:\n",
        "#ma_lettre in new_chaine_out_space # \"3 in list\" check & renvoie:True/False si \"3\" se trouve dans la liste \"list\" /!\\ fonctionne pour les INT,\n",
        "#à trouver son correspondant pour les string !\n",
        "\n",
        "#Autre piste à creuser (boucle for avec condiction!)\n",
        "#if i in range (new_chaine_out_space[i]): # idée de la condiction afin de parcourir les lettrespar lettre dans une liste"
      ],
      "execution_count": null,
      "outputs": [
        {
          "output_type": "stream",
          "name": "stdout",
          "text": [
            "Entrez un mot ou goupe de mot SVP :Excellent travail\n",
            "votre mot ou groupe de mot est transformé en liste de mot: ['Excellent', 'travail']\n",
            "votre mot ou groupe de mot contient la liste de lettres: ['E', 'x', 'c', 'e', 'l', 'l', 'e', 'n', 't', ' ', 't', 'r', 'a', 'v', 'a', 'i', 'l']\n",
            "Entrez SVP, une lettre contenue dans cette liste de lettres :e\n",
            "Il y a encore 2 exemplaires de e dans vôtre liste de mot.\n"
          ]
        }
      ]
    },
    {
      "cell_type": "markdown",
      "metadata": {
        "id": "geMLdrvAYHKx"
      },
      "source": [
        "# Mission 7\n",
        "\n",
        "Define three lists containing no duplicates. Then, indicate (however you like) the two that have the most elements in common (or all three if there's a tie).\n",
        "\n",
        "For instance, with:\n",
        "```\n",
        "list_a = [1, 2, 4, 8, 16, 32]\n",
        "list_b = [1, 2, 3, 5, 8, 13]\n",
        "list_c = [2, 3, 5, 7, 11, 13]\n",
        "```\n",
        "It may display:\n",
        "```\n",
        "Lists B and C have the most common elements!\n",
        "```\n",
        "TRAD:\n",
        "**Définissez trois listes ne contenant aucun doublon. Ensuite, indiquez (comme vous le souhaitez) les deux qui ont le plus d'éléments en commun (ou les trois s'il y a égalité).**\n",
        "\n",
        "**Par exemple, avec :**\n",
        "```\n",
        "list_a = [1, 2, 4, 8, 16, 32]\n",
        "list_b = [1, 2, 3, 5, 8, 13]\n",
        "list_c = [2, 3, 5, 7, 11, 13]\n",
        "```\n",
        "**Il peut afficher :**\n",
        "```\n",
        "Les listes B et C ont les éléments les plus communs !\n",
        "```"
      ]
    },
    {
      "cell_type": "code",
      "metadata": {
        "id": "1-cenx3RSPpq",
        "colab": {
          "base_uri": "https://localhost:8080/"
        },
        "outputId": "da470b56-ecca-4199-a673-cc030b13b455"
      },
      "source": [
        "# Générons trois listes aléatoires de nombres entiers\n",
        "import random #importons le mode \"ramdom\"\n",
        "\n",
        "# Liste1:Utilisons # random.randint(a, b) renvoie un nombre entier aléatoire (random_numbers) compris entre a et b inclus:\n",
        "l1 = [random.randint(0, 20) for x in range(6)] # \"range(y): liste de longueur y\"; Remarque: on mets le tout entre [] pour signifier qu'on veux une liste\n",
        "print('Liste_1 =',l1)\n",
        "\n",
        "# Liste2:Utilisons #random.randrange(a) est une autre méthode qui renvoie un nombre aléatoire n tel que 0 <= n < a :\n",
        "l2 = [random.randrange(10) for x in range(6)] # Remarque:on peut avoir des répétions de nos entiers avec random.randrange(a)\n",
        "print('Liste_2 =',l2)\n",
        "\n",
        "# Liste3:Utilisons # random.choices(list) renvoie une liste d’éléments sélectionnés au hasard dans un itérable donné,ici: 'list'\n",
        "#Cependant, elle ne garde pas trace des éléments sélectionnés, ce qui fait que vous pouvez obtenir des éléments en double!\n",
        "# random.choice() fournir donc un itérable – idéal pour faire des comparaisons entre listes\n",
        "l3 = random.choices(l1 or l2, k=3) + [random.randrange(50) for x in range(3)] # choix alétoire de 3 élements dans \"l1\" ou \"l2\"\n",
        "# et concatener une partie de liste alétoire grâce l'opérateur \"+\" (on peut aussi utiliser \"||\")  de longueur 3\n",
        "print('Liste_3 =',l3)\n",
        "\n",
        "# Comparaisons entre l1; l2 et l3:\n",
        "# ETAPE 1 :Utilisation de la Boucle \"for\" pour POSER le problème de comparaison\n",
        "for i in range(1):\n",
        "    if l1[:] == l2[:] == l3[:]: #liste[:] # Affiche toutes les élements dans la \"liste\"\n",
        "      print('il y a égalité entre les 3 Listes:',l3) # Sort l'initialisation pour régler les occurences des listes\n",
        "    else :\n",
        "      print('Liste_1:',l1, '&','Liste_2:',l2 ,'a le plus grand nombre élements?')\n",
        "      print('Liste_1:',l1, '&','Liste_3:',l3 ,'a le plus grand nombre élements?')\n",
        "      print('Liste_2:',l2, '&', 'Liste_3:',l3 ,'a le plus grand nombre élements?')\n",
        "# ETAPE 2 :Utilisation de la condiction \"if\" pour FAIRE la comparaison\n",
        "#Utilisez le set pour comparer des listes en Python\n",
        "#Le Set est une collection d’éléments et n’est pas ordonné.\n",
        "#Nous pouvons directement convertir une liste en un ensemble en utilisant la fonction set() et les comparer pour l’égalité.\n",
        "if(set(l1) == set(l2)):\n",
        "    print(\"il y a plus les éléments communs entre les Liste_1 & Liste_2\")\n",
        "elif(set(l1) == set(l3)):\n",
        "    print(\"il y a plus les éléments communs entre les Liste_1 & Liste_3\")\n",
        "elif(set(l2) == set(l3)):\n",
        "    print(\"il y a plus les éléments communs entre les Liste_2 & Liste_3\")\n",
        "else:\n",
        "    print(\"Tous les Listes sont égales ou possèdent des élements en communs\")\n",
        "\n",
        "# Affichons les éléments en communs:\n",
        "print(\"Les communs Elements de Liste_1 & Liste_2 sont:\", set(l1) & set(l2))\n",
        "print(\"Les communs Elements de Liste_1 & Liste_3 sont:\", set(l1) & set(l3))\n",
        "print(\"Les communs Elements de Liste_2 & Liste_3 sont:\", set(l2) & set(l3))"
      ],
      "execution_count": null,
      "outputs": [
        {
          "output_type": "stream",
          "name": "stdout",
          "text": [
            "Liste_1 = [4, 13, 16, 19, 1, 13]\n",
            "Liste_2 = [0, 9, 3, 1, 7, 6]\n",
            "Liste_3 = [4, 13, 16, 23, 5, 6]\n",
            "Liste_1: [4, 13, 16, 19, 1, 13] & Liste_2: [0, 9, 3, 1, 7, 6] a le plus grand nombre élements?\n",
            "Liste_1: [4, 13, 16, 19, 1, 13] & Liste_3: [4, 13, 16, 23, 5, 6] a le plus grand nombre élements?\n",
            "Liste_2: [0, 9, 3, 1, 7, 6] & Liste_1: [4, 13, 16, 23, 5, 6] a le plus grand nombre élements?\n",
            "Tous les Listes sont égales\n",
            "Les communs Elements de Liste_1 & Liste_2 sont: {1}\n",
            "Les communs Elements de Liste_1 & Liste_3 sont: {16, 4, 13}\n",
            "Les communs Elements de Liste_2 & Liste_3 sont: {6}\n"
          ]
        }
      ]
    }
  ]
}