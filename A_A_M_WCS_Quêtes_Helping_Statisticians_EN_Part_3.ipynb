{
  "nbformat": 4,
  "nbformat_minor": 0,
  "metadata": {
    "colab": {
      "provenance": [],
      "include_colab_link": true
    },
    "kernelspec": {
      "name": "python3",
      "display_name": "Python 3"
    }
  },
  "cells": [
    {
      "cell_type": "markdown",
      "metadata": {
        "id": "view-in-github",
        "colab_type": "text"
      },
      "source": [
        "<a href=\"https://colab.research.google.com/github/mars241/PYTHON/blob/main/A_A_M_WCS_Qu%C3%AAtes_Helping_Statisticians_EN_Part_3.ipynb\" target=\"_parent\"><img src=\"https://colab.research.google.com/assets/colab-badge.svg\" alt=\"Open In Colab\"/></a>"
      ]
    },
    {
      "cell_type": "markdown",
      "metadata": {
        "id": "zsHobPhC3ffd"
      },
      "source": [
        "\n",
        "## Mathematical functions that need coding\n",
        "![Find x](https://www.mathwarehouse.com/jokes/images/find-x-funny-math-image-joke.webp)\n",
        "\n",
        "**Now the statisticians are begging you to code ready-made math functions for them. Below are the functions they use most often. Code the functions in the cells below:**\n",
        "\n",
        "- Square of a number: Create a function that returns the square of a number.\n",
        "- Cube of a number: Create a function that returns the cube of a number.\n",
        "- Absolute value: Create a function that returns the absolute value of a number.\n",
        "- Factorial of a number: Create a function that returns the factorial of a number.\n",
        "- Mode of a list of numbers: Create a function that returns the mode of a list of numbers, for instance [68, 99, 65, 44, 77, 44, 44] --> 44.\n",
        "- Average of a list of numbers: Create a function that returns the average of a list of numbers.\n",
        "- Minimum of a list of numbers: Create a function that returns the minimum from within a list of numbers.\n",
        "- Maximum of a list of numbers: Create a function that returns the maximum from within a list of numbers.\n",
        "\n",
        "**Yes, all those functions already exist in dedicated modules, and you may not reuse them, unfortunately: you may only use loops, conditionals, basic structures, `len`, addition, subtraction, multiplication, division and powers.**\n",
        "\n",
        "**Don't forget to test your functions with at least two possible cases!**"
      ]
    },
    {
      "cell_type": "markdown",
      "source": [
        "Maintenant, les statisticiens vous supplient de coder pour eux des fonctions mathématiques toutes faites. Vous trouverez ci-dessous les fonctions qu'ils utilisent le plus souvent. Codez les fonctions dans les cellules ci-dessous :\n",
        "\n",
        "Carré d'un nombre : Créez une fonction qui renvoie le carré d'un nombre.\n",
        "Cube d'un nombre : Créez une fonction qui renvoie le cube d'un nombre.\n",
        "Valeur absolue : Créez une fonction qui renvoie la valeur absolue d'un nombre.\n",
        "Facteur d'un nombre : Créez une fonction qui renvoie la factorielle d'un nombre.\n",
        "Mode d'une liste de nombres : Créez une fonction qui renvoie le mode d'une liste de nombres, par exemple [68, 99, 65, 44, 77, 44, 44] --> 44.\n",
        "Moyenne d'une liste de nombres : Créez une fonction qui renvoie la moyenne d'une liste de nombres.\n",
        "Minimum d'une liste de nombres : Créez une fonction qui renvoie le minimum d'une liste de nombres.\n",
        "Maximum d'une liste de nombres : Créez une fonction qui renvoie le maximum d'une liste de nombres.\n",
        "Oui, toutes ces fonctions existent déjà dans des modules dédiés, et vous ne pouvez malheureusement pas les réutiliser : vous ne pouvez utiliser que des boucles, des conditionnels, des structures de base, len, l'addition, la soustraction, la multiplication, la division et les puissances.\n",
        "\n",
        "N'oubliez pas de tester vos fonctions avec au moins deux cas possibles !\n",
        "\n"
      ],
      "metadata": {
        "id": "8RhPRBeEwm_n"
      }
    },
    {
      "cell_type": "markdown",
      "source": [
        "Optional Question: Create a function that returns the mode of a list of numbers when more than one modal value is present in a given data set. For example [68, 68, 68, 99, 65, 44, 77, 44, 44] --> [68, 44]"
      ],
      "metadata": {
        "id": "l7a_3Ouqptmf"
      }
    },
    {
      "cell_type": "markdown",
      "source": [
        "Question facultative : Créez une fonction qui renvoie le mode d'une liste de nombres lorsque plus d'une valeur modale est présente dans un ensemble de données donné. Par exemple [68, 68, 68, 99, 65, 44, 77, 44, 44] --> [68, 44]"
      ],
      "metadata": {
        "id": "gPu4KuzMw6-2"
      }
    },
    {
      "cell_type": "code",
      "source": [
        "#Carré d'un nombre : Créez une fonction qui renvoie le carré d'un nombre\n",
        "def square(nbr):\n",
        "  carre = nbr ** 2\n",
        "  return carre\n",
        "\n",
        "square(5)"
      ],
      "metadata": {
        "colab": {
          "base_uri": "https://localhost:8080/"
        },
        "id": "JSj_xU0dwhXF",
        "outputId": "13528de9-475f-4f8d-9db1-0852fb288406"
      },
      "execution_count": null,
      "outputs": [
        {
          "output_type": "execute_result",
          "data": {
            "text/plain": [
              "25"
            ]
          },
          "metadata": {},
          "execution_count": 3
        }
      ]
    },
    {
      "cell_type": "code",
      "source": [
        "#Cube d'un nombre : Créez une fonction qui renvoie le cube d'un nombre.\n",
        "def cube(nbr) :\n",
        "  result = nbr ** 3\n",
        "  return result\n",
        "\n",
        "cube(3)"
      ],
      "metadata": {
        "colab": {
          "base_uri": "https://localhost:8080/"
        },
        "id": "9qZ3EOrhyG4D",
        "outputId": "9576146f-648a-4945-a94e-6ea1c8219425"
      },
      "execution_count": null,
      "outputs": [
        {
          "output_type": "execute_result",
          "data": {
            "text/plain": [
              "27"
            ]
          },
          "metadata": {},
          "execution_count": 4
        }
      ]
    },
    {
      "cell_type": "code",
      "source": [
        "#Valeur absolue : Créez une fonction qui renvoie la valeur absolue d'un nombre.\n",
        "def valeur_abs(nbr):\n",
        "  result = abs(nbr)\n",
        "  return result\n",
        "\n",
        "valeur_abs(-10)\n",
        "\n",
        "\n",
        "#Autremement avec les boucles\n",
        "#def valeur_abs_2(nbr):\n",
        "#  if nbr < 0 :\n",
        "#    return -nbr\n",
        "#  else :\n",
        "#    return nbr\n",
        "\n",
        "#valeur_abs_2(-6)"
      ],
      "metadata": {
        "colab": {
          "base_uri": "https://localhost:8080/"
        },
        "id": "wvrpzaKiy3SU",
        "outputId": "de73cdc6-3851-4cd5-ad01-65104190ccfe"
      },
      "execution_count": null,
      "outputs": [
        {
          "output_type": "execute_result",
          "data": {
            "text/plain": [
              "10"
            ]
          },
          "metadata": {},
          "execution_count": 6
        }
      ]
    },
    {
      "cell_type": "code",
      "source": [
        "#Facteur d'un nombre : Créez une fonction qui renvoie la factorielle d'un nombre.\n",
        "def fact(nbr):\n",
        "  compt = 1\n",
        "  for i in range(1, nbr + 1):\n",
        "    compt *= i\n",
        "  return compt\n",
        "\n",
        "fact(5)"
      ],
      "metadata": {
        "colab": {
          "base_uri": "https://localhost:8080/"
        },
        "id": "5APm-DP5zZDl",
        "outputId": "5a06ea32-c50d-41e9-ac96-133af6004b10"
      },
      "execution_count": null,
      "outputs": [
        {
          "output_type": "execute_result",
          "data": {
            "text/plain": [
              "120"
            ]
          },
          "metadata": {},
          "execution_count": 8
        }
      ]
    },
    {
      "cell_type": "code",
      "source": [
        "#Mode d'une liste de nombres : Créez une fonction qui renvoie le mode d'une liste de nombres, par exemple [68, 99, 65, 44, 77, 44, 44] --> 44.\n",
        "def mymode_lst(lst):\n",
        "  mod = (max(set(lst), key = lst.count))# utilisation du set: Comme les dictionnaires( Pour créer une dictionnaire vide, il faut utiliser la fonction set() ), les sets sont des collections d'éléments non-ordonnées.\n",
        "  #Dans un set, chaque élément doit être unique et immuable, c'est-à-dire qu'il ne peut pas être modifié.\n",
        "  return mod\n",
        "\n",
        "mymode_lst([68,99,65,44,77,44,44])"
      ],
      "metadata": {
        "colab": {
          "base_uri": "https://localhost:8080/"
        },
        "id": "GfqQ6mFN2LZv",
        "outputId": "a11b6c0f-9c88-4a48-b1c2-afad316c7cc4"
      },
      "execution_count": null,
      "outputs": [
        {
          "output_type": "execute_result",
          "data": {
            "text/plain": [
              "44"
            ]
          },
          "metadata": {},
          "execution_count": 9
        }
      ]
    },
    {
      "cell_type": "code",
      "source": [
        "# Moyenne d'une liste de nombres : Créez une fonction qui renvoie la moyenne d'une liste de nombre\n",
        "def average_lst(lst):\n",
        "  tot = 0\n",
        "  for i in lst :\n",
        "    tot = tot + i\n",
        "  average = tot / len(lst)\n",
        "  return average\n",
        "\n",
        "average_lst([68, 68, 68, 99, 65, 44, 77, 44, 44])"
      ],
      "metadata": {
        "colab": {
          "base_uri": "https://localhost:8080/"
        },
        "id": "bWOUOutX6Od9",
        "outputId": "bb3c8417-232a-44c7-9ee9-149ca463e4c4"
      },
      "execution_count": null,
      "outputs": [
        {
          "output_type": "execute_result",
          "data": {
            "text/plain": [
              "64.11111111111111"
            ]
          },
          "metadata": {},
          "execution_count": 14
        }
      ]
    },
    {
      "cell_type": "code",
      "source": [
        "# Minimum d'une liste de nombres : Créez une fonction qui renvoie le minimum d'une liste de nombres.\n",
        "def min_lst(lst):\n",
        "  new_list = sorted(lst) # Les listes Python ont une méthode native list.sort() qui modifie les listes elles-mêmes.\n",
        "  #Il y a également une fonction native sorted() qui construit une nouvelle liste triée depuis un itérable.\n",
        "  min = new_list[0]\n",
        "  return min\n",
        "\n",
        "min_lst([68, 68, 68, 99, 65, 44, 77, 44, 44])"
      ],
      "metadata": {
        "colab": {
          "base_uri": "https://localhost:8080/"
        },
        "id": "p3GzOWuw6RIM",
        "outputId": "0d0a9b85-e34b-4873-db3e-76c6375a333e"
      },
      "execution_count": null,
      "outputs": [
        {
          "output_type": "execute_result",
          "data": {
            "text/plain": [
              "44"
            ]
          },
          "metadata": {},
          "execution_count": 13
        }
      ]
    },
    {
      "cell_type": "code",
      "source": [
        "# Maximum d'une liste de nombres : Créez une fonction qui renvoie le maximum d'une liste de nombres.\n",
        "def max_lst(lst):\n",
        "  new_list = sorted(lst)\n",
        "  max = new_list[-1]\n",
        "  return max\n",
        "\n",
        "max_lst([68, 68, 68, 99, 65, 44, 77, 44, 44])"
      ],
      "metadata": {
        "colab": {
          "base_uri": "https://localhost:8080/"
        },
        "id": "rPIdoZLX8Xv9",
        "outputId": "f0ba9191-59de-4dda-937d-daa982622416"
      },
      "execution_count": null,
      "outputs": [
        {
          "output_type": "execute_result",
          "data": {
            "text/plain": [
              "99"
            ]
          },
          "metadata": {},
          "execution_count": 18
        }
      ]
    },
    {
      "cell_type": "code",
      "source": [
        "#Question facultative : Créez une fonction qui renvoie le mode d'une liste de nombres lorsque plus d'une valeur modale est présente dans un ensemble de données donné.\n",
        "# Par exemple [68, 68, 68, 99, 65, 44, 77, 44, 44] --> [68, 44]\n",
        "import statistics # biliothèque\n",
        "statistics.multimode([68, 68, 68, 99, 65, 44, 77, 44, 44])"
      ],
      "metadata": {
        "colab": {
          "base_uri": "https://localhost:8080/"
        },
        "id": "4lRM78WY-P1r",
        "outputId": "cfed3a92-00e4-41be-8908-2fe857caabc5"
      },
      "execution_count": null,
      "outputs": [
        {
          "output_type": "execute_result",
          "data": {
            "text/plain": [
              "[68, 44]"
            ]
          },
          "metadata": {},
          "execution_count": 16
        }
      ]
    }
  ]
}