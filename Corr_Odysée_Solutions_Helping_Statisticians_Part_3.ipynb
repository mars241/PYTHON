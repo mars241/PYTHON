{
  "nbformat": 4,
  "nbformat_minor": 0,
  "metadata": {
    "colab": {
      "provenance": [],
      "include_colab_link": true
    },
    "kernelspec": {
      "name": "python3",
      "display_name": "Python 3"
    }
  },
  "cells": [
    {
      "cell_type": "markdown",
      "metadata": {
        "id": "view-in-github",
        "colab_type": "text"
      },
      "source": [
        "<a href=\"https://colab.research.google.com/github/mars241/PYTHON/blob/main/Corr_Odys%C3%A9e_Solutions_Helping_Statisticians_Part_3.ipynb\" target=\"_parent\"><img src=\"https://colab.research.google.com/assets/colab-badge.svg\" alt=\"Open In Colab\"/></a>"
      ]
    },
    {
      "cell_type": "markdown",
      "metadata": {
        "id": "zsHobPhC3ffd"
      },
      "source": [
        "\n",
        "## Mathematical functions that need coding\n",
        "![Find x](https://www.mathwarehouse.com/jokes/images/find-x-funny-math-image-joke.webp)\n",
        "\n",
        "**Now the statisticians are begging you to code ready-made math functions for them. Below are the functions they use most often. Code the functions in the cells below:**\n",
        "\n",
        "- Square of a number: Create a function that returns the square of a number.\n",
        "- Cube of a number: Create a function that returns the cube of a number.\n",
        "- Absolute value: Create a function that returns the absolute value of a number.\n",
        "- Factorial of a number: Create a function that returns the factorial of a number.\n",
        "- Mode of a list of numbers: Create a function that returns the mode of a list of numbers, for instance [68, 99, 65, 44, 77, 44, 44] --> 44.\n",
        "- Average of a list of numbers: Create a function that returns the average of a list of numbers.\n",
        "- Minimum of a list of numbers: Create a function that returns the minimum from within a list of numbers.\n",
        "- Maximum of a list of numbers: Create a function that returns the maximum from within a list of numbers.\n",
        "\n",
        "**Yes, all those functions already exist in dedicated modules, and you may not reuse them, unfortunately: you may only use loops, conditionals, basic structures, `len`, addition, subtraction, multiplication, division and powers.**\n",
        "\n",
        "**Don't forget to test your functions with at least two possible cases!**"
      ]
    },
    {
      "cell_type": "markdown",
      "source": [
        "Optional Question: Create a function that returns the mode of a list of numbers when more than one modal value is present in a given data set. For example [68, 68, 68, 99, 65, 44, 77, 44, 44] --> [68, 44]"
      ],
      "metadata": {
        "id": "Sie0zHAApxoB"
      }
    },
    {
      "cell_type": "code",
      "metadata": {
        "id": "LG06LRotlRyf",
        "colab": {
          "base_uri": "https://localhost:8080/"
        },
        "outputId": "9bc8690f-1b30-4b63-bae5-069addc453cf"
      },
      "source": [
        "#Square of a number: Create a function that returns the square of a number.\n",
        "\n",
        "def square(number):\n",
        "  result = number ** 2\n",
        "  return result\n",
        "\n",
        "square(9)"
      ],
      "execution_count": null,
      "outputs": [
        {
          "output_type": "execute_result",
          "data": {
            "text/plain": [
              "81"
            ]
          },
          "metadata": {},
          "execution_count": 45
        }
      ]
    },
    {
      "cell_type": "code",
      "metadata": {
        "colab": {
          "base_uri": "https://localhost:8080/"
        },
        "id": "zIi6ADPktSbk",
        "outputId": "7a2e4c34-b85e-497d-c17c-349d433d911a"
      },
      "source": [
        "#Cube of a number: Create a function that returns the cube of a number.\n",
        "\n",
        "def cube(number) :\n",
        "  result = number ** 3\n",
        "  return result\n",
        "\n",
        "cube(5)\n"
      ],
      "execution_count": null,
      "outputs": [
        {
          "output_type": "execute_result",
          "data": {
            "text/plain": [
              "125"
            ]
          },
          "metadata": {},
          "execution_count": 43
        }
      ]
    },
    {
      "cell_type": "code",
      "metadata": {
        "colab": {
          "base_uri": "https://localhost:8080/"
        },
        "id": "GwfRLiqjtcqU",
        "outputId": "e8041264-d6d4-41b1-efce-dc68e0850391"
      },
      "source": [
        "#Absolute value: Create a function that returns the absolute value of a number.\n",
        "#cheat solution\n",
        "def absolute_value(number):\n",
        "  result = abs(number)\n",
        "  return result\n",
        "\n",
        "absolute_value(-5)\n"
      ],
      "execution_count": null,
      "outputs": [
        {
          "output_type": "execute_result",
          "data": {
            "text/plain": [
              "5"
            ]
          },
          "metadata": {},
          "execution_count": 3
        }
      ]
    },
    {
      "cell_type": "code",
      "metadata": {
        "id": "Q3OmffIx2CtG",
        "colab": {
          "base_uri": "https://localhost:8080/"
        },
        "outputId": "97bc8902-5419-4db6-d2d1-f32df0e0a3a3"
      },
      "source": [
        "#Absolute value: Create a function that returns the absolute value of a number.\n",
        "#less cheat solution\n",
        "\n",
        "def absolute_value_2(number):\n",
        "  if number < 0 :\n",
        "    return -number\n",
        "  else :\n",
        "    return number\n",
        "\n",
        "absolute_value_2(-78)"
      ],
      "execution_count": null,
      "outputs": [
        {
          "output_type": "execute_result",
          "data": {
            "text/plain": [
              "78"
            ]
          },
          "metadata": {},
          "execution_count": 50
        }
      ]
    },
    {
      "cell_type": "code",
      "metadata": {
        "colab": {
          "base_uri": "https://localhost:8080/"
        },
        "id": "cP3EPMCCtzqN",
        "outputId": "5ddffdf7-5cfc-4f88-8f6d-19004b29504c"
      },
      "source": [
        "#Factorial of a number: Create a function that returns the factorial of a number.\n",
        "\n",
        "def factorial(number):\n",
        "  counter = 1\n",
        "  for i in range(1, number + 1):\n",
        "    counter *= i\n",
        "  return counter\n",
        "\n",
        "factorial(4)"
      ],
      "execution_count": null,
      "outputs": [
        {
          "output_type": "execute_result",
          "data": {
            "text/plain": [
              "24"
            ]
          },
          "metadata": {},
          "execution_count": 4
        }
      ]
    },
    {
      "cell_type": "code",
      "metadata": {
        "colab": {
          "base_uri": "https://localhost:8080/"
        },
        "id": "kKzfo-6fuUs4",
        "outputId": "1ac37aa8-5802-4201-8cf3-ab874c319b08"
      },
      "source": [
        "#Mode of a list of numbers: Create a function that returns the mode of a list of numbers.\n",
        "\n",
        "def mode_of_a_list(a_list):\n",
        "  mode = (max(set(a_list), key = a_list.count))\n",
        "  return mode\n",
        "\n",
        "mode_of_a_list([68,99,65,44,77,44,44])"
      ],
      "execution_count": null,
      "outputs": [
        {
          "output_type": "execute_result",
          "data": {
            "text/plain": [
              "44"
            ]
          },
          "metadata": {},
          "execution_count": 15
        }
      ]
    },
    {
      "cell_type": "code",
      "metadata": {
        "colab": {
          "base_uri": "https://localhost:8080/"
        },
        "id": "OTBp69MOuXa0",
        "outputId": "c057ea50-5859-4ae8-8690-4362e4ae6b32"
      },
      "source": [
        "#Average of a list of numbers: Create a function that returns the average of a list of numbers.\n",
        "\n",
        "def average_of_a_list(a_list):\n",
        "  total = 0\n",
        "  for i in a_list :\n",
        "    total = total + i\n",
        "  average = total / len(a_list)\n",
        "  return average\n",
        "\n",
        "average_of_a_list([1,6,7,8,5,10,11])\n"
      ],
      "execution_count": null,
      "outputs": [
        {
          "output_type": "execute_result",
          "data": {
            "text/plain": [
              "6.857142857142857"
            ]
          },
          "metadata": {},
          "execution_count": 22
        }
      ]
    },
    {
      "cell_type": "code",
      "metadata": {
        "colab": {
          "base_uri": "https://localhost:8080/"
        },
        "id": "7ObOdXgOyK8p",
        "outputId": "b7f25dd1-c1e1-4975-87e7-81bb79f59962"
      },
      "source": [
        "#Minimum of a list of numbers: Create a function that returns the minimum from within a list of numbers.\n",
        "\n",
        "def minimum_of_a_list(a_list):\n",
        "  new_list = sorted(a_list)\n",
        "  min = new_list[0]\n",
        "  return min\n",
        "\n",
        "minimum_of_a_list([6,8,4,6,2,5])\n"
      ],
      "execution_count": null,
      "outputs": [
        {
          "output_type": "execute_result",
          "data": {
            "text/plain": [
              "2"
            ]
          },
          "metadata": {},
          "execution_count": 34
        }
      ]
    },
    {
      "cell_type": "code",
      "metadata": {
        "colab": {
          "base_uri": "https://localhost:8080/"
        },
        "id": "x6DpdDWqysMh",
        "outputId": "790d086a-c6b7-434b-f27a-05ab9d4177e7"
      },
      "source": [
        "#Maximum of a list of numbers: Create a function that returns the maximum from within a list of numbers.\n",
        "\n",
        "def maximum_of_a_list(a_list):\n",
        "  new_list = sorted(a_list)\n",
        "  max = new_list[-1]\n",
        "  return max\n",
        "\n",
        "maximum_of_a_list([6,8,4,6,2,5,10])"
      ],
      "execution_count": null,
      "outputs": [
        {
          "output_type": "execute_result",
          "data": {
            "text/plain": [
              "10"
            ]
          },
          "metadata": {},
          "execution_count": 42
        }
      ]
    },
    {
      "cell_type": "code",
      "source": [
        "# Optional Question: Create a function that returns the mode of a list of numbers when more than one modal value is present in a given data set.\n",
        "# For example [68, 68, 68, 99, 65, 44, 77, 44, 44] --> [68, 44]\n",
        "\n",
        "### Method 1\n",
        "import statistics\n",
        "statistics.multimode([68, 68, 68, 99, 65, 44, 77, 44, 44]) # requires python >= 3.8"
      ],
      "metadata": {
        "id": "NnbUEdNuJtdO"
      },
      "execution_count": null,
      "outputs": []
    },
    {
      "cell_type": "code",
      "source": [
        "### Method 2\n",
        "from collections import Counter\n",
        "c = Counter([68, 68, 68, 99, 65, 44, 77, 44, 44])\n",
        "dico_counter = dict(c.most_common()) # sort by values\n",
        "print(dico_counter)\n",
        "\n",
        "multimode = [key  for (key, value) in dico_counter.items() if value == max(dico_counter.values())]\n",
        "print(multimode)"
      ],
      "metadata": {
        "colab": {
          "base_uri": "https://localhost:8080/"
        },
        "id": "kNTyq86FqIX9",
        "outputId": "5a51ff4f-6003-467a-e5b8-fd501a57448e"
      },
      "execution_count": null,
      "outputs": [
        {
          "output_type": "stream",
          "name": "stdout",
          "text": [
            "{68: 3, 44: 3, 99: 1, 65: 1, 77: 1}\n",
            "[68, 44]\n"
          ]
        }
      ]
    },
    {
      "cell_type": "code",
      "source": [],
      "metadata": {
        "id": "ohbMBGtWqT_T"
      },
      "execution_count": null,
      "outputs": []
    }
  ]
}