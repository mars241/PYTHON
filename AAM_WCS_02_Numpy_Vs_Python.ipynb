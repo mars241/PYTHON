{
  "nbformat": 4,
  "nbformat_minor": 0,
  "metadata": {
    "colab": {
      "provenance": [],
      "include_colab_link": true
    },
    "kernelspec": {
      "name": "python3",
      "display_name": "Python 3"
    },
    "language_info": {
      "name": "python"
    }
  },
  "cells": [
    {
      "cell_type": "markdown",
      "metadata": {
        "id": "view-in-github",
        "colab_type": "text"
      },
      "source": [
        "<a href=\"https://colab.research.google.com/github/mars241/PYTHON/blob/main/AAM_WCS_02_Numpy_Vs_Python.ipynb\" target=\"_parent\"><img src=\"https://colab.research.google.com/assets/colab-badge.svg\" alt=\"Open In Colab\"/></a>"
      ]
    },
    {
      "cell_type": "markdown",
      "source": [
        "## Vectorized operations\n",
        "\n",
        "## Opérations vectorielles"
      ],
      "metadata": {
        "id": "8msPqS8imUVt"
      }
    },
    {
      "cell_type": "markdown",
      "source": [
        "As you could see in the quest, one of the great strengths of Numpy are the vectorized operations. Numpy will not perform loops to do calculations, but rather perform operations in parallel.   \n",
        "You can look at it this way:  \n",
        "* Python --> loop --> serial (actions one after the other)\n",
        "* Numpy --> vectorized operation --> in parallel (actions next to each other)\n",
        "\n",
        "Comme vous avez pu le voir dans la quête, l'une des grandes forces de Numpy sont les opérations vectorielles. Numpy ne fera pas de boucles pour effectuer des calculs, mais effectuera plutôt des opérations en parallèle.   \n",
        "Vous pouvez voir cela de la manière suivante :  \n",
        "* Python --> boucle --> série (actions les unes après les autres)\n",
        "* Numpy --> opération vectorisée --> en parallèle (actions les unes à côté des autres)"
      ],
      "metadata": {
        "id": "3UxDqS97mXiv"
      }
    },
    {
      "cell_type": "markdown",
      "source": [
        "# Mission 1"
      ],
      "metadata": {
        "id": "jPO68Q9pnUIy"
      }
    },
    {
      "cell_type": "markdown",
      "source": [
        "Considering the object below, we want to calculate the sum for each row.  \n",
        "That is, return the sum of `12 + 5`, then `8 + 32` etc...  \n",
        "Find a way to return the sums of the 4 rows in a list, coding in Python. You must have 4 values in this list.\n",
        "\n",
        "En considérant l'objet ci-dessous, nous voulons calculer la somme pour chaque ligne.  \n",
        "C'est-à-dire, retourner la somme de `12 + 5`, puis `8 + 32` etc...  \n",
        "Trouvez un moyen de retourner les sommes des 4 lignes d'une liste, en codant en Python. Vous devez avoir 4 valeurs dans cette liste."
      ],
      "metadata": {
        "id": "4WffbDfcnwkZ"
      }
    },
    {
      "cell_type": "code",
      "source": [
        "my_list = [\n",
        "           [12,5],\n",
        "           [8,32],\n",
        "           [25,6],\n",
        "           [7,14]\n",
        "]\n",
        "\n",
        "# Méthode Python \n",
        "\n",
        "sums = []\n",
        "\n",
        "for row in my_list:\n",
        "  sums.append(row[0] + row[1])\n",
        "\n",
        "sums\n"
      ],
      "metadata": {
        "colab": {
          "base_uri": "https://localhost:8080/"
        },
        "id": "Rkvky1nUmHj_",
        "outputId": "88c6ac08-5bb7-4416-90fd-6d5580363edd"
      },
      "execution_count": null,
      "outputs": [
        {
          "output_type": "execute_result",
          "data": {
            "text/plain": [
              "[17, 40, 31, 21]"
            ]
          },
          "metadata": {},
          "execution_count": 1
        }
      ]
    },
    {
      "cell_type": "markdown",
      "source": [
        "Now do the same thing, but this time coding in `Numpy`.  \n",
        "`index`: You must first convert `my_list` to ndarray.\n",
        "\n",
        "Maintenant, faites la même chose, mais cette fois-ci en codant en `Numpy`.  \n",
        "`index` : Vous devez d'abord convertir `my_list` en ndarray."
      ],
      "metadata": {
        "id": "L3WVhtI_oU6S"
      }
    },
    {
      "cell_type": "code",
      "source": [
        "import numpy as np\n",
        "# Méthode Numpy \n",
        "\n",
        "my_array = np.array(my_list)\n",
        "\n",
        "# Solution 1\n",
        "print(list(my_array[:, 0] + my_array[:, 1]))\n",
        "\n",
        "# Solution 2\n",
        "list(my_array.sum(axis = 1))"
      ],
      "metadata": {
        "colab": {
          "base_uri": "https://localhost:8080/"
        },
        "id": "HIv2CRVRob-Y",
        "outputId": "ecad4d9b-3200-4f5f-f0af-36b913c6c474"
      },
      "execution_count": null,
      "outputs": [
        {
          "output_type": "stream",
          "name": "stdout",
          "text": [
            "[17, 40, 31, 21]\n"
          ]
        },
        {
          "output_type": "execute_result",
          "data": {
            "text/plain": [
              "[17, 40, 31, 21]"
            ]
          },
          "metadata": {},
          "execution_count": 19
        }
      ]
    },
    {
      "cell_type": "markdown",
      "source": [
        "# Mission 2"
      ],
      "metadata": {
        "id": "hcIV_9nypVg7"
      }
    },
    {
      "cell_type": "markdown",
      "source": [
        "Find a way to return the sums of the 2 columns in a list, by coding in Python. You must have 2 values in this list.\n",
        "\n",
        "Trouvez un moyen de retourner les sommes des 2 colonnes d'une liste, en codant en Python. Vous devez avoir 2 valeurs dans cette liste."
      ],
      "metadata": {
        "id": "uEawd8a9pbrH"
      }
    },
    {
      "cell_type": "code",
      "source": [
        "my_list = [\n",
        "           [12,5],\n",
        "           [8,32],\n",
        "           [25,6],\n",
        "           [7,14]\n",
        "]\n",
        "\n",
        "# Méthode Python \n",
        "\n",
        "\n",
        "sums_1 = []\n",
        "sums_2 = []\n",
        "\n",
        "for row in my_list:\n",
        "  sums_1.append(row[0])\n",
        "  sums_2.append(row[1])\n",
        "\n",
        "result = [sum(sums_1), sum(sums_2)]\n",
        "result\n"
      ],
      "metadata": {
        "colab": {
          "base_uri": "https://localhost:8080/"
        },
        "id": "Pfvwbn-kpXEw",
        "outputId": "ccadacfc-3804-44c9-8177-71f054ce1e93"
      },
      "execution_count": null,
      "outputs": [
        {
          "output_type": "execute_result",
          "data": {
            "text/plain": [
              "[52, 57]"
            ]
          },
          "metadata": {},
          "execution_count": 7
        }
      ]
    },
    {
      "cell_type": "markdown",
      "source": [
        "Now do the same thing, but coding this time in Numpy.  \n",
        "This time you have to propose 2 different solutions, coding in Numpy each time.\n",
        "\n",
        "Faites maintenant la même chose, mais en codant cette fois en Numpy.  \n",
        "Cette fois, vous devez proposer 2 solutions différentes, en codant en Numpy à chaque fois.\n"
      ],
      "metadata": {
        "id": "aj-Vz9hRqhqH"
      }
    },
    {
      "cell_type": "code",
      "source": [
        "# Méthode Numpy \n",
        "\n",
        "# Solution 1\n",
        "print([np.sum(my_array[:,0]),np.sum(my_array[:,1])])\n",
        "\n",
        "# Solution 2\n",
        "list(my_array.sum(axis = 0))"
      ],
      "metadata": {
        "colab": {
          "base_uri": "https://localhost:8080/"
        },
        "id": "pSTnC3PkqlXB",
        "outputId": "9420c21f-ea42-4a87-f8eb-7bc19f5907f9"
      },
      "execution_count": null,
      "outputs": [
        {
          "output_type": "stream",
          "name": "stdout",
          "text": [
            "[52, 57]\n"
          ]
        },
        {
          "output_type": "execute_result",
          "data": {
            "text/plain": [
              "[52, 57]"
            ]
          },
          "metadata": {},
          "execution_count": 20
        }
      ]
    },
    {
      "cell_type": "markdown",
      "source": [
        "# Mission 3"
      ],
      "metadata": {
        "id": "hjEZwMBirvL0"
      }
    },
    {
      "cell_type": "markdown",
      "source": [
        "This time, you will have to return the sum of all the elements included in the object below, coding in `Python`.\n",
        "\n",
        "Cette fois, vous devrez retourner la somme de tous les éléments inclus dans l'objet ci-dessous, en codant en `Python`."
      ],
      "metadata": {
        "id": "5gNu1KM8r03j"
      }
    },
    {
      "cell_type": "code",
      "source": [
        "my_list = [\n",
        "           [12,5],\n",
        "           [8,32],\n",
        "           [25,6],\n",
        "           [7,14]\n",
        "]\n",
        "\n",
        "total = 0\n",
        "\n",
        "# Méthode Python\n",
        "\n",
        "for i in my_list:\n",
        "  for val in i:\n",
        "    total += val\n",
        "\n",
        "total\n"
      ],
      "metadata": {
        "colab": {
          "base_uri": "https://localhost:8080/"
        },
        "id": "lkJFTJucr0Nz",
        "outputId": "bca36413-b29a-44a5-f2b6-451e6148b38a"
      },
      "execution_count": null,
      "outputs": [
        {
          "output_type": "execute_result",
          "data": {
            "text/plain": [
              "109"
            ]
          },
          "metadata": {},
          "execution_count": 22
        }
      ]
    },
    {
      "cell_type": "markdown",
      "source": [
        "As you might expect, you'll have to do this by coding in Numpy.\n",
        "You can propose only one solution. There is a very simple one, and a very effective one too.\n",
        "\n",
        "Comme vous pouvez vous y attendre, vous devrez le faire en codant en Numpy.\n",
        "Vous ne pouvez proposer qu'une seule solution. Il en existe une très simple, et une très efficace aussi."
      ],
      "metadata": {
        "id": "OpdM8v4vsSvq"
      }
    },
    {
      "cell_type": "code",
      "source": [
        "my_array.sum()"
      ],
      "metadata": {
        "colab": {
          "base_uri": "https://localhost:8080/"
        },
        "id": "BWVIH2GAuw_M",
        "outputId": "bbba7740-28da-4350-a9db-ed23e90f7be8"
      },
      "execution_count": null,
      "outputs": [
        {
          "output_type": "execute_result",
          "data": {
            "text/plain": [
              "109"
            ]
          },
          "metadata": {},
          "execution_count": 45
        }
      ]
    },
    {
      "cell_type": "markdown",
      "source": [
        "# Mission 4"
      ],
      "metadata": {
        "id": "sJGBP8XmvNK-"
      }
    },
    {
      "cell_type": "markdown",
      "source": [
        "Find a way to calculate the following statistical indicators for any given one-dimensional array using NumPy functions, and use them on a array filled with 20 random floats.\n",
        "- mode\n",
        "- median\n",
        "- average\n",
        "- the range (the difference between max and min)\n",
        "- standard deviation\n",
        "- variance\n",
        "- the different quantiles\n",
        "\n",
        "\n",
        "Trouvez un moyen de calculer les indicateurs statistiques suivants pour tout tableau unidimensionnel donné en utilisant les fonctions NumPy, et utilisez-les sur un tableau rempli de 20 flottants aléatoires.\n",
        "- mode\n",
        "- médiane\n",
        "- moyenne\n",
        "- l'étendue (la différence entre le maximum et le minimum)\n",
        "- l'écart-type\n",
        "- la variance\n",
        "- les différents quantiles"
      ],
      "metadata": {
        "id": "w6341JpRmDqw"
      }
    },
    {
      "cell_type": "code",
      "execution_count": null,
      "metadata": {
        "colab": {
          "base_uri": "https://localhost:8080/"
        },
        "id": "yXL0siorlg_b",
        "outputId": "d07f2bbd-e8ee-4f9a-87f2-6db02adc200d"
      },
      "outputs": [
        {
          "output_type": "stream",
          "name": "stdout",
          "text": [
            "[0.63382597 0.44971495 0.62615944 0.63512258 0.65778718 0.91962897\n",
            " 0.68066107 0.23812102 0.10356858 0.7976031  0.25010589 0.99405478\n",
            " 0.93419837 0.12943466 0.32358018 0.96492612 0.47025553 0.78375172\n",
            " 0.49894529 0.23101861]\n",
            "mode :  [0.10356858]\n",
            "médiane :  0.6299927072542113\n",
            "moyenne :  0.5661231996260887\n",
            "range :  0.8904862093070326\n",
            "stDev :  0.27825462478372637\n",
            "variance :  0.07742563621353234\n",
            "quartiles :  [0.30521161 0.62999271 0.78721456]\n"
          ]
        }
      ],
      "source": [
        "array = np.random.random(20)\n",
        "print(array)\n",
        "\n",
        "#mode : \n",
        "from scipy import stats as st\n",
        "mode = st.mode(array)\n",
        "print(\"mode : \",mode[0])\n",
        "\n",
        "#médiane : \n",
        "médiane = np.median(array)\n",
        "print(\"médiane : \", médiane)\n",
        "\n",
        "#moyenne : \n",
        "moyenne = np.average(array)\n",
        "print(\"moyenne : \", moyenne)\n",
        "\n",
        "#range : \n",
        "min = np.min(array)\n",
        "max = np.max(array)\n",
        "range = max - min\n",
        "print(\"range : \", range)\n",
        "\n",
        "#stDev : \n",
        "stDev = np.std(array)\n",
        "print(\"stDev : \",stDev)\n",
        "\n",
        "#variance : \n",
        "var = np.var(array)\n",
        "print(\"variance : \", var)\n",
        "\n",
        "#quartiles : \n",
        "q = np.quantile(array, [0.25, 0.5, 0.75])\n",
        "print(\"quartiles : \", q)"
      ]
    },
    {
      "cell_type": "code",
      "source": [],
      "metadata": {
        "id": "QUQemrSvve6R"
      },
      "execution_count": null,
      "outputs": []
    }
  ]
}