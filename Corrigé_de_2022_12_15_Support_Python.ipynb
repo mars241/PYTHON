{
  "nbformat": 4,
  "nbformat_minor": 0,
  "metadata": {
    "colab": {
      "provenance": [],
      "include_colab_link": true
    },
    "kernelspec": {
      "name": "python3",
      "display_name": "Python 3"
    },
    "language_info": {
      "name": "python"
    }
  },
  "cells": [
    {
      "cell_type": "markdown",
      "metadata": {
        "id": "view-in-github",
        "colab_type": "text"
      },
      "source": [
        "<a href=\"https://colab.research.google.com/github/mars241/PYTHON/blob/main/Corrig%C3%A9_de_2022_12_15_Support_Python.ipynb\" target=\"_parent\"><img src=\"https://colab.research.google.com/assets/colab-badge.svg\" alt=\"Open In Colab\"/></a>"
      ]
    },
    {
      "cell_type": "markdown",
      "source": [
        "## **Variable : kézako ?**"
      ],
      "metadata": {
        "id": "3cNGbWRiBQ8K"
      }
    },
    {
      "cell_type": "markdown",
      "source": [
        "**Qu'est-ce qu'une variable ?** Un espace dans lequel on peut stocker une ou des valeurs.\n",
        "\n",
        "**Quels types de valeurs peut-elle contenir ?** des entiers (int), des chaînes de caractère (str), des listes, des booléens (bool), des tuples, des sets, des dictionnaires (dict) (liste non exhaustive !)"
      ],
      "metadata": {
        "id": "Ien7FdjuI3uM"
      }
    },
    {
      "cell_type": "markdown",
      "source": [
        "### **Types de variables**"
      ],
      "metadata": {
        "id": "vyzFLVYdALr-"
      }
    },
    {
      "cell_type": "markdown",
      "source": [
        "**Qu'est-ce qu'une liste ?** Une séquence de données **mutable** et ordonnée."
      ],
      "metadata": {
        "id": "6yVOUPkUJFJZ"
      }
    },
    {
      "cell_type": "code",
      "source": [
        "# On peut extraire des éléments précis grâce à leur index\n",
        "vegetation = ['arbre', 'feuille', 'plante']\n",
        "vegetation[0]"
      ],
      "metadata": {
        "id": "7oYJoREn_-Qr",
        "colab": {
          "base_uri": "https://localhost:8080/",
          "height": 35
        },
        "outputId": "36ffe690-982b-4f09-d64a-0f40d215f719"
      },
      "execution_count": null,
      "outputs": [
        {
          "output_type": "execute_result",
          "data": {
            "text/plain": [
              "'arbre'"
            ],
            "application/vnd.google.colaboratory.intrinsic+json": {
              "type": "string"
            }
          },
          "metadata": {},
          "execution_count": 1
        }
      ]
    },
    {
      "cell_type": "code",
      "source": [
        "# On peut aussi extraire une section de la liste\n",
        "# afficher les éléments de la position 1 jusqu'à la fin de la liste :\n",
        "vegetation[1:]"
      ],
      "metadata": {
        "colab": {
          "base_uri": "https://localhost:8080/"
        },
        "id": "oKQhJRfFY9VO",
        "outputId": "16c0120b-d8e5-4849-ccf0-94ccd550e163"
      },
      "execution_count": null,
      "outputs": [
        {
          "output_type": "execute_result",
          "data": {
            "text/plain": [
              "['feuille', 'plante']"
            ]
          },
          "metadata": {},
          "execution_count": 2
        }
      ]
    },
    {
      "cell_type": "code",
      "source": [
        "# afficher le dernier élément\n",
        "vegetation[-1]"
      ],
      "metadata": {
        "colab": {
          "base_uri": "https://localhost:8080/",
          "height": 35
        },
        "id": "2vpIUtfUZNHK",
        "outputId": "87b7116d-9122-46ef-c990-0e818a2480c7"
      },
      "execution_count": null,
      "outputs": [
        {
          "output_type": "execute_result",
          "data": {
            "text/plain": [
              "'plante'"
            ],
            "application/vnd.google.colaboratory.intrinsic+json": {
              "type": "string"
            }
          },
          "metadata": {},
          "execution_count": 3
        }
      ]
    },
    {
      "cell_type": "code",
      "source": [
        "# NB : ça marche aussi avec les chaînes de caractères\n",
        "mot = \"fleur\"\n",
        "print(mot[3])\n",
        "print(mot[1:4])"
      ],
      "metadata": {
        "id": "tqnm-3WVZVMj",
        "colab": {
          "base_uri": "https://localhost:8080/"
        },
        "outputId": "f6d19812-a050-4e8b-8739-330f0c0c8f3b"
      },
      "execution_count": null,
      "outputs": [
        {
          "output_type": "stream",
          "name": "stdout",
          "text": [
            "u\n",
            "leu\n"
          ]
        }
      ]
    },
    {
      "cell_type": "markdown",
      "source": [
        "**Qu'est-ce qu'un tuple ?** Une séquence d'éléments **non mutable** et **ordonnée**.\n",
        "\n",
        "**Quelle(s) différence(s) avec une liste ?** Non mutable = on ne peut pas changer les valeurs qui s'y trouvent."
      ],
      "metadata": {
        "id": "1ABE_trVJ7ec"
      }
    },
    {
      "cell_type": "code",
      "source": [
        "# L'extraction de données fonctionne de la même manière qu'avec les listes\n",
        "cd = ('The Beatles', 'Yellow Submarine', 1969)\n",
        "print(cd[1])\n",
        "print(cd[1:])"
      ],
      "metadata": {
        "id": "01FX0mmiArr_",
        "colab": {
          "base_uri": "https://localhost:8080/"
        },
        "outputId": "0fae7f87-ed09-464d-90dc-61a42c32052f"
      },
      "execution_count": null,
      "outputs": [
        {
          "output_type": "stream",
          "name": "stdout",
          "text": [
            "Yellow Submarine\n",
            "('Yellow Submarine', 1969)\n"
          ]
        }
      ]
    },
    {
      "cell_type": "markdown",
      "source": [
        "**Qu'est-ce qu'un set ?** Une séquence d'éléments **mutable** et **non ordonnée.**\n",
        "\n",
        "**Quelle(s) différence(s) avec une liste ou un tuple ?** Un set ne contient que des **données uniques**."
      ],
      "metadata": {
        "id": "hMt9LTJAKjk4"
      }
    },
    {
      "cell_type": "code",
      "source": [
        "nombres_liste = [1, 1, 2, 3, 4, 5, 5]\n",
        "nombres_set = set(nombres_liste)    # convertir la liste en set supprime les données dupliquées !\n",
        "nombres_set"
      ],
      "metadata": {
        "id": "M_HHR5n1A23j",
        "colab": {
          "base_uri": "https://localhost:8080/"
        },
        "outputId": "4f1a786b-c1da-4bf8-bac9-7e481aefa021"
      },
      "execution_count": null,
      "outputs": [
        {
          "output_type": "execute_result",
          "data": {
            "text/plain": [
              "{1, 2, 3, 4, 5}"
            ]
          },
          "metadata": {},
          "execution_count": 9
        }
      ]
    },
    {
      "cell_type": "markdown",
      "source": [
        "**Qu'est-ce qu'un dictionnaire ?** Une séquence d'éléments rangée sous forme de **clé** et de **valeurs**. Un dictionnaire est mutable (et ordonné depuis peu, mais il vaut mieux partir du principe qu'il ne l'est pas).\n"
      ],
      "metadata": {
        "id": "SA2cFypMK_n-"
      }
    },
    {
      "cell_type": "code",
      "source": [
        "miam = {'fruits': ['pomme', 'kiwi', 'poire'],\n",
        "        'légumes': ['carotte', 'brocoli'],\n",
        "        'fromages': []}"
      ],
      "metadata": {
        "id": "zJ8CelnUAEU9"
      },
      "execution_count": null,
      "outputs": []
    },
    {
      "cell_type": "code",
      "source": [
        "# Lister les clés\n",
        "miam.keys()"
      ],
      "metadata": {
        "colab": {
          "base_uri": "https://localhost:8080/"
        },
        "id": "rAErANexLbJJ",
        "outputId": "9df5569d-5191-492d-d329-e18fcc0e3d7a"
      },
      "execution_count": null,
      "outputs": [
        {
          "output_type": "execute_result",
          "data": {
            "text/plain": [
              "dict_keys(['fruits', 'légumes', 'fromages'])"
            ]
          },
          "metadata": {},
          "execution_count": 14
        }
      ]
    },
    {
      "cell_type": "code",
      "source": [
        "# Lister les fruits\n",
        "miam['fruits']"
      ],
      "metadata": {
        "id": "SR9Do25gFWhh",
        "colab": {
          "base_uri": "https://localhost:8080/"
        },
        "outputId": "791974b4-9709-4910-a6fe-5214f54f0ac9"
      },
      "execution_count": null,
      "outputs": [
        {
          "output_type": "execute_result",
          "data": {
            "text/plain": [
              "['pomme', 'kiwi', 'poire']"
            ]
          },
          "metadata": {},
          "execution_count": 15
        }
      ]
    },
    {
      "cell_type": "code",
      "source": [
        "# Quel est le 2ème fruit ?\n",
        "miam['fruits'][1]"
      ],
      "metadata": {
        "id": "32h_OV7_b1EM",
        "colab": {
          "base_uri": "https://localhost:8080/",
          "height": 35
        },
        "outputId": "541e0b46-e4f6-4a01-b610-866059e3273f"
      },
      "execution_count": null,
      "outputs": [
        {
          "output_type": "execute_result",
          "data": {
            "text/plain": [
              "'kiwi'"
            ],
            "application/vnd.google.colaboratory.intrinsic+json": {
              "type": "string"
            }
          },
          "metadata": {},
          "execution_count": 16
        }
      ]
    },
    {
      "cell_type": "code",
      "source": [
        "# Combien y a-t-il de légumes ?\n",
        "len(miam['légumes'])"
      ],
      "metadata": {
        "id": "5OyiYbyPFZyu",
        "colab": {
          "base_uri": "https://localhost:8080/"
        },
        "outputId": "a3ef2a48-9ebc-46f8-e901-8cfed5c35c74"
      },
      "execution_count": null,
      "outputs": [
        {
          "output_type": "execute_result",
          "data": {
            "text/plain": [
              "2"
            ]
          },
          "metadata": {},
          "execution_count": 17
        }
      ]
    },
    {
      "cell_type": "code",
      "source": [
        "# Ajouter des fromages\n",
        "miam['fromages'] = ['gorgonzola']   # on crée une liste composée d'un seul élément pour l'instant\n",
        "miam"
      ],
      "metadata": {
        "id": "QKFGNWZiFeUh",
        "colab": {
          "base_uri": "https://localhost:8080/"
        },
        "outputId": "8d038677-1681-4e6c-dc51-a1d062fab3f5"
      },
      "execution_count": null,
      "outputs": [
        {
          "output_type": "execute_result",
          "data": {
            "text/plain": [
              "{'fruits': ['pomme', 'kiwi', 'poire'],\n",
              " 'légumes': ['carotte', 'brocoli'],\n",
              " 'fromages': ['gorgonzola']}"
            ]
          },
          "metadata": {},
          "execution_count": 18
        }
      ]
    },
    {
      "cell_type": "code",
      "source": [
        "# Ajouter un autre fromage\n",
        "miam['fromages'].append('mozzarella')   # la VALEUR associée à la clé 'fromages' est une LISTE => fonction append pour ajouter un élément\n",
        "miam"
      ],
      "metadata": {
        "id": "5hgtyh8QcZzT",
        "colab": {
          "base_uri": "https://localhost:8080/"
        },
        "outputId": "443a60fc-0389-475d-b024-df63c5196f5f"
      },
      "execution_count": null,
      "outputs": [
        {
          "output_type": "execute_result",
          "data": {
            "text/plain": [
              "{'fruits': ['pomme', 'kiwi', 'poire'],\n",
              " 'légumes': ['carotte', 'brocoli'],\n",
              " 'fromages': ['gorgonzola', 'mozzarella']}"
            ]
          },
          "metadata": {},
          "execution_count": 19
        }
      ]
    },
    {
      "cell_type": "code",
      "source": [
        "# la preuve :\n",
        "type(miam['fromages'])"
      ],
      "metadata": {
        "colab": {
          "base_uri": "https://localhost:8080/"
        },
        "id": "cWTxV_uTMW0U",
        "outputId": "5cfc36ee-bb9a-447f-e9da-44999a1e8de0"
      },
      "execution_count": null,
      "outputs": [
        {
          "output_type": "execute_result",
          "data": {
            "text/plain": [
              "list"
            ]
          },
          "metadata": {},
          "execution_count": 21
        }
      ]
    },
    {
      "cell_type": "code",
      "source": [
        "# Ajouter une nouvelle clé 'herbes', dont la valeur est une liste d'herbes\n",
        "miam['herbes'] = ['persil', 'coriandre', 'ciboulette', 'menthe']\n",
        "miam"
      ],
      "metadata": {
        "colab": {
          "base_uri": "https://localhost:8080/"
        },
        "id": "Uy_9oaMHc0Pk",
        "outputId": "26392c48-01c8-47b9-b661-055d4f2e7f07"
      },
      "execution_count": null,
      "outputs": [
        {
          "output_type": "execute_result",
          "data": {
            "text/plain": [
              "{'fruits': ['pomme', 'kiwi', 'poire'],\n",
              " 'légumes': ['carotte', 'brocoli'],\n",
              " 'fromages': ['gorgonzola', 'mozzarella'],\n",
              " 'herbes': ['persil', 'coriandre', 'ciboulette', 'menthe']}"
            ]
          },
          "metadata": {},
          "execution_count": 20
        }
      ]
    },
    {
      "cell_type": "markdown",
      "source": [
        "## **Les conditions**"
      ],
      "metadata": {
        "id": "1nzNImE7BaKf"
      }
    },
    {
      "cell_type": "markdown",
      "source": [
        "**Qu'est-ce qu'une condition ?** Une contrainte à respecter pour que l'instruction suivante s'exécute. Elle est analysée avec l'aide de comparateurs. La réponse à la condition est toujours un booléen : True si la condition est vérifiée, ou False si elle ne l'est pas.\n",
        "\n",
        "**Quels sont les différents comparateurs ?**\n",
        "\n",
        "* inférieur : <\n",
        "* inférieur ou égal : <=\n",
        "* supérieur : >\n",
        "* supérieur ou égal : >=\n",
        "* égal :  ==\n",
        "* est contenu dans : in\n",
        "\n",
        "*(liste non exhaustive)*\n"
      ],
      "metadata": {
        "id": "ZA4WwVTtMcei"
      }
    },
    {
      "cell_type": "code",
      "source": [
        "a = 10\n",
        "b = 4\n",
        "c = 7\n",
        "\n",
        "print(\"a est inférieur à b :\", a < b)\n",
        "print(\"c est supérieur ou égal à a :\", c >= a)\n",
        "print(\"b est égal à c :\", b == c)\n",
        "print(\"c est compris entre b et a :\", b < c < a)"
      ],
      "metadata": {
        "id": "7kMJBf3vBkC3",
        "colab": {
          "base_uri": "https://localhost:8080/"
        },
        "outputId": "9d5dc991-2842-428d-b3f7-ffd96ddc9277"
      },
      "execution_count": null,
      "outputs": [
        {
          "output_type": "stream",
          "name": "stdout",
          "text": [
            "a est inférieur à b : False\n",
            "c est supérieur ou égal à a : False\n",
            "b est égal à c : False\n",
            "c est compris entre b et a : True\n"
          ]
        }
      ]
    },
    {
      "cell_type": "code",
      "source": [
        "semaine = [\"lundi\", \"mardi\", \"mercredi\", \"etc\"]\n",
        "\n",
        "print(\"La liste contient 'lundi' : \", \"lundi\" in semaine)\n",
        "print(\"La liste contient 'Mardi' : \", \"Mardi\" in semaine)\n",
        "print(\"La liste ne contient pas 'dimanche' : \", \"dimanche\" not in semaine)"
      ],
      "metadata": {
        "colab": {
          "base_uri": "https://localhost:8080/"
        },
        "id": "iYHcmTUmGDFT",
        "outputId": "0964aead-99c1-4d2f-db8f-beb6dc1148f7"
      },
      "execution_count": null,
      "outputs": [
        {
          "output_type": "stream",
          "name": "stdout",
          "text": [
            "La liste contient 'lundi' :  True\n",
            "La liste contient 'Mardi' :  False\n",
            "La liste ne contient pas 'dimanche' :  True\n"
          ]
        }
      ]
    },
    {
      "cell_type": "markdown",
      "source": [
        "## **Les boucles**"
      ],
      "metadata": {
        "id": "SP-8O9CTAQeE"
      }
    },
    {
      "cell_type": "markdown",
      "source": [
        "**On ne peut boucler que sur des éléments itérables** (qui contiennent quelque chose). Par exemple, des chaînes de caractères, des listes, des dictionnaires... Un nombre entier ne contient rien : ce n'est pas un élément itérable."
      ],
      "metadata": {
        "id": "nQLTF4TpOUfz"
      }
    },
    {
      "cell_type": "code",
      "source": [
        "# Boucler sur une chaîne de caractères : deux façons\n",
        "word = \"Python\"\n",
        "\n",
        "# Soit sur les caractères qui la composent\n",
        "print(\"Boucler sur les caractères : \")\n",
        "for char in word:\n",
        "  print(char)\n",
        "\n",
        "print('')\n",
        "\n",
        "# Soit sur leurs index\n",
        "print(\"Boucler sur les index : \")\n",
        "for i in range(len(word)):\n",
        "  print(i)"
      ],
      "metadata": {
        "id": "_eOW0YmtClc-",
        "colab": {
          "base_uri": "https://localhost:8080/"
        },
        "outputId": "dbfcf196-5653-4190-c043-ea212da79049"
      },
      "execution_count": null,
      "outputs": [
        {
          "output_type": "stream",
          "name": "stdout",
          "text": [
            "Boucler sur les caractères : \n",
            "P\n",
            "y\n",
            "t\n",
            "h\n",
            "o\n",
            "n\n",
            "\n",
            "Boucler sur les index : \n",
            "0\n",
            "1\n",
            "2\n",
            "3\n",
            "4\n",
            "5\n"
          ]
        }
      ]
    },
    {
      "cell_type": "code",
      "source": [
        "# On peut aussi boucler sur les deux à la fois (index + caractère correspondant) grâce à la fonction enumerate()\n",
        "print(\"Boucler à la fois sur les index et les caractères :\")\n",
        "for i, char in enumerate(word):\n",
        "  print(f\"index {i} => lettre {char}\")"
      ],
      "metadata": {
        "colab": {
          "base_uri": "https://localhost:8080/"
        },
        "id": "Tp9BzROifyIV",
        "outputId": "53c7ffac-a834-4b92-8c8c-46a116901779"
      },
      "execution_count": null,
      "outputs": [
        {
          "output_type": "stream",
          "name": "stdout",
          "text": [
            "Boucler à la fois sur les index et les caractères :\n",
            "index 0 => lettre P\n",
            "index 1 => lettre y\n",
            "index 2 => lettre t\n",
            "index 3 => lettre h\n",
            "index 4 => lettre o\n",
            "index 5 => lettre n\n"
          ]
        }
      ]
    },
    {
      "cell_type": "markdown",
      "metadata": {
        "id": "t6NK3561D35T"
      },
      "source": [
        "Écrire un programme permettant de calculer la somme des entiers entre 0 et 1000 (tous deux inclus) qui sont divisibles par 2 ou par 5, mais pas par 10 ?\n",
        "\n",
        "*NB : pour vérifier que a est divisible par b, il faut que a % b soit égal à 0*"
      ]
    },
    {
      "cell_type": "code",
      "source": [
        "total = 0\n",
        "\n",
        "for i in range(1001):\n",
        "  if (i % 5 == 0 or i % 2 == 0) and i % 10 != 0:\n",
        "    total += i\n",
        "\n",
        "print(total)"
      ],
      "metadata": {
        "colab": {
          "base_uri": "https://localhost:8080/"
        },
        "id": "AfBvihKJiAca",
        "outputId": "6fa361dc-48db-4699-f6d6-efdd607818e4"
      },
      "execution_count": null,
      "outputs": [
        {
          "output_type": "stream",
          "name": "stdout",
          "text": [
            "250000\n"
          ]
        }
      ]
    },
    {
      "cell_type": "markdown",
      "metadata": {
        "id": "oUgO4M2UnBGD"
      },
      "source": [
        "##### **Boucle while**\n",
        "En utilisant la boucle while, écrire un programme qui permet d'additionner des entiers au carré (en commençant par 1) jusqu'à ce que le total dépasse 300. Imprimez le total final et le dernier nombre à être élevé au carré ."
      ]
    },
    {
      "cell_type": "code",
      "execution_count": null,
      "metadata": {
        "id": "VSGJcEmD7tVB",
        "colab": {
          "base_uri": "https://localhost:8080/"
        },
        "outputId": "358fda51-bd0a-4bac-e7fb-b20e2ca2a052"
      },
      "outputs": [
        {
          "output_type": "stream",
          "name": "stdout",
          "text": [
            "Quand n = 1, total = 1 (on a ajouté au total précédent n^2 = 1)\n",
            "Quand n = 2, total = 5 (on a ajouté au total précédent n^2 = 4)\n",
            "Quand n = 3, total = 14 (on a ajouté au total précédent n^2 = 9)\n",
            "Quand n = 4, total = 30 (on a ajouté au total précédent n^2 = 16)\n",
            "Quand n = 5, total = 55 (on a ajouté au total précédent n^2 = 25)\n",
            "Quand n = 6, total = 91 (on a ajouté au total précédent n^2 = 36)\n",
            "Quand n = 7, total = 140 (on a ajouté au total précédent n^2 = 49)\n",
            "Quand n = 8, total = 204 (on a ajouté au total précédent n^2 = 64)\n",
            "Quand n = 9, total = 285 (on a ajouté au total précédent n^2 = 81)\n",
            "Quand n = 10, total = 385 (on a ajouté au total précédent n^2 = 100)\n",
            "\n",
            "Total final : 385\n",
            "Dernier nombre à avoir été élevé au carré : 10\n"
          ]
        }
      ],
      "source": [
        "# Il faut démarrer un compteur, dans ce cas on part de 0\n",
        "total = 0\n",
        "\n",
        "# On veut itérer sur des entiers, en commençant par 1\n",
        "n = 1\n",
        "\n",
        "# \"jusqu'à ce que le total dépasse 300\" est équivalent à \"TANT QUE le total est inférieur à 300\"\n",
        "# \"tant que\" => boucle while\n",
        "\n",
        "while total <= 300:\n",
        "  total += n**2\n",
        "  print(f\"Quand n = {n}, total = {total} (on a ajouté au total précédent n^2 = {n**2})\")\n",
        "  n += 1\n",
        "\n",
        "print('')\n",
        "print(\"Total final :\", total)\n",
        "print(\"Dernier nombre à avoir été élevé au carré :\", n-1)"
      ]
    },
    {
      "cell_type": "code",
      "source": [
        "# n est systématiquement incrémenté de 1, donc à la fin de la boucle n est passé à 11\n",
        "# Mais une fois que n = 11, le total est égal à 385, il dépasse 300, donc Python ne rentre plus dans la boucle while\n",
        "# Le dernier nombre à être élevé au carré est 10, c'est-à-dire n-1"
      ],
      "metadata": {
        "id": "UzLrtmtBJZFj"
      },
      "execution_count": null,
      "outputs": []
    },
    {
      "cell_type": "markdown",
      "source": [
        "## **Bonus**"
      ],
      "metadata": {
        "id": "awuimGMVCGGj"
      }
    },
    {
      "cell_type": "markdown",
      "metadata": {
        "id": "H7_zRP6tkZfF"
      },
      "source": [
        "Utiliser le slicing pour inverser les chiffres d'un nombre. Par exemple, 67531 devient 13576"
      ]
    },
    {
      "cell_type": "code",
      "source": [
        "# Exemple sur une chaîne de caractères:\n",
        "mot = \"bonjour\"\n",
        "mot[::-1]     # On va du début à la fin du mot, mais à l'envers"
      ],
      "metadata": {
        "colab": {
          "base_uri": "https://localhost:8080/",
          "height": 35
        },
        "id": "3BgJ_FpkSnjS",
        "outputId": "5b117ce6-9516-46ab-808d-e802a9a7fa90"
      },
      "execution_count": null,
      "outputs": [
        {
          "output_type": "execute_result",
          "data": {
            "text/plain": [
              "'ruojnob'"
            ],
            "application/vnd.google.colaboratory.intrinsic+json": {
              "type": "string"
            }
          },
          "metadata": {},
          "execution_count": 46
        }
      ]
    },
    {
      "cell_type": "code",
      "source": [
        "# Mais ça ne marche pas avec un entier, parce que ce n'est pas un élément itérable\n",
        "x = 67531\n",
        "x[::-1]"
      ],
      "metadata": {
        "id": "DzQDXA-7-rI1",
        "colab": {
          "base_uri": "https://localhost:8080/",
          "height": 203
        },
        "outputId": "8210487f-c366-4708-c156-2991484d58cf"
      },
      "execution_count": null,
      "outputs": [
        {
          "output_type": "error",
          "ename": "TypeError",
          "evalue": "ignored",
          "traceback": [
            "\u001b[0;31m---------------------------------------------------------------------------\u001b[0m",
            "\u001b[0;31mTypeError\u001b[0m                                 Traceback (most recent call last)",
            "\u001b[0;32m<ipython-input-47-2ce982409c72>\u001b[0m in \u001b[0;36m<module>\u001b[0;34m\u001b[0m\n\u001b[1;32m      1\u001b[0m \u001b[0;31m# Mais ça ne marche pas avec un entier parce que ce n'est pas un élément itérable\u001b[0m\u001b[0;34m\u001b[0m\u001b[0;34m\u001b[0m\u001b[0;34m\u001b[0m\u001b[0m\n\u001b[1;32m      2\u001b[0m \u001b[0mx\u001b[0m \u001b[0;34m=\u001b[0m \u001b[0;36m67531\u001b[0m\u001b[0;34m\u001b[0m\u001b[0;34m\u001b[0m\u001b[0m\n\u001b[0;32m----> 3\u001b[0;31m \u001b[0mx\u001b[0m\u001b[0;34m[\u001b[0m\u001b[0;34m:\u001b[0m\u001b[0;34m:\u001b[0m\u001b[0;34m-\u001b[0m\u001b[0;36m1\u001b[0m\u001b[0;34m]\u001b[0m\u001b[0;34m\u001b[0m\u001b[0;34m\u001b[0m\u001b[0m\n\u001b[0m",
            "\u001b[0;31mTypeError\u001b[0m: 'int' object is not subscriptable"
          ]
        }
      ]
    },
    {
      "cell_type": "code",
      "source": [
        "# Il faut donc d'abord convertir l'entier en chaîne\n",
        "x = str(x)\n",
        "x = x[::-1]\n",
        "x"
      ],
      "metadata": {
        "id": "2S0SlfNemZdN",
        "colab": {
          "base_uri": "https://localhost:8080/",
          "height": 35
        },
        "outputId": "674b294a-f6f4-4659-8f44-2f1c34f122c9"
      },
      "execution_count": null,
      "outputs": [
        {
          "output_type": "execute_result",
          "data": {
            "text/plain": [
              "'13576'"
            ],
            "application/vnd.google.colaboratory.intrinsic+json": {
              "type": "string"
            }
          },
          "metadata": {},
          "execution_count": 49
        }
      ]
    },
    {
      "cell_type": "code",
      "source": [
        "# Puis le reconvertir si besoin en entier\n",
        "x = int(x)\n",
        "x"
      ],
      "metadata": {
        "id": "zdKhn4d3mVmd",
        "colab": {
          "base_uri": "https://localhost:8080/"
        },
        "outputId": "ada039ab-9999-43a9-fb9c-1317e5ce0868"
      },
      "execution_count": null,
      "outputs": [
        {
          "output_type": "execute_result",
          "data": {
            "text/plain": [
              "13576"
            ]
          },
          "metadata": {},
          "execution_count": 50
        }
      ]
    }
  ]
}