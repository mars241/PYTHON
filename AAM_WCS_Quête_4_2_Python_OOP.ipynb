{
  "nbformat": 4,
  "nbformat_minor": 0,
  "metadata": {
    "colab": {
      "provenance": [],
      "authorship_tag": "ABX9TyN3FhoiEOvAjLY6phzVt/kh",
      "include_colab_link": true
    },
    "kernelspec": {
      "name": "python3",
      "display_name": "Python 3"
    },
    "language_info": {
      "name": "python"
    }
  },
  "cells": [
    {
      "cell_type": "markdown",
      "metadata": {
        "id": "view-in-github",
        "colab_type": "text"
      },
      "source": [
        "<a href=\"https://colab.research.google.com/github/mars241/PYTHON/blob/main/AAM_WCS_Qu%C3%AAte_4_2_Python_OOP.ipynb\" target=\"_parent\"><img src=\"https://colab.research.google.com/assets/colab-badge.svg\" alt=\"Open In Colab\"/></a>"
      ]
    },
    {
      "cell_type": "markdown",
      "source": [
        "# Challenge\n",
        "Ma première classe\n",
        "Dans ce challenge tu vas créer ta 1ère classe dataAnalyst qui va simuler la vie d'un data analyst. Voici les caractéristiques de ta classe :\n",
        "\n",
        "attributs :\n",
        "nom (str) prenom (str) age (int) sexe (str) formationPrecedente (str) motivation (int valant 100 à l'instanciation) progression (int valant 0 à l'instanciation)\n",
        "\n",
        "méthodes : suivreFormation() : chaque fois qu'elle est utilisée, cette méthode diminue la motivation d'une valeur entière aléatoire (random) entre 5 et 25 et augmente la progression d'une valeur entière aléatoire entre 20 et 30 ; bosserPlus() : chaque fois qu'elle est utilisée, cette méthode augmente la motivation et la progression d'une valeur entière aléatoire entre 10 et 30 ; echouer() : chaque fois qu'elle est utilisée baisse la motivation d'une valeur entre 20 et 40 et augmente la progression d'une valeur entre 20 et 40 ; reussir() : chaque fois qu'elle est utilisée, augmente la motivation d'une valeur entre 20 et 40 et augmente la progression d'une valeur random entre 10 et 20\n",
        "Instancie un objet dataAnalyst et indique un nom, un prenom, le sexe et la formationPrecedente. L'attribut motivation vaudra 100 au début et l'attribut progression vaudra 0.\n",
        "\n",
        "Le programme va automatiquement et aléatoirement lancer des méthodes et afficher le récapitulatif de l'état des attributs motivation et progression. Le programme s'arrête quand la motivation tombe à zéro et affiche \"BRAVO TU AS GAGNÉ !!!\" ou quand progression atteint 100 et affiche \"BRAVO TU AS APPRIS !!!\".\n",
        "\n",
        "Crée toi un notebook et réalise les taches ci-dessus. Une fois terminé, mets en commentaire le lien de ton notebook consultable, ce dernier contenant la classe avec ses attributs et ses méthodes. Dans une autre cellule, tu auras créé le programme qui lancera les méthodes. Enfin dans une autre cellule tu mettras le code qui lance ton programme avec les messages. N'oublie pas de commenter ton code.\n",
        "\n",
        "Code le avec classe 😜!\n",
        "\n",
        "Critères de validation\n",
        "Le notebook est consultable\n",
        "Il y a 3 cellules contenant les éléments demandés\n",
        "Le programme fonctionne correctement\n",
        "Le programme est commenté\n",
        "Exemple de résultat attendu :\n",
        "\n",
        "Tour 1\n",
        "La méthode echouer() a été utilisée.\n",
        "motivation vaut maintenant 60\n",
        "progression vaut maintenant 20\n",
        "\n",
        "Tour 2\n",
        "La méthode bosserPlus() a été utilisée.\n",
        "motivation vaut maintenant 60\n",
        "progression vaut maintenant 35\n",
        "\n",
        "...\n",
        "\n",
        "Tour 7\n",
        "La méthode reussir() a été utilisée.\n",
        "motivation vaut maintenant 10\n",
        "progression vaut maintenant 110\n",
        "BRAVO TU AS APPRIS !!!\n"
      ],
      "metadata": {
        "id": "pOGPcyjcn1WA"
      }
    },
    {
      "cell_type": "code",
      "execution_count": 19,
      "metadata": {
        "id": "c1NWTkOIq0TD"
      },
      "outputs": [],
      "source": [
        "import pandas as pd\n",
        "import random"
      ]
    },
    {
      "cell_type": "code",
      "source": [
        "# Créer la 1ère classe dataAnalyst qui va simuler la vie d'un data analyst\n",
        "class dataAnalyst: # Instancie un objet dataAnalyst et indique un nom, un prenom, le sexe et la formationPrecedente et les compteurs de motivation et de progression. \n",
        "  def __init__(self,\n",
        "               nom:str,\n",
        "               prenom:str,\n",
        "               age:int,\n",
        "               sexe:str,\n",
        "               formationPrecedente:str,\n",
        "               motivation=100,\n",
        "               progression=0):\n",
        "    self.nom=nom\n",
        "    self.prenom=prenom\n",
        "    self.age=age\n",
        "    self.sexe=sexe\n",
        "    self.formationPrecedente= formationPrecedente\n",
        "    self.motivation = motivation\n",
        "    self.progression=progression\n",
        "\n",
        "# RAPPEL: \n",
        "# random.randint(a, b) renvoie un nombre entier aléatoire compris entre a et b inclus.\n",
        "#Nous voulons l’indice aléatoire d’un élément de la liste soit compris entre a et b :\n",
        "\n",
        "  def suivreFormation(self): # suivreFormation() : chaque fois qu'elle est utilisée, cette méthode diminue la motivation d'une valeur entière aléatoire (random) entre 5 et 25 et augmente la progression d'une valeur entière aléatoire entre 20 et 30 ; \n",
        "        self.motivation-= random.randint(5, 25)\n",
        "        self.progression+=random.randint(20,30)\n",
        "        print(f'la motivation est',self.motivation, 'la progression est ', self.progression, \"La méthode suivreFormation() a été utilisée\")\n",
        "\n",
        "  def bosserPlus(self): # bosserPlus() : chaque fois qu'elle est utilisée, cette méthode augmente la motivation et la progression d'une valeur entière aléatoire entre 10 et 30 ; \n",
        "        self.motivation+=random.randint(10,30)\n",
        "        self.progression+=random.randint(10,30)\n",
        "        print(f'la motivation est', self.motivation, 'la progression est de ', self.progression, \"La méthode bosserPlus() a été utilisée\")\n",
        "\n",
        "  def echouer(self): # echouer() : chaque fois qu'elle est utilisée baisse la motivation d'une valeur entre 20 et 40 et augmente la progression d'une valeur entre 20 et 40 ;\n",
        "        self.motivation-= random.randint(20,40)\n",
        "        self.progression+=random.randint(20,40)\n",
        "        print(f'la motivation est', self.motivation, 'la progression est de ', self.progression, \"La méthode echouer() a été utilisée\")\n",
        "\n",
        "  def reussir(self): # reussir() : chaque fois qu'elle est utilisée, augmente la motivation d'une valeur entre 20 et 40 et augmente la progression d'une valeur random entre 10 et 20\n",
        "        self.motivation-= random.randint(20,40)       \n",
        "        self.progression+=random.randint(10,20)\n",
        "        print(f'la motivation est', self.motivation, 'la progression est de ', self.progression, \"La méthode reussir() a été utilisée\")\n",
        "\n",
        "  \n",
        "\n",
        "  "
      ],
      "metadata": {
        "id": "04Gxq5YToS_t"
      },
      "execution_count": 20,
      "outputs": []
    },
    {
      "cell_type": "code",
      "source": [
        "# Tester avec un profil : Nom: \"ADE\", Prénom: \"Chris\", Age : 22, Sexe: \"Male\", formationPrecedente: \"Dentiste\", motivation=100 & progression=0\n",
        "dataAnalyst_2= dataAnalyst(\"ADE\", \"Chris\", 22, \"Male\", \"Dentiste\", motivation=100, progression=0)\n",
        "dataAnalyst_2.echouer()"
      ],
      "metadata": {
        "colab": {
          "base_uri": "https://localhost:8080/"
        },
        "id": "DIfGaX7koryq",
        "outputId": "c589ab28-9acc-4610-a70b-28fdbafe0d0f"
      },
      "execution_count": 23,
      "outputs": [
        {
          "output_type": "stream",
          "name": "stdout",
          "text": [
            "la motivation est 70 la progression est de  37 La méthode echouer() a été utilisée\n"
          ]
        }
      ]
    },
    {
      "cell_type": "code",
      "source": [
        "dataAnalyst_1= dataAnalyst(\"ADE\", \"Chris\", 22, \"Male\", \"Dentiste\", motivation=100, progression=0)\n",
        "dataAnalyst_1"
      ],
      "metadata": {
        "colab": {
          "base_uri": "https://localhost:8080/"
        },
        "id": "bOKgZoyjqMDB",
        "outputId": "4903c920-5a67-4d21-a5da-4fa866dcb769"
      },
      "execution_count": 24,
      "outputs": [
        {
          "output_type": "execute_result",
          "data": {
            "text/plain": [
              "<__main__.dataAnalyst at 0x7fba33806cd0>"
            ]
          },
          "metadata": {},
          "execution_count": 24
        }
      ]
    },
    {
      "cell_type": "code",
      "source": [
        "tour = 0 # initialisation\n",
        "import random\n",
        "while dataAnalyst_1.motivation>0 and dataAnalyst_1.progression<100:\n",
        "  liste_methode = [\"suivreFormation\", \"bosserPlus\", \"echouer\", \"reussir\"]\n",
        "  methode = random.choice(liste_methode)\n",
        "  tour +=1 #pour ajouter un au compteur a chaque boucle\n",
        "  print(f'Tour :', tour)\n",
        "  print (methode)\n",
        "  eval('dataAnalyst_1.'+methode+'()') #pour appliquer la methode choisit à chacun des tours de la boucle\n",
        "  \n",
        "  if dataAnalyst_1.motivation<=0:\n",
        "    print(\"Bravo, tu as gagné!\")\n",
        "  \n",
        "  if dataAnalyst_1.progression>=110:\n",
        "    print(\"Bravo, tu as appris !!!\")\n",
        "   "
      ],
      "metadata": {
        "colab": {
          "base_uri": "https://localhost:8080/"
        },
        "id": "mLB2lC3-pSi8",
        "outputId": "ec408183-7488-4c2d-88bc-b037426fb000"
      },
      "execution_count": 25,
      "outputs": [
        {
          "output_type": "stream",
          "name": "stdout",
          "text": [
            "Tour : 1\n",
            "bosserPlus\n",
            "la motivation est 123 la progression est de  21 La méthode bosserPlus() a été utilisée\n",
            "Tour : 2\n",
            "reussir\n",
            "la motivation est 99 la progression est de  36 La méthode reussir() a été utilisée\n",
            "Tour : 3\n",
            "reussir\n",
            "la motivation est 75 la progression est de  47 La méthode reussir() a été utilisée\n",
            "Tour : 4\n",
            "bosserPlus\n",
            "la motivation est 99 la progression est de  60 La méthode bosserPlus() a été utilisée\n",
            "Tour : 5\n",
            "bosserPlus\n",
            "la motivation est 109 la progression est de  76 La méthode bosserPlus() a été utilisée\n",
            "Tour : 6\n",
            "bosserPlus\n",
            "la motivation est 139 la progression est de  94 La méthode bosserPlus() a été utilisée\n",
            "Tour : 7\n",
            "echouer\n",
            "la motivation est 110 la progression est de  119 La méthode echouer() a été utilisée\n",
            "Bravo, tu as appris !!!\n"
          ]
        }
      ]
    }
  ]
}