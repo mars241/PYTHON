{
  "nbformat": 4,
  "nbformat_minor": 0,
  "metadata": {
    "colab": {
      "provenance": [],
      "authorship_tag": "ABX9TyN0ffh6h5zFG1x93xMQ+y7K",
      "include_colab_link": true
    },
    "kernelspec": {
      "name": "python3",
      "display_name": "Python 3"
    },
    "language_info": {
      "name": "python"
    }
  },
  "cells": [
    {
      "cell_type": "markdown",
      "metadata": {
        "id": "view-in-github",
        "colab_type": "text"
      },
      "source": [
        "<a href=\"https://colab.research.google.com/github/mars241/PYTHON/blob/main/AAM_WCS_Python_Shorthand_syntax.ipynb\" target=\"_parent\"><img src=\"https://colab.research.google.com/assets/colab-badge.svg\" alt=\"Open In Colab\"/></a>"
      ]
    },
    {
      "cell_type": "markdown",
      "source": [
        "## Challenge Python - Shorthand syntax\n",
        "Crée un notebook sur Google Colab, et essaye de réaliser chacune des missions suivantes avec une syntaxe classique et ensuite avec une syntaxe courte en une seule ligne.\n",
        "\n",
        "Une fonction qui convertit des montants en dollars vers des montants en euros (prends le cours euro/dollar du jour où tu fais la quête).\n",
        "Une fonction qui renvoie la somme des nombres pairs présents dans une liste contenant des nombres entiers.\n",
        "Une fonction qui convertit une liste de nombres entiers positifs ou négatifs) en une nouvelle liste contenant leurs valeurs absolues.\n",
        "Tu peux prendre la liste suivante pour exemple :\n",
        "`test_list = [0, 3, -6, 9, 12, -15, 18, -21, 24, 27]`"
      ],
      "metadata": {
        "id": "PbFPOBV5pQA-"
      }
    },
    {
      "cell_type": "markdown",
      "source": [
        "**A function that converts amounts in dollars to amounts in euros (take the euro/dollar rate of the day you do the quest).**"
      ],
      "metadata": {
        "id": "D8Ls3_B9l7un"
      }
    },
    {
      "cell_type": "code",
      "execution_count": null,
      "metadata": {
        "colab": {
          "base_uri": "https://localhost:8080/"
        },
        "id": "FTjBCRuepKIc",
        "outputId": "87014387-b65c-4f83-84d9-210efb2249ee"
      },
      "outputs": [
        {
          "name": "stdout",
          "output_type": "stream",
          "text": [
            " Entrez SVP le montant en (€) à convertir : 500\n"
          ]
        }
      ],
      "source": [
        "# Une fonction qui convertit des montants en dollars vers des montants en euros (prends le cours euro/dollar du jour où tu fais la quête).\n",
        "# Au 01/02/2023 :1 Dollar américain ($) égal 0,92 Euro (€)\n",
        "\n",
        "euros = int(input(\" Entrez SVP le montant en (€) à convertir : \"))\n",
        "\n",
        "def conv_euros_dollars(euros):\n",
        "  dollars = euros*0.92\n",
        "  return dollars"
      ]
    },
    {
      "cell_type": "code",
      "source": [
        "# Suite: Faire Une fonction qui convertit des montants en dollars vers des montants en euros\n",
        "# Tester la fct de conversion d'euros (€) en dollars ($) :\n",
        "\n",
        "euros = int(input(\" Entrez SVP le montant en (€) à convertir : \"))\n",
        "\n",
        "def conv_euros_dollars(euros):\n",
        "  dollars = euros*0.92\n",
        "  return dollars\n",
        "\n",
        "conv_euros_dollars(euros)\n",
        "print(euros, \"€ vallent\", conv_euros_dollars(euros), \"$\")"
      ],
      "metadata": {
        "colab": {
          "base_uri": "https://localhost:8080/"
        },
        "id": "kz3POscDe-uz",
        "outputId": "fd1741e8-5f9a-4a06-9967-88d1d85d4066"
      },
      "execution_count": null,
      "outputs": [
        {
          "output_type": "stream",
          "name": "stdout",
          "text": [
            " Entrez SVP le montant en (€) à convertir : 500\n",
            "500 € vallent 460.0 $\n"
          ]
        }
      ]
    },
    {
      "cell_type": "code",
      "source": [
        "# Autrement\n",
        "# 2022-03-28 exchange rate: 1 USD ~ 0.911 EUR\n",
        "def usd_to_eur0(usd_amount):\n",
        "    return 0.911*usd_amount\n",
        "\n",
        "usd_to_eur = (lambda usd_amount: 0.911*usd_amount)"
      ],
      "metadata": {
        "id": "SeZKSaOVg21x"
      },
      "execution_count": null,
      "outputs": []
    },
    {
      "cell_type": "code",
      "source": [
        "usd_to_eur(80000)"
      ],
      "metadata": {
        "colab": {
          "base_uri": "https://localhost:8080/"
        },
        "id": "chflzWeOmFvQ",
        "outputId": "252377de-0f61-4d3c-c100-7cce9b9669f7"
      },
      "execution_count": null,
      "outputs": [
        {
          "output_type": "execute_result",
          "data": {
            "text/plain": [
              "72880.0"
            ]
          },
          "metadata": {},
          "execution_count": 26
        }
      ]
    },
    {
      "cell_type": "code",
      "source": [
        "# façon M. Simon\n",
        "import pandas as pd\n",
        "import numpy as np\n",
        "taux=0.92\n",
        "convert_dol_eur = lambda x: x*taux\n",
        "convert_dol_eur(10)"
      ],
      "metadata": {
        "colab": {
          "base_uri": "https://localhost:8080/"
        },
        "id": "-xmY_cd4S0aX",
        "outputId": "10f9a77d-e3fa-44a3-f072-a08514ddf7ee"
      },
      "execution_count": null,
      "outputs": [
        {
          "output_type": "execute_result",
          "data": {
            "text/plain": [
              "9.200000000000001"
            ]
          },
          "metadata": {},
          "execution_count": 2
        }
      ]
    },
    {
      "cell_type": "markdown",
      "source": [
        "**A function that returns the sum of the even numbers in a list containing integers.**"
      ],
      "metadata": {
        "id": "wSIIMeGImaGc"
      }
    },
    {
      "cell_type": "code",
      "source": [
        "# Une fonction qui renvoie la somme des nombres pairs présents dans une liste contenant des nombres entiers.\n",
        "\n",
        "lst = [68, 68, 68, 99, 65, 44, 77, 44, 44]\n",
        "\n",
        "def sum_lst_pair(lst):\n",
        "    pair = []\n",
        "    for x in lst :\n",
        "        if(x%2 == 0):# nombre dont le reste par 2 est 0\n",
        "            pair.append(x)\n",
        "    print(\"La liste des entiers pair est : \",pair)\n",
        "    return sum_lst_pair"
      ],
      "metadata": {
        "id": "HrlkCJlKCtUx"
      },
      "execution_count": null,
      "outputs": []
    },
    {
      "cell_type": "code",
      "source": [
        "# Tester l'algorithme de tri de nombres paires dans une liste\n",
        "sum_lst_pair([68, 68, 68, 99, 65, 44, 77, 44, 44])"
      ],
      "metadata": {
        "colab": {
          "base_uri": "https://localhost:8080/"
        },
        "id": "LYJ94fb0ZBy3",
        "outputId": "221d60a6-bb3c-429d-937c-7481a998df9c"
      },
      "execution_count": null,
      "outputs": [
        {
          "output_type": "stream",
          "name": "stdout",
          "text": [
            "La liste des entiers pair est :  [68, 68, 68, 44, 44, 44]\n"
          ]
        },
        {
          "output_type": "execute_result",
          "data": {
            "text/plain": [
              "<function __main__.sum_lst_pair(lst)>"
            ]
          },
          "metadata": {},
          "execution_count": 16
        }
      ]
    },
    {
      "cell_type": "code",
      "source": [
        "# Suite: somme de nombres paires dans une liste donné\n",
        "pair = [68, 68, 68, 44, 44, 44]\n",
        "tot = 0 # initialisation du paramètre somme\n",
        "for i in pair :\n",
        "  tot = tot + i # somme des éléments paires\n",
        "print('la somme des entiers paires de la liste est:', tot )"
      ],
      "metadata": {
        "colab": {
          "base_uri": "https://localhost:8080/"
        },
        "id": "wvPimdD8YKJQ",
        "outputId": "bfae1513-0980-4a30-e204-64c67b07ec10"
      },
      "execution_count": null,
      "outputs": [
        {
          "output_type": "stream",
          "name": "stdout",
          "text": [
            "la somme des entiers paires de la liste est: 336\n"
          ]
        }
      ]
    },
    {
      "cell_type": "code",
      "source": [
        "# Autrement\n",
        "def sum_if_even0(seq):\n",
        "    s = 0\n",
        "    for elt in seq:\n",
        "        if elt % 2 == 0:\n",
        "            s += elt\n",
        "    return s\n",
        "\n",
        "sum_if_even = (lambda seq: sum(elt for elt in seq if elt % 2 == 0))"
      ],
      "metadata": {
        "id": "hBU2YJfng4dY"
      },
      "execution_count": null,
      "outputs": []
    },
    {
      "cell_type": "code",
      "source": [
        "sum_if_even([0, 3, -6, 9, 12, -15, 18, -21, 24, 27])"
      ],
      "metadata": {
        "colab": {
          "base_uri": "https://localhost:8080/"
        },
        "id": "x6g93VRjm5U7",
        "outputId": "471f01ab-aeb1-47b6-bc4b-0ff5ffc28a03"
      },
      "execution_count": null,
      "outputs": [
        {
          "output_type": "execute_result",
          "data": {
            "text/plain": [
              "48"
            ]
          },
          "metadata": {},
          "execution_count": 30
        }
      ]
    },
    {
      "cell_type": "code",
      "source": [
        "# Façon M.Simon /!\\ à affiner\n",
        "numbers = [1, 2, 3, 4, 5]\n",
        "total = 0\n",
        "for number in numbers and numbers % 2 == 0:\n",
        "    total += numbers\n",
        "    total"
      ],
      "metadata": {
        "id": "I2uRL9qImvkl"
      },
      "execution_count": null,
      "outputs": []
    },
    {
      "cell_type": "markdown",
      "source": [
        "**A function that converts a list of positive or negative integers into a new list containing absolute values.**"
      ],
      "metadata": {
        "id": "8mHzeYw7m-X1"
      }
    },
    {
      "cell_type": "code",
      "source": [
        "# Une fonction qui convertit une liste de nombres entiers positifs ou négatifs) en une nouvelle liste contenant leurs valeurs absolues.\n",
        "# Tu peux prendre la liste suivante pour exemple :\n",
        "#`test_list = [0, 3, -6, 9, 12, -15, 18, -21, 24, 27]`\n",
        "\n",
        "\n",
        "#Méthode n°1 : Utilisationmap() + abs()\n",
        "#Cette tâche peut également être effectuée à l’aide de map().\n",
        "# Comme ci-dessus, la tâche de mapconsiste à étendre la logique des nombres absolus à chaque élément de la liste.\n",
        "\n",
        "# Code Python3 pour démontrer le fonctionnement de\n",
        "# Valeur absolue des éléments d'une liste\n",
        "# en utilisant map() + abs()\n",
        "# initialisation de la liste\n",
        "test_list = [0, 3, -6, 9, 12, -15, 18, -21, 24, 27]\n",
        "\n",
        "# imprimer la liste originale\n",
        "print(\"La liste originale est : \" + str(test_list))\n",
        "\n",
        "# Valeur absolue des éléments de la liste\n",
        "# en utilisant map() + abs()\n",
        "res = list(map(abs, test_list))\n",
        "\n",
        "# impression du résultat\n",
        "print(\"Liste des valeurs absolues : \" + str(res))"
      ],
      "metadata": {
        "colab": {
          "base_uri": "https://localhost:8080/"
        },
        "id": "7zdkpKycCxbj",
        "outputId": "bc337309-258b-4012-cb47-994f5e3047af"
      },
      "execution_count": null,
      "outputs": [
        {
          "output_type": "stream",
          "name": "stdout",
          "text": [
            "La liste originale est : [0, 3, -6, 9, 12, -15, 18, -21, 24, 27]\n",
            "Liste des valeurs absolues : [0, 3, 6, 9, 12, 15, 18, 21, 24, 27]\n"
          ]
        }
      ]
    },
    {
      "cell_type": "code",
      "source": [
        "# Autrement:(avec fct lambda)\n",
        "#Méthode n°2\n",
        "def abs_map0(seq):\n",
        "    res = list()\n",
        "    for elt in seq:\n",
        "        res.append(abs(elt))\n",
        "    return res\n",
        "\n",
        "abs_map = (lambda seq: list(map(abs, seq)))"
      ],
      "metadata": {
        "id": "hXRSfgiAnxrO"
      },
      "execution_count": null,
      "outputs": []
    },
    {
      "cell_type": "code",
      "source": [
        "abs_map([0, 3, -6, 9, 12, -15, 18, -21, 24, 27])"
      ],
      "metadata": {
        "colab": {
          "base_uri": "https://localhost:8080/"
        },
        "id": "gsoMBmKboPtp",
        "outputId": "428380aa-527e-4078-a434-1679cf6cfe12"
      },
      "execution_count": null,
      "outputs": [
        {
          "output_type": "execute_result",
          "data": {
            "text/plain": [
              "[0, 3, 6, 9, 12, 15, 18, 21, 24, 27]"
            ]
          },
          "metadata": {},
          "execution_count": 32
        }
      ]
    },
    {
      "cell_type": "code",
      "source": [
        "# Solution alternative sans le 'map'\n",
        "#Méthode n°3\n",
        "abs_map2 = (lambda seq: list((x if x >= 0 else -x) for x in seq))"
      ],
      "metadata": {
        "id": "x6YnVhwWoWEZ"
      },
      "execution_count": null,
      "outputs": []
    },
    {
      "cell_type": "code",
      "source": [
        "abs_map2([0, 3, -6, 9, 12, -15, 18, -21, 24, 27])"
      ],
      "metadata": {
        "colab": {
          "base_uri": "https://localhost:8080/"
        },
        "id": "6rBJ7BSsotP9",
        "outputId": "fc090f00-dca2-4c54-839b-dbb1958e65ad"
      },
      "execution_count": null,
      "outputs": [
        {
          "output_type": "execute_result",
          "data": {
            "text/plain": [
              "[0, 3, 6, 9, 12, 15, 18, 21, 24, 27]"
            ]
          },
          "metadata": {},
          "execution_count": 34
        }
      ]
    },
    {
      "cell_type": "code",
      "source": [
        "# Façon de M. Simon:\n",
        "test_list = [0, 3, -6, 9, 12, -15, 18, -21, 24, 27]\n",
        "absol=[abs(i) for i in test_list]\n",
        "absol"
      ],
      "metadata": {
        "colab": {
          "base_uri": "https://localhost:8080/"
        },
        "id": "X1pHQz88mjhH",
        "outputId": "63e4a1de-3628-4002-a619-fe20d0c0e2e8"
      },
      "execution_count": null,
      "outputs": [
        {
          "output_type": "execute_result",
          "data": {
            "text/plain": [
              "[0, 3, 6, 9, 12, 15, 18, 21, 24, 27]"
            ]
          },
          "metadata": {},
          "execution_count": 1
        }
      ]
    }
  ]
}