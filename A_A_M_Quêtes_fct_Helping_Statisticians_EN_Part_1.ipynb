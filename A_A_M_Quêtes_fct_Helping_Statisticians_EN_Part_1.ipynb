{
  "nbformat": 4,
  "nbformat_minor": 0,
  "metadata": {
    "colab": {
      "provenance": [],
      "include_colab_link": true
    },
    "kernelspec": {
      "name": "python3",
      "display_name": "Python 3"
    }
  },
  "cells": [
    {
      "cell_type": "markdown",
      "metadata": {
        "id": "view-in-github",
        "colab_type": "text"
      },
      "source": [
        "<a href=\"https://colab.research.google.com/github/mars241/PYTHON/blob/main/A_A_M_Qu%C3%AAtes_fct_Helping_Statisticians_EN_Part_1.ipynb\" target=\"_parent\"><img src=\"https://colab.research.google.com/assets/colab-badge.svg\" alt=\"Open In Colab\"/></a>"
      ]
    },
    {
      "cell_type": "markdown",
      "metadata": {
        "id": "co2X9cGIieV0"
      },
      "source": [
        "# Help for statisticians!\n",
        "\n",
        "Your fellow statisticians need you. They want to learn how to program in Python and have tons of calculations to do.\n",
        "\n",
        "Very kindly, you agree to help them. Complete the missions below."
      ]
    },
    {
      "cell_type": "markdown",
      "metadata": {
        "id": "rvnKhKV7CVoS"
      },
      "source": [
        "![Einstien le génie](https://wallup.net/wp-content/uploads/2018/09/30/201016-funny-albert-einstein-748x468.jpg)"
      ]
    },
    {
      "cell_type": "markdown",
      "source": [],
      "metadata": {
        "id": "1PBvbClQbtED"
      }
    },
    {
      "cell_type": "code",
      "metadata": {
        "id": "S4jmbgw-kWcj",
        "outputId": "d3fa709d-1091-4883-8278-8d7170150a07",
        "colab": {
          "base_uri": "https://localhost:8080/",
          "height": 36
        }
      },
      "source": [
        "# Mission 1: Create a function, that simply returns the string \"Hello Python\"\n",
        "# # Mission 1 : Créer une fonction qui retourne simplement la chaîne \"Hello Python\".\n",
        "def message():\n",
        "  return 'HELLO PYTHON' #ici renvoie un str, comme un print()?!\n",
        "\n",
        "message()"
      ],
      "execution_count": null,
      "outputs": [
        {
          "output_type": "execute_result",
          "data": {
            "text/plain": [
              "'HELLO PYTHON'"
            ],
            "application/vnd.google.colaboratory.intrinsic+json": {
              "type": "string"
            }
          },
          "metadata": {},
          "execution_count": 2
        }
      ]
    },
    {
      "cell_type": "code",
      "source": [],
      "metadata": {
        "id": "tE2pvJ5u7TEk"
      },
      "execution_count": null,
      "outputs": []
    },
    {
      "cell_type": "code",
      "metadata": {
        "id": "4rJVUEkNk5Oo",
        "colab": {
          "base_uri": "https://localhost:8080/"
        },
        "outputId": "de666967-9445-4d92-a0b2-6cfe3b2c6d0a"
      },
      "source": [
        "# Mission 2: Create a function that takes in 2 numbers as parameters, and returns a boolean indicating whether or not they are equal\n",
        "# Mission 2 : Créez une fonction qui prend en paramètre 2 nombres et retourne un booléen indiquant s'ils sont égaux ou non.\n",
        "\n",
        "def equal(a,b):\n",
        "  return a == b\n",
        "\n",
        "print(equal(2,3))\n",
        "print(equal(5,5))\n"
      ],
      "execution_count": null,
      "outputs": [
        {
          "output_type": "stream",
          "name": "stdout",
          "text": [
            "False\n",
            "True\n"
          ]
        }
      ]
    },
    {
      "cell_type": "code",
      "source": [],
      "metadata": {
        "id": "VgbmpHFwExE0"
      },
      "execution_count": null,
      "outputs": []
    },
    {
      "cell_type": "code",
      "metadata": {
        "id": "Q9X4m3D4h-xu",
        "colab": {
          "base_uri": "https://localhost:8080/"
        },
        "outputId": "4db26743-77ce-46a2-f393-486785dcdf80"
      },
      "source": [
        "# Mission 3: Create a function that takes a number as parameter, and returns the first 10 multiples of the number as a list\n",
        "# Example: 2 -> [2, 4, 6, 8, 10, 12, 14, 16, 18, 20]\n",
        "\n",
        "# Mission 3 : Créer une fonction qui prend un nombre en paramètre et retourne les 10 premiers multiples de ce nombre sous forme de liste.\n",
        "# Exemple : 2 -> [2, 4, 6, 8, 10, 12, 14, 16, 18, 20]\n",
        "\n",
        "def multiples(n) :\n",
        "  for i in range (9) :\n",
        "    x = n * (i+1)\n",
        "    print(x, end=', ')\n",
        "  return n*10 # retourne 10 résultats\n",
        "\n",
        "multiples(2)"
      ],
      "execution_count": null,
      "outputs": [
        {
          "output_type": "stream",
          "name": "stdout",
          "text": [
            "2, 4, 6, 8, 10, 12, 14, 16, 18, "
          ]
        },
        {
          "output_type": "execute_result",
          "data": {
            "text/plain": [
              "20"
            ]
          },
          "metadata": {},
          "execution_count": 4
        }
      ]
    },
    {
      "cell_type": "code",
      "source": [],
      "metadata": {
        "id": "rlM5Yh7PFBLf"
      },
      "execution_count": null,
      "outputs": []
    },
    {
      "cell_type": "code",
      "metadata": {
        "id": "Fe9kZrvklI0b",
        "colab": {
          "base_uri": "https://localhost:8080/"
        },
        "outputId": "f8288fc9-9301-4426-f7af-bd72b83a4b0c"
      },
      "source": [
        "# Mission 4: Create a function that takes a string as input, and return its vowels only, preserving case.\n",
        "# Example: \"Antidisestablishmentarianism\" -> \"Aiieaieaiai\"\n",
        "# Example: \"TO BE OR NOT TO BE\" -> \"OEOOOE\"\n",
        "\n",
        "# Mission 4 : Créer une fonction qui prend une chaîne de caractères en entrée, et retourne uniquement ses voyelles, en préservant la casse.\n",
        "# Exemple : \"Antidisestablishmentarianism\" -> \"Aiieaieaiai\"\n",
        "# Exemple : \"ÊTRE OU NE PAS ÊTRE\" -> \"OEOOOE\"\n",
        "\n",
        "\n",
        "def extract_voyels(mot):\n",
        "  for letter in mot :\n",
        "    if letter in 'aeiouyAEIOUY':\n",
        "      print(letter, end = ' ')\n",
        "    else :\n",
        "      continue\n",
        "\n",
        "extract_voyels(\"ÊTRE OU NE PAS ÊTRE\")"
      ],
      "execution_count": null,
      "outputs": [
        {
          "output_type": "stream",
          "name": "stdout",
          "text": [
            "E O U E A E "
          ]
        }
      ]
    },
    {
      "cell_type": "code",
      "source": [],
      "metadata": {
        "id": "M3QVVr48FsVL"
      },
      "execution_count": null,
      "outputs": []
    },
    {
      "cell_type": "code",
      "metadata": {
        "id": "7b3JtuNClm4a",
        "colab": {
          "base_uri": "https://localhost:8080/"
        },
        "outputId": "aa980dec-1399-4eea-b4c0-caf5c5f600a6"
      },
      "source": [
        "# Mission 5: Create a function that takes 2 numbers as parameters, and returns the result of a division operation.\n",
        "# Test if the denominator is equal to 0 and if so, display a message that says: \"You can't divide by zero\".\n",
        "\n",
        "# Mission 5 : Créer une fonction qui prend 2 nombres en paramètres, et retourne le résultat d'une opération de division.\n",
        "# Testez si le dénominateur est égal à 0 et si c'est le cas, affichez un message qui dit : \"Vous ne pouvez pas diviser par zéro\".\n",
        "\n",
        "\n",
        "def division(x,y):\n",
        "  if y == 0 :\n",
        "    print(\"Vous ne pouvez pas diviser par zéro\")\n",
        "  else:\n",
        "    return x / y # \"/\" division et \"//\" division euclidiene\n",
        "\n",
        "division(6,0)\n"
      ],
      "execution_count": null,
      "outputs": [
        {
          "output_type": "stream",
          "name": "stdout",
          "text": [
            "Vous ne pouvez pas diviser par zéro\n"
          ]
        }
      ]
    },
    {
      "cell_type": "code",
      "metadata": {
        "id": "6hjrrDyUlN8o",
        "colab": {
          "base_uri": "https://localhost:8080/"
        },
        "outputId": "29707145-99b4-46f0-d6a1-1c770e219eb8"
      },
      "source": [
        "# Mission 6: First, choose two arithmetical operations (such as +, -, *, or /)\n",
        "# Then, create a function that takes in 3 numbers as parameters and carries out those operations, displays a message indicating if the result is positive, negative or zero, and finally returns the result.\n",
        "# If a division by zero is attempted, display an error message.\n",
        "\n",
        "# Example with multiplication and addition:\n",
        "# Calling with 0, 32, 2 will compute (0*32)+2, will display \"Positive result\", and return 2\n",
        "\n",
        "# Example with division and addition:\n",
        "# Calling with 21, 0, 3 will try to compute (21/0)+2, will display \"Divide-by-zero error\"\n",
        "\n",
        "\n",
        "# Mission 6 : Choisissez d'abord deux opérations arithmétiques (telles que +, -, * ou /).\n",
        "# Ensuite, créez une fonction qui prend 3 nombres en paramètre et effectue ces opérations, affiche un message indiquant si le résultat est positif, négatif ou nul, et enfin retourne le résultat.\n",
        "# Si une division par zéro est tentée, affiche un message d'erreur.\n",
        "\n",
        "# Exemple avec la multiplication et l'addition :\n",
        "# L'appel avec 0, 32, 2 calculera (0*32)+2, affichera \"Résultat positif\" et retournera 2.\n",
        "\n",
        "# Exemple avec la division et l'addition :\n",
        "# Appeler avec 21, 0, 3 essaiera de calculer (21/0)+2, affichera \"Divide-by-zero error\".\n",
        "\n",
        "def operations(x,y,z):\n",
        "  if y == 0 :\n",
        "    print(\"On ne peut diviser par un zero\")\n",
        "    pass\n",
        "\n",
        "  elif y != 0:\n",
        "    result = x / y + z\n",
        "    print(result)\n",
        "    if result == 0:\n",
        "      print('Le résultat est null')\n",
        "    elif result < 0:\n",
        "      print('Le résultat est negative')\n",
        "    else :\n",
        "      print('Le résultat est positive')\n",
        "\n",
        "operations(10,0,2)"
      ],
      "execution_count": null,
      "outputs": [
        {
          "output_type": "stream",
          "name": "stdout",
          "text": [
            "On ne peut diviser par un zero\n"
          ]
        }
      ]
    },
    {
      "cell_type": "code",
      "source": [],
      "metadata": {
        "id": "a93Ky3TxPC9V"
      },
      "execution_count": null,
      "outputs": []
    },
    {
      "cell_type": "code",
      "metadata": {
        "id": "r6DP6oTDmqfs",
        "colab": {
          "base_uri": "https://localhost:8080/"
        },
        "outputId": "89e131f8-1cc6-4d8c-825e-6cbba5eeaa7b"
      },
      "source": [
        "# Mission 7: Create a function that takes a number as a parameter that corresponds to gross salary and returns the net salary for executives.\n",
        "# You can specify any amount of deductions, or base them on your country's example\n",
        "\n",
        "# Mission 7 : Créez une fonction qui prend en paramètre un nombre correspondant au salaire brut et retourne le salaire net des cadres.\n",
        "# Vous pouvez spécifier n'importe quel montant de déductions, ou les baser sur l'exemple de votre pays.\n",
        "\n",
        "\n",
        "def salaire_net(brute) :\n",
        "    print(\"Vous aurrez en réalité:\",brute * 0.75 ,'euros') # En france le salaire du brut au net est propotionelle à 75% environ\n",
        "\n",
        "salaire_net(float(input(\"Dites le salaire BRUTE(sans unité) dont vous souhaitez à l'issue de votre formation en Data?:\")))"
      ],
      "execution_count": null,
      "outputs": [
        {
          "output_type": "stream",
          "name": "stdout",
          "text": [
            "Dites le salaire BRUTE(sans unité) dont vous souhaitez à l'issue de votre formation en Data?:110000\n",
            "Vous aurrez en réalité: 82500.0 euros\n"
          ]
        }
      ]
    },
    {
      "cell_type": "code",
      "source": [],
      "metadata": {
        "id": "L_DsOazcPL9A"
      },
      "execution_count": null,
      "outputs": []
    },
    {
      "cell_type": "code",
      "metadata": {
        "id": "T57txpOLjVXv",
        "colab": {
          "base_uri": "https://localhost:8080/"
        },
        "outputId": "32b26ef8-a387-464d-8bb0-bcb80fb3272f"
      },
      "source": [
        "# Mission 8: Create a function that can swap the values of any two variables, such as if variable A = 1 and variable B = 2, after applying the function, variable A = 2 and B = 1\n",
        "\n",
        "# Mission 8 : Créez une fonction qui peut échanger les valeurs de deux variables, par exemple si la variable A = 1 et la variable B = 2, après avoir appliqué la fonction, la variable A = 2 et B = 1.\n",
        "\n",
        "def reverse(a,b):\n",
        "  a,b = b,a\n",
        "  return a, b\n",
        "\n",
        "reverse(18,88)"
      ],
      "execution_count": null,
      "outputs": [
        {
          "output_type": "execute_result",
          "data": {
            "text/plain": [
              "(88, 18)"
            ]
          },
          "metadata": {},
          "execution_count": 14
        }
      ]
    },
    {
      "cell_type": "code",
      "metadata": {
        "id": "Qhlq9Dmukdhp"
      },
      "source": [],
      "execution_count": null,
      "outputs": []
    },
    {
      "cell_type": "code",
      "metadata": {
        "id": "JDtpZ_1rkZSl"
      },
      "source": [],
      "execution_count": null,
      "outputs": []
    }
  ]
}