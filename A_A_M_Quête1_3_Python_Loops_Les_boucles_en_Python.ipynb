{
  "nbformat": 4,
  "nbformat_minor": 0,
  "metadata": {
    "colab": {
      "provenance": [],
      "include_colab_link": true
    },
    "kernelspec": {
      "name": "python3",
      "display_name": "Python 3"
    },
    "language_info": {
      "name": "python"
    }
  },
  "cells": [
    {
      "cell_type": "markdown",
      "metadata": {
        "id": "view-in-github",
        "colab_type": "text"
      },
      "source": [
        "<a href=\"https://colab.research.google.com/github/mars241/PYTHON/blob/main/A_A_M_Qu%C3%AAte1_3_Python_Loops_Les_boucles_en_Python.ipynb\" target=\"_parent\"><img src=\"https://colab.research.google.com/assets/colab-badge.svg\" alt=\"Open In Colab\"/></a>"
      ]
    },
    {
      "cell_type": "markdown",
      "metadata": {
        "id": "67hNLzB4ZL9E"
      },
      "source": [
        "# Mission 1 :"
      ]
    },
    {
      "cell_type": "markdown",
      "metadata": {
        "id": "6N9uL0pDZPvN"
      },
      "source": [
        "Écrire un programme permettant de calculer la somme des entiers entre 0 et 1000 (tous deux inclus) qui sont divisibles par 2 ou par 5, mais pas par 10 ?\n"
      ]
    },
    {
      "cell_type": "code",
      "metadata": {
        "id": "dAfwhyw6wSgZ",
        "colab": {
          "base_uri": "https://localhost:8080/"
        },
        "outputId": "0b837fc8-d7b3-473f-af16-590f8404d6f0"
      },
      "source": [
        "# Rappel: end=' ' permet que la liste d'affichage/des valeurs soit mis côte à côte séparer d'un espace\n",
        "# Rappel: end='\\n' permet que la liste d'affichage/des valeurs part à la ligne chaque fois\n",
        "# Rappel: sep='' permet que la liste d'affichage/des valeurs saute d'un pas à chaque fois\n",
        "\n",
        "sum_int=0 # Initialiser la somme d'entier\n",
        "n=0 # Initialiser l'entier \"n\"\n",
        "for n in range(0,1001): #On peut aussi écrire \"range(1001):\"Python débute par défaut par 0\n",
        "  if not (n % 10 == 0) and (n % 2 == 0 or n % 5) : # idéal de traiter en amont les cas particuliers/difficiles (être divisible par 10 => être divisible par 2)\n",
        "    #not (n % 10 == 0) équivalent(On peut aussi écrire) \"n % 10 !=0:\"\n",
        "    print(n, end=' ')\n",
        "sum_int = sum_int + n # On peut aussi écrire: \"sum_int += n\"\n",
        "print('\\n')\n",
        "print('la somme de ces entiers qui sont divisibles par 2 ou par 5, mais pas par 10 est:', sum_int)\n"
      ],
      "execution_count": null,
      "outputs": [
        {
          "output_type": "stream",
          "name": "stdout",
          "text": [
            "1 2 3 4 6 7 8 9 11 12 13 14 16 17 18 19 21 22 23 24 26 27 28 29 31 32 33 34 36 37 38 39 41 42 43 44 46 47 48 49 51 52 53 54 56 57 58 59 61 62 63 64 66 67 68 69 71 72 73 74 76 77 78 79 81 82 83 84 86 87 88 89 91 92 93 94 96 97 98 99 101 102 103 104 106 107 108 109 111 112 113 114 116 117 118 119 121 122 123 124 126 127 128 129 131 132 133 134 136 137 138 139 141 142 143 144 146 147 148 149 151 152 153 154 156 157 158 159 161 162 163 164 166 167 168 169 171 172 173 174 176 177 178 179 181 182 183 184 186 187 188 189 191 192 193 194 196 197 198 199 201 202 203 204 206 207 208 209 211 212 213 214 216 217 218 219 221 222 223 224 226 227 228 229 231 232 233 234 236 237 238 239 241 242 243 244 246 247 248 249 251 252 253 254 256 257 258 259 261 262 263 264 266 267 268 269 271 272 273 274 276 277 278 279 281 282 283 284 286 287 288 289 291 292 293 294 296 297 298 299 301 302 303 304 306 307 308 309 311 312 313 314 316 317 318 319 321 322 323 324 326 327 328 329 331 332 333 334 336 337 338 339 341 342 343 344 346 347 348 349 351 352 353 354 356 357 358 359 361 362 363 364 366 367 368 369 371 372 373 374 376 377 378 379 381 382 383 384 386 387 388 389 391 392 393 394 396 397 398 399 401 402 403 404 406 407 408 409 411 412 413 414 416 417 418 419 421 422 423 424 426 427 428 429 431 432 433 434 436 437 438 439 441 442 443 444 446 447 448 449 451 452 453 454 456 457 458 459 461 462 463 464 466 467 468 469 471 472 473 474 476 477 478 479 481 482 483 484 486 487 488 489 491 492 493 494 496 497 498 499 501 502 503 504 506 507 508 509 511 512 513 514 516 517 518 519 521 522 523 524 526 527 528 529 531 532 533 534 536 537 538 539 541 542 543 544 546 547 548 549 551 552 553 554 556 557 558 559 561 562 563 564 566 567 568 569 571 572 573 574 576 577 578 579 581 582 583 584 586 587 588 589 591 592 593 594 596 597 598 599 601 602 603 604 606 607 608 609 611 612 613 614 616 617 618 619 621 622 623 624 626 627 628 629 631 632 633 634 636 637 638 639 641 642 643 644 646 647 648 649 651 652 653 654 656 657 658 659 661 662 663 664 666 667 668 669 671 672 673 674 676 677 678 679 681 682 683 684 686 687 688 689 691 692 693 694 696 697 698 699 701 702 703 704 706 707 708 709 711 712 713 714 716 717 718 719 721 722 723 724 726 727 728 729 731 732 733 734 736 737 738 739 741 742 743 744 746 747 748 749 751 752 753 754 756 757 758 759 761 762 763 764 766 767 768 769 771 772 773 774 776 777 778 779 781 782 783 784 786 787 788 789 791 792 793 794 796 797 798 799 801 802 803 804 806 807 808 809 811 812 813 814 816 817 818 819 821 822 823 824 826 827 828 829 831 832 833 834 836 837 838 839 841 842 843 844 846 847 848 849 851 852 853 854 856 857 858 859 861 862 863 864 866 867 868 869 871 872 873 874 876 877 878 879 881 882 883 884 886 887 888 889 891 892 893 894 896 897 898 899 901 902 903 904 906 907 908 909 911 912 913 914 916 917 918 919 921 922 923 924 926 927 928 929 931 932 933 934 936 937 938 939 941 942 943 944 946 947 948 949 951 952 953 954 956 957 958 959 961 962 963 964 966 967 968 969 971 972 973 974 976 977 978 979 981 982 983 984 986 987 988 989 991 992 993 994 996 997 998 999 \n",
            "\n",
            "la somme de ces entiers qui sont divisibles par 2 ou par 5, mais pas par 10 est: 1000\n"
          ]
        }
      ]
    },
    {
      "cell_type": "markdown",
      "metadata": {
        "id": "ACvvZh69ZnmQ"
      },
      "source": [
        "# Mission 2 :"
      ]
    },
    {
      "cell_type": "markdown",
      "metadata": {
        "id": "PWWUK1PrabUk"
      },
      "source": [
        "Écrire un programme qui permet de compter le nombre total de chiffres dans un nombre. Par exemple le nombre de chiffres pour le nombre 987354 est 6."
      ]
    },
    {
      "cell_type": "code",
      "metadata": {
        "id": "zehn7O5ywXGZ",
        "colab": {
          "base_uri": "https://localhost:8080/"
        },
        "outputId": "852c74b1-53b1-4ef5-fec1-7fa68c0b1937"
      },
      "source": [
        "# On laisse le choix à l'utilisateur d'entrer le nombre souhaité avec le module \"input()\"\n",
        "nombres = int(input('Saississez SVP un mombre à 6 chiffres minimum:'))\n",
        "\n",
        "## C’est sans doute la plus simple des méthodes: on transforme le type du nombre en type itérable (par exemple en str(): chaîne de caractères),\n",
        "# puis on donne la longueur de l'itéré (transformé en nombre entier). Cela donne:\n",
        "\n",
        "for k in str(nombres):\n",
        "    total_nbr = len(str(nombres))\n",
        "# La fonction len() est une fonction intégrée à Python utilisée pour calculer le nombre de caractères à l’intérieur d’une variable string.\n",
        "#La fonction len() prend une chaîne comme paramètre d’entrée et renvoie le nombre de caractères à l’intérieur de cette chaîne.\n",
        "print('le nombre de chiffre dans votre nombre est:',total_nbr)\n"
      ],
      "execution_count": null,
      "outputs": [
        {
          "output_type": "stream",
          "name": "stdout",
          "text": [
            "Saississez SVP un mombre à 6 chiffres minimum:714568866\n",
            "le nombre de chiffre dans votre nombre est: 9\n"
          ]
        }
      ]
    },
    {
      "cell_type": "markdown",
      "metadata": {
        "id": "lK-QbhqFZxSr"
      },
      "source": [
        "# Mission 3"
      ]
    },
    {
      "cell_type": "markdown",
      "metadata": {
        "id": "Cn1eE9AkZzwh"
      },
      "source": [
        "Écrire un programme permettant de calculer la factorielle d'un nombre choisi par l'utilisateur.\n",
        "\n",
        "Par exemple, la factorielle de 4 est égale à 4 * 3 * 2 * 1"
      ]
    },
    {
      "cell_type": "code",
      "metadata": {
        "id": "n50Lp9U_sxe4",
        "colab": {
          "base_uri": "https://localhost:8080/"
        },
        "outputId": "3c6cdce2-6f2f-4766-c4ea-f3b26e7a9552"
      },
      "source": [
        "# On laisse le choix à l'utilisateur d'entrer le nombre souhaité avec le module \"input()\"\n",
        "nombres = int(input('Saississez SVP, un mombre entier dont vous voulez calculer son factoriel (\"!\") :'))\n",
        "\n",
        "#Factorielle d’un nombre est le produit de tous les entiers compris entre 1 et lui-même.\n",
        "#Pour trouver une factorielle d’un nombre donné,on utilise une boucle for sur une plage allant de 1 à X(nombre entré).\n",
        "\n",
        "fact_num = 1\n",
        "for i in range(1, nombres+1): #Rappelez-vous que la fonction range() exclut la valeur d’arrêt. Par conséquent, la valeur d’arrêt doit être le nombre entré + 1.\n",
        "  fact_num = fact_num * i #Chaque nombre dans la plage est multiplié cumulativement dans la variable fact_num qui est initialisée à 1.\n",
        "print(nombres,'! = ',fact_num)\n",
        "print(\"le factoriel de\", nombres, \"est:\", fact_num);"
      ],
      "execution_count": null,
      "outputs": [
        {
          "output_type": "stream",
          "name": "stdout",
          "text": [
            "Saississez SVP, un mombre entier dont vous voulez calculer son factoriel (\"!\") :5\n",
            "5 ! =  120\n",
            "le factoriel de 5 est: 120\n"
          ]
        }
      ]
    },
    {
      "cell_type": "markdown",
      "metadata": {
        "id": "_R_bRiFDkSZJ"
      },
      "source": [
        "# Mission 4"
      ]
    },
    {
      "cell_type": "markdown",
      "metadata": {
        "id": "H7_zRP6tkZfF"
      },
      "source": [
        "Écrire un programme qui permet d'inverser les chiffres d'un nombre. Par exemple, 67531 devient 13576"
      ]
    },
    {
      "cell_type": "code",
      "metadata": {
        "id": "zszVwwfIvobY",
        "colab": {
          "base_uri": "https://localhost:8080/"
        },
        "outputId": "5332c25a-7eec-4afa-fb60-82acb51d3d5b"
      },
      "source": [
        "# On laisse le choix à l'utilisateur d'entrer le nombre souhaité avec le module \"input()\"\n",
        "nbrs = int(input('Saississez SVP un mombre à 5 chiffres minimum:'))\n",
        "\n",
        "# On transforme le type du nombre en type itérable (par exemple en str(): chaîne de caractères)\n",
        "nbrs= str(nbrs)\n",
        "#On ulilise la synthaxe des listes: list[::n]; pour afficher de manière inversé tout les élements avant la position \"n\"\n",
        "print(\"le nombre inversé de \",nbrs,'est:' ,nbrs[::-1]) #Le \":\" devant inverse la list nbrs; Les \":-1\" <=> tout nbre avant la dernière position"
      ],
      "execution_count": null,
      "outputs": [
        {
          "output_type": "stream",
          "name": "stdout",
          "text": [
            "Saississez SVP un mombre à 5 chiffres minimum:95136\n",
            "le nombre inversé de  95136 est: 63159\n"
          ]
        }
      ]
    },
    {
      "cell_type": "markdown",
      "metadata": {
        "id": "dn58tp1cnK41"
      },
      "source": [
        "# Mission 5"
      ]
    },
    {
      "cell_type": "markdown",
      "metadata": {
        "id": "oUgO4M2UnBGD"
      },
      "source": [
        "En utilisant la boucle while, écrire un programme qui permet d'additionner des entiers au carré (en commençant par 1) jusqu'à ce que le total dépasse 300. Imprimez le total final et le dernier nombre à être élevé au carré ."
      ]
    },
    {
      "cell_type": "code",
      "metadata": {
        "id": "fPhbKTWFsyx-",
        "colab": {
          "base_uri": "https://localhost:8080/"
        },
        "outputId": "16cb38db-b59f-46b4-83e4-e912b5d62631"
      },
      "source": [
        "n=1 # initialison entier commançant par 1\n",
        "toto_num=0 # le total final débute à 0\n",
        "while n < 300 : # En utilisant \"while\" avec une borne limite descendante, on s'assure qu'elle ne boucle à l'infini, donc pas besion de \"break\" ici pour arrêter!\n",
        "  toto_num = toto_num + (n)^2 # on peu aussi écrire : toto_num = toto_num + n**2\n",
        "  n += 1 # incrémentons l'entier n: proprieté propre aux boucles: c'est à nous de donner le sens de l'incrémentation (ici au pas 1): ASCENDANTE(+=1)/DESCENDANTE(-=1)\n",
        "  print(n, toto_num, end=' ')\n",
        "  print(end='\\n')\n",
        "print('La somme final de ces entiers commençant par 1, élevé au carré et ne dépassant pas 300 est:',toto_num)\n"
      ],
      "execution_count": null,
      "outputs": [
        {
          "output_type": "stream",
          "name": "stdout",
          "text": [
            "2 3 \n",
            "3 7 \n",
            "4 8 \n",
            "5 14 \n",
            "6 17 \n",
            "7 21 \n",
            "8 30 \n",
            "9 36 \n",
            "10 47 \n",
            "11 59 \n",
            "12 68 \n",
            "13 82 \n",
            "14 93 \n",
            "15 105 \n",
            "16 122 \n",
            "17 136 \n",
            "18 155 \n",
            "19 175 \n",
            "20 192 \n",
            "21 214 \n",
            "22 233 \n",
            "23 253 \n",
            "24 278 \n",
            "25 300 \n",
            "26 327 \n",
            "27 355 \n",
            "28 380 \n",
            "29 410 \n",
            "30 437 \n",
            "31 465 \n",
            "32 498 \n",
            "33 528 \n",
            "34 563 \n",
            "35 599 \n",
            "36 632 \n",
            "37 670 \n",
            "38 705 \n",
            "39 741 \n",
            "40 782 \n",
            "41 820 \n",
            "42 863 \n",
            "43 907 \n",
            "44 948 \n",
            "45 994 \n",
            "46 1037 \n",
            "47 1081 \n",
            "48 1130 \n",
            "49 1176 \n",
            "50 1227 \n",
            "51 1279 \n",
            "52 1328 \n",
            "53 1382 \n",
            "54 1433 \n",
            "55 1485 \n",
            "56 1542 \n",
            "57 1596 \n",
            "58 1655 \n",
            "59 1715 \n",
            "60 1772 \n",
            "61 1834 \n",
            "62 1893 \n",
            "63 1953 \n",
            "64 2018 \n",
            "65 2080 \n",
            "66 2147 \n",
            "67 2215 \n",
            "68 2280 \n",
            "69 2350 \n",
            "70 2417 \n",
            "71 2485 \n",
            "72 2558 \n",
            "73 2628 \n",
            "74 2703 \n",
            "75 2779 \n",
            "76 2852 \n",
            "77 2930 \n",
            "78 3005 \n",
            "79 3081 \n",
            "80 3162 \n",
            "81 3240 \n",
            "82 3323 \n",
            "83 3407 \n",
            "84 3488 \n",
            "85 3574 \n",
            "86 3657 \n",
            "87 3741 \n",
            "88 3830 \n",
            "89 3916 \n",
            "90 4007 \n",
            "91 4099 \n",
            "92 4188 \n",
            "93 4282 \n",
            "94 4373 \n",
            "95 4465 \n",
            "96 4562 \n",
            "97 4656 \n",
            "98 4755 \n",
            "99 4855 \n",
            "100 4952 \n",
            "101 5054 \n",
            "102 5153 \n",
            "103 5253 \n",
            "104 5358 \n",
            "105 5460 \n",
            "106 5567 \n",
            "107 5675 \n",
            "108 5780 \n",
            "109 5890 \n",
            "110 5997 \n",
            "111 6105 \n",
            "112 6218 \n",
            "113 6328 \n",
            "114 6443 \n",
            "115 6559 \n",
            "116 6672 \n",
            "117 6790 \n",
            "118 6905 \n",
            "119 7021 \n",
            "120 7142 \n",
            "121 7260 \n",
            "122 7383 \n",
            "123 7507 \n",
            "124 7628 \n",
            "125 7754 \n",
            "126 7877 \n",
            "127 8001 \n",
            "128 8130 \n",
            "129 8256 \n",
            "130 8387 \n",
            "131 8519 \n",
            "132 8648 \n",
            "133 8782 \n",
            "134 8913 \n",
            "135 9045 \n",
            "136 9182 \n",
            "137 9316 \n",
            "138 9455 \n",
            "139 9595 \n",
            "140 9732 \n",
            "141 9874 \n",
            "142 10013 \n",
            "143 10153 \n",
            "144 10298 \n",
            "145 10440 \n",
            "146 10587 \n",
            "147 10735 \n",
            "148 10880 \n",
            "149 11030 \n",
            "150 11177 \n",
            "151 11325 \n",
            "152 11478 \n",
            "153 11628 \n",
            "154 11783 \n",
            "155 11939 \n",
            "156 12092 \n",
            "157 12250 \n",
            "158 12405 \n",
            "159 12561 \n",
            "160 12722 \n",
            "161 12880 \n",
            "162 13043 \n",
            "163 13207 \n",
            "164 13368 \n",
            "165 13534 \n",
            "166 13697 \n",
            "167 13861 \n",
            "168 14030 \n",
            "169 14196 \n",
            "170 14367 \n",
            "171 14539 \n",
            "172 14708 \n",
            "173 14882 \n",
            "174 15053 \n",
            "175 15225 \n",
            "176 15402 \n",
            "177 15576 \n",
            "178 15755 \n",
            "179 15935 \n",
            "180 16112 \n",
            "181 16294 \n",
            "182 16473 \n",
            "183 16653 \n",
            "184 16838 \n",
            "185 17020 \n",
            "186 17207 \n",
            "187 17395 \n",
            "188 17580 \n",
            "189 17770 \n",
            "190 17957 \n",
            "191 18145 \n",
            "192 18338 \n",
            "193 18528 \n",
            "194 18723 \n",
            "195 18919 \n",
            "196 19112 \n",
            "197 19310 \n",
            "198 19505 \n",
            "199 19701 \n",
            "200 19902 \n",
            "201 20100 \n",
            "202 20303 \n",
            "203 20507 \n",
            "204 20708 \n",
            "205 20914 \n",
            "206 21117 \n",
            "207 21321 \n",
            "208 21530 \n",
            "209 21736 \n",
            "210 21947 \n",
            "211 22159 \n",
            "212 22368 \n",
            "213 22582 \n",
            "214 22793 \n",
            "215 23005 \n",
            "216 23222 \n",
            "217 23436 \n",
            "218 23655 \n",
            "219 23875 \n",
            "220 24092 \n",
            "221 24314 \n",
            "222 24533 \n",
            "223 24753 \n",
            "224 24978 \n",
            "225 25200 \n",
            "226 25427 \n",
            "227 25655 \n",
            "228 25880 \n",
            "229 26110 \n",
            "230 26337 \n",
            "231 26565 \n",
            "232 26798 \n",
            "233 27028 \n",
            "234 27263 \n",
            "235 27499 \n",
            "236 27732 \n",
            "237 27970 \n",
            "238 28205 \n",
            "239 28441 \n",
            "240 28682 \n",
            "241 28920 \n",
            "242 29163 \n",
            "243 29407 \n",
            "244 29648 \n",
            "245 29894 \n",
            "246 30137 \n",
            "247 30381 \n",
            "248 30630 \n",
            "249 30876 \n",
            "250 31127 \n",
            "251 31379 \n",
            "252 31628 \n",
            "253 31882 \n",
            "254 32133 \n",
            "255 32385 \n",
            "256 32642 \n",
            "257 32896 \n",
            "258 33155 \n",
            "259 33415 \n",
            "260 33672 \n",
            "261 33934 \n",
            "262 34193 \n",
            "263 34453 \n",
            "264 34718 \n",
            "265 34980 \n",
            "266 35247 \n",
            "267 35515 \n",
            "268 35780 \n",
            "269 36050 \n",
            "270 36317 \n",
            "271 36585 \n",
            "272 36858 \n",
            "273 37128 \n",
            "274 37403 \n",
            "275 37679 \n",
            "276 37952 \n",
            "277 38230 \n",
            "278 38505 \n",
            "279 38781 \n",
            "280 39062 \n",
            "281 39340 \n",
            "282 39623 \n",
            "283 39907 \n",
            "284 40188 \n",
            "285 40474 \n",
            "286 40757 \n",
            "287 41041 \n",
            "288 41330 \n",
            "289 41616 \n",
            "290 41907 \n",
            "291 42199 \n",
            "292 42488 \n",
            "293 42782 \n",
            "294 43073 \n",
            "295 43365 \n",
            "296 43662 \n",
            "297 43956 \n",
            "298 44255 \n",
            "299 44555 \n",
            "300 44852 \n",
            "La somme final de ces entiers commençant par 1, élevé au carré et ne dépassant pas 300 est: 44852\n"
          ]
        }
      ]
    },
    {
      "cell_type": "markdown",
      "metadata": {
        "id": "fGFBgSgGoudi"
      },
      "source": [
        "# Mission 6"
      ]
    },
    {
      "cell_type": "markdown",
      "metadata": {
        "id": "AiYAQtscowD0"
      },
      "source": [
        "Écrire un programme qui permet d'afficher la table de multiplication pour tous les nombres variant entre 1 et 10 (les deux inclus).\n",
        " - Si le nombre est inférieur ou égale à 5, on souhaite afficher les résultats de ses multiplications par 1 jusqu'à 10.\n",
        " - Sinon on affiche les résultats de multiplication de ce nombre par 1 à 5\n",
        "\n",
        " Le résultat sera affiché comme ceci :"
      ]
    },
    {
      "cell_type": "markdown",
      "metadata": {
        "id": "-wXzgk40rHzn"
      },
      "source": [
        "![image.png](data:image/png;base64,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)"
      ]
    },
    {
      "cell_type": "code",
      "metadata": {
        "id": "cgxhQryilQxY",
        "colab": {
          "base_uri": "https://localhost:8080/"
        },
        "outputId": "3a76fe31-6ebe-433b-db6d-ff62ff565a79"
      },
      "source": [
        "# /!\\ utilisation du break pour la boucle \"While\" ici\n",
        "print(\"Tables de multiplication\")\n",
        "i=0\n",
        "nb=int(input(\"saisissez SVP, un NOMBRE de table de multiplication:\"))\n",
        "while i<10:\n",
        "  if i <5:\n",
        "    #print(\"la table de multiplication de\", nb,'est:', end='\\n')\n",
        "    print(i+1, \"x\", nb, \"=\", (i + 1) * nb)\n",
        "    i+=1\n",
        "  else:\n",
        "    print(\"la table de multiplication de\", nb,'est:', end='\\n')\n",
        "    print(i+1, \"x\", nb, \"=\", (i + 1) * nb)\n",
        "    i+=1\n",
        "    break"
      ],
      "execution_count": null,
      "outputs": [
        {
          "output_type": "stream",
          "name": "stdout",
          "text": [
            "Tables de multiplication\n",
            "saisissez SVP, un NOMBRE de table de multiplication:6\n",
            "1 x 6 = 6\n",
            "2 x 6 = 12\n",
            "3 x 6 = 18\n",
            "4 x 6 = 24\n",
            "5 x 6 = 30\n",
            "la table de multiplication de 6 est:\n",
            "6 x 6 = 36\n"
          ]
        }
      ]
    }
  ]
}