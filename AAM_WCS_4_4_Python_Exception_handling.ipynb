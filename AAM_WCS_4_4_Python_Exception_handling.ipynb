{
  "nbformat": 4,
  "nbformat_minor": 0,
  "metadata": {
    "colab": {
      "provenance": [],
      "include_colab_link": true
    },
    "kernelspec": {
      "name": "python3",
      "display_name": "Python 3"
    },
    "language_info": {
      "name": "python"
    }
  },
  "cells": [
    {
      "cell_type": "markdown",
      "metadata": {
        "id": "view-in-github",
        "colab_type": "text"
      },
      "source": [
        "<a href=\"https://colab.research.google.com/github/mars241/PYTHON/blob/main/AAM_WCS_4_4_Python_Exception_handling.ipynb\" target=\"_parent\"><img src=\"https://colab.research.google.com/assets/colab-badge.svg\" alt=\"Open In Colab\"/></a>"
      ]
    },
    {
      "cell_type": "markdown",
      "metadata": {
        "id": "ZU6qSUveywPs"
      },
      "source": [
        "You must correct each of the scripts below **using exception handling** and **without modifying lists**.\n",
        "\n",
        "Vous devez corriger chacun des scripts ci-dessous en **utilisant le traitement des exceptions** et **sans modifier les listes.**"
      ]
    },
    {
      "cell_type": "markdown",
      "metadata": {
        "id": "PcSLELHnzb-X"
      },
      "source": [
        "Script number 1"
      ]
    },
    {
      "cell_type": "code",
      "metadata": {
        "id": "IAZK21ekypZP",
        "outputId": "63d377b2-2255-4bf9-880c-79caa5eefa80",
        "colab": {
          "base_uri": "https://localhost:8080/",
          "height": 287
        }
      },
      "source": [
        "\n",
        "list_integers = [1, 12, -45, 6, 27, 0, 24]\n",
        "for i in list_integers:\n",
        "  print(1/i)\n"
      ],
      "execution_count": null,
      "outputs": [
        {
          "output_type": "stream",
          "name": "stdout",
          "text": [
            "1.0\n",
            "0.08333333333333333\n",
            "-0.022222222222222223\n",
            "0.16666666666666666\n",
            "0.037037037037037035\n"
          ]
        },
        {
          "output_type": "error",
          "ename": "ZeroDivisionError",
          "evalue": "ignored",
          "traceback": [
            "\u001b[0;31m---------------------------------------------------------------------------\u001b[0m",
            "\u001b[0;31mZeroDivisionError\u001b[0m                         Traceback (most recent call last)",
            "\u001b[0;32m<ipython-input-1-a3253ca8e904>\u001b[0m in \u001b[0;36m<module>\u001b[0;34m\u001b[0m\n\u001b[1;32m      1\u001b[0m \u001b[0mlist_integers\u001b[0m \u001b[0;34m=\u001b[0m \u001b[0;34m[\u001b[0m\u001b[0;36m1\u001b[0m\u001b[0;34m,\u001b[0m \u001b[0;36m12\u001b[0m\u001b[0;34m,\u001b[0m \u001b[0;34m-\u001b[0m\u001b[0;36m45\u001b[0m\u001b[0;34m,\u001b[0m \u001b[0;36m6\u001b[0m\u001b[0;34m,\u001b[0m \u001b[0;36m27\u001b[0m\u001b[0;34m,\u001b[0m \u001b[0;36m0\u001b[0m\u001b[0;34m,\u001b[0m \u001b[0;36m24\u001b[0m\u001b[0;34m]\u001b[0m\u001b[0;34m\u001b[0m\u001b[0;34m\u001b[0m\u001b[0m\n\u001b[1;32m      2\u001b[0m \u001b[0;32mfor\u001b[0m \u001b[0mi\u001b[0m \u001b[0;32min\u001b[0m \u001b[0mlist_integers\u001b[0m\u001b[0;34m:\u001b[0m\u001b[0;34m\u001b[0m\u001b[0;34m\u001b[0m\u001b[0m\n\u001b[0;32m----> 3\u001b[0;31m   \u001b[0mprint\u001b[0m\u001b[0;34m(\u001b[0m\u001b[0;36m1\u001b[0m\u001b[0;34m/\u001b[0m\u001b[0mi\u001b[0m\u001b[0;34m)\u001b[0m\u001b[0;34m\u001b[0m\u001b[0;34m\u001b[0m\u001b[0m\n\u001b[0m",
            "\u001b[0;31mZeroDivisionError\u001b[0m: division by zero"
          ]
        }
      ]
    },
    {
      "cell_type": "markdown",
      "source": [
        "Coor Script number 2"
      ],
      "metadata": {
        "id": "qOP47a12EhI3"
      }
    },
    {
      "cell_type": "code",
      "source": [
        "list_integers = [1, 12, -45, 6, 27, 0, 24]\n",
        "for i in list_integers:\n",
        "  try:\n",
        "    print(1/i)\n",
        "  except ZeroDivisionError:\n",
        "    i == 0\n",
        "    print(\"Attention, vous tentez de diviser par 0.\")"
      ],
      "metadata": {
        "colab": {
          "base_uri": "https://localhost:8080/"
        },
        "id": "BkAGzaUCEffa",
        "outputId": "e8d7d1c3-918c-4af4-e3c9-6091d788b5cd"
      },
      "execution_count": null,
      "outputs": [
        {
          "output_type": "stream",
          "name": "stdout",
          "text": [
            "1.0\n",
            "0.08333333333333333\n",
            "-0.022222222222222223\n",
            "0.16666666666666666\n",
            "0.037037037037037035\n",
            "Attention, vous tentez de diviser par 0.\n",
            "0.041666666666666664\n"
          ]
        }
      ]
    },
    {
      "cell_type": "markdown",
      "metadata": {
        "id": "LeIVc9eqzezV"
      },
      "source": [
        "Script number 2"
      ]
    },
    {
      "cell_type": "code",
      "metadata": {
        "id": "L6DRkiD6zgy_",
        "colab": {
          "base_uri": "https://localhost:8080/",
          "height": 304
        },
        "outputId": "e1f1f251-d250-42b5-adc3-6bc861d20456"
      },
      "source": [
        "list_integers = [1, 12, -45, 6, 27, 24]\n",
        "for i in range(10):\n",
        "  print(1/list_integers[i])"
      ],
      "execution_count": null,
      "outputs": [
        {
          "output_type": "stream",
          "name": "stdout",
          "text": [
            "1.0\n",
            "0.08333333333333333\n",
            "-0.022222222222222223\n",
            "0.16666666666666666\n",
            "0.037037037037037035\n",
            "0.041666666666666664\n"
          ]
        },
        {
          "output_type": "error",
          "ename": "IndexError",
          "evalue": "ignored",
          "traceback": [
            "\u001b[0;31m---------------------------------------------------------------------------\u001b[0m",
            "\u001b[0;31mIndexError\u001b[0m                                Traceback (most recent call last)",
            "\u001b[0;32m<ipython-input-2-a99bfde4bc75>\u001b[0m in \u001b[0;36m<module>\u001b[0;34m\u001b[0m\n\u001b[1;32m      1\u001b[0m \u001b[0mlist_integers\u001b[0m \u001b[0;34m=\u001b[0m \u001b[0;34m[\u001b[0m\u001b[0;36m1\u001b[0m\u001b[0;34m,\u001b[0m \u001b[0;36m12\u001b[0m\u001b[0;34m,\u001b[0m \u001b[0;34m-\u001b[0m\u001b[0;36m45\u001b[0m\u001b[0;34m,\u001b[0m \u001b[0;36m6\u001b[0m\u001b[0;34m,\u001b[0m \u001b[0;36m27\u001b[0m\u001b[0;34m,\u001b[0m \u001b[0;36m24\u001b[0m\u001b[0;34m]\u001b[0m\u001b[0;34m\u001b[0m\u001b[0;34m\u001b[0m\u001b[0m\n\u001b[0;32m----> 2\u001b[0;31m \u001b[0;32mfor\u001b[0m \u001b[0mi\u001b[0m \u001b[0;32min\u001b[0m \u001b[0mrange\u001b[0m\u001b[0;34m(\u001b[0m\u001b[0;36m10\u001b[0m\u001b[0;34m)\u001b[0m\u001b[0;34m:\u001b[0m\u001b[0;34m\u001b[0m\u001b[0;34m\u001b[0m\u001b[0m\n\u001b[0m\u001b[1;32m      3\u001b[0m   \u001b[0mprint\u001b[0m\u001b[0;34m(\u001b[0m\u001b[0;36m1\u001b[0m\u001b[0;34m/\u001b[0m\u001b[0mlist_integers\u001b[0m\u001b[0;34m[\u001b[0m\u001b[0mi\u001b[0m\u001b[0;34m]\u001b[0m\u001b[0;34m)\u001b[0m\u001b[0;34m\u001b[0m\u001b[0;34m\u001b[0m\u001b[0m\n",
            "\u001b[0;31mIndexError\u001b[0m: list index out of range"
          ]
        }
      ]
    },
    {
      "cell_type": "markdown",
      "source": [
        "Coor Script number 2"
      ],
      "metadata": {
        "id": "9r0kJ5znFUVp"
      }
    },
    {
      "cell_type": "code",
      "source": [
        "list_integers = [1, 12, -45, 6, 27, 24]\n",
        "for i in range(10):\n",
        "  try:\n",
        "    print(1/list_integers[i])\n",
        "  except:\n",
        "    i > 5\n",
        "    print(f\"Attention, il n'y a pas de position {i}. dans la liste.\")"
      ],
      "metadata": {
        "colab": {
          "base_uri": "https://localhost:8080/"
        },
        "id": "F-NVbv7DFMrU",
        "outputId": "acb488a3-8222-4575-9113-1e185df97d66"
      },
      "execution_count": null,
      "outputs": [
        {
          "output_type": "stream",
          "name": "stdout",
          "text": [
            "1.0\n",
            "0.08333333333333333\n",
            "-0.022222222222222223\n",
            "0.16666666666666666\n",
            "0.037037037037037035\n",
            "0.041666666666666664\n",
            "Attention, il n'y a pas de position 6. dans la liste.\n",
            "Attention, il n'y a pas de position 7. dans la liste.\n",
            "Attention, il n'y a pas de position 8. dans la liste.\n",
            "Attention, il n'y a pas de position 9. dans la liste.\n"
          ]
        }
      ]
    },
    {
      "cell_type": "markdown",
      "metadata": {
        "id": "afAY9AmOzx9r"
      },
      "source": [
        "Script number 3"
      ]
    },
    {
      "cell_type": "code",
      "metadata": {
        "id": "wV3ALP3yzzcc",
        "colab": {
          "base_uri": "https://localhost:8080/",
          "height": 287
        },
        "outputId": "2fc653e0-83ce-49d7-b336-033c12ea3940"
      },
      "source": [
        "list_integers = [1, 12, -45, 6, 27, 0, 24]\n",
        "for i in range(10):\n",
        "  print(1/list_integers[i])"
      ],
      "execution_count": null,
      "outputs": [
        {
          "output_type": "stream",
          "name": "stdout",
          "text": [
            "1.0\n",
            "0.08333333333333333\n",
            "-0.022222222222222223\n",
            "0.16666666666666666\n",
            "0.037037037037037035\n"
          ]
        },
        {
          "output_type": "error",
          "ename": "ZeroDivisionError",
          "evalue": "ignored",
          "traceback": [
            "\u001b[0;31m---------------------------------------------------------------------------\u001b[0m",
            "\u001b[0;31mZeroDivisionError\u001b[0m                         Traceback (most recent call last)",
            "\u001b[0;32m<ipython-input-6-e6cab0862607>\u001b[0m in \u001b[0;36m<module>\u001b[0;34m\u001b[0m\n\u001b[1;32m      1\u001b[0m \u001b[0mlist_integers\u001b[0m \u001b[0;34m=\u001b[0m \u001b[0;34m[\u001b[0m\u001b[0;36m1\u001b[0m\u001b[0;34m,\u001b[0m \u001b[0;36m12\u001b[0m\u001b[0;34m,\u001b[0m \u001b[0;34m-\u001b[0m\u001b[0;36m45\u001b[0m\u001b[0;34m,\u001b[0m \u001b[0;36m6\u001b[0m\u001b[0;34m,\u001b[0m \u001b[0;36m27\u001b[0m\u001b[0;34m,\u001b[0m \u001b[0;36m0\u001b[0m\u001b[0;34m,\u001b[0m \u001b[0;36m24\u001b[0m\u001b[0;34m]\u001b[0m\u001b[0;34m\u001b[0m\u001b[0;34m\u001b[0m\u001b[0m\n\u001b[0;32m----> 2\u001b[0;31m \u001b[0;32mfor\u001b[0m \u001b[0mi\u001b[0m \u001b[0;32min\u001b[0m \u001b[0mrange\u001b[0m\u001b[0;34m(\u001b[0m\u001b[0;36m10\u001b[0m\u001b[0;34m)\u001b[0m\u001b[0;34m:\u001b[0m\u001b[0;34m\u001b[0m\u001b[0;34m\u001b[0m\u001b[0m\n\u001b[0m\u001b[1;32m      3\u001b[0m   \u001b[0mprint\u001b[0m\u001b[0;34m(\u001b[0m\u001b[0;36m1\u001b[0m\u001b[0;34m/\u001b[0m\u001b[0mlist_integers\u001b[0m\u001b[0;34m[\u001b[0m\u001b[0mi\u001b[0m\u001b[0;34m]\u001b[0m\u001b[0;34m)\u001b[0m\u001b[0;34m\u001b[0m\u001b[0;34m\u001b[0m\u001b[0m\n",
            "\u001b[0;31mZeroDivisionError\u001b[0m: division by zero"
          ]
        }
      ]
    },
    {
      "cell_type": "markdown",
      "source": [
        "Coor Script number 3"
      ],
      "metadata": {
        "id": "I1Fm_2nuG9uG"
      }
    },
    {
      "cell_type": "code",
      "source": [
        "\n",
        "list_integers = [1, 12, -45, 6, 27, 0, 24]\n",
        "for i in range(10):\n",
        "  try:\n",
        "    print(1/list_integers[i])\n",
        "  except ZeroDivisionError:\n",
        "    list_integers[i] = 0\n",
        "    print(\"Attention, vous tentez de diviser par 0.\")\n",
        "  except:\n",
        "    i > 7\n",
        "    print(f\"Attention, il n'y a pas de position {i}. dans la liste. \")"
      ],
      "metadata": {
        "colab": {
          "base_uri": "https://localhost:8080/"
        },
        "id": "6qp9HJU1G_au",
        "outputId": "4afa54aa-9723-44ff-b392-e5011e2ca97e"
      },
      "execution_count": null,
      "outputs": [
        {
          "output_type": "stream",
          "name": "stdout",
          "text": [
            "1.0\n",
            "0.08333333333333333\n",
            "-0.022222222222222223\n",
            "0.16666666666666666\n",
            "0.037037037037037035\n",
            "Attention, vous tentez de diviser par 0.\n",
            "0.041666666666666664\n",
            "Attention, il n'y a pas de position 7. dans la liste. \n",
            "Attention, il n'y a pas de position 8. dans la liste. \n",
            "Attention, il n'y a pas de position 9. dans la liste. \n"
          ]
        }
      ]
    },
    {
      "cell_type": "markdown",
      "metadata": {
        "id": "8eX8Pj7Wz4rn"
      },
      "source": [
        "Script number 4"
      ]
    },
    {
      "cell_type": "code",
      "metadata": {
        "id": "miobIaTyz62H",
        "colab": {
          "base_uri": "https://localhost:8080/",
          "height": 252
        },
        "outputId": "22feebeb-9eff-479b-b779-ece7906fe69d"
      },
      "source": [
        "list_words = ['hello', 'good morning', 'GOOD Evening', 34, 'Bye' ]\n",
        "\n",
        "for word in list_words:\n",
        "  print(word.upper())"
      ],
      "execution_count": null,
      "outputs": [
        {
          "output_type": "stream",
          "name": "stdout",
          "text": [
            "HELLO\n",
            "GOOD MORNING\n",
            "GOOD EVENING\n"
          ]
        },
        {
          "output_type": "error",
          "ename": "AttributeError",
          "evalue": "ignored",
          "traceback": [
            "\u001b[0;31m---------------------------------------------------------------------------\u001b[0m",
            "\u001b[0;31mAttributeError\u001b[0m                            Traceback (most recent call last)",
            "\u001b[0;32m<ipython-input-9-be576052e4ab>\u001b[0m in \u001b[0;36m<module>\u001b[0;34m\u001b[0m\n\u001b[1;32m      2\u001b[0m \u001b[0;34m\u001b[0m\u001b[0m\n\u001b[1;32m      3\u001b[0m \u001b[0;32mfor\u001b[0m \u001b[0mword\u001b[0m \u001b[0;32min\u001b[0m \u001b[0mlist_words\u001b[0m\u001b[0;34m:\u001b[0m\u001b[0;34m\u001b[0m\u001b[0;34m\u001b[0m\u001b[0m\n\u001b[0;32m----> 4\u001b[0;31m   \u001b[0mprint\u001b[0m\u001b[0;34m(\u001b[0m\u001b[0mword\u001b[0m\u001b[0;34m.\u001b[0m\u001b[0mupper\u001b[0m\u001b[0;34m(\u001b[0m\u001b[0;34m)\u001b[0m\u001b[0;34m)\u001b[0m\u001b[0;34m\u001b[0m\u001b[0;34m\u001b[0m\u001b[0m\n\u001b[0m",
            "\u001b[0;31mAttributeError\u001b[0m: 'int' object has no attribute 'upper'"
          ]
        }
      ]
    },
    {
      "cell_type": "markdown",
      "source": [
        "Corr Script number 4"
      ],
      "metadata": {
        "id": "kY-IpsdeIFgU"
      }
    },
    {
      "cell_type": "code",
      "source": [
        "list_words = ['hello', 'good morning', 'GOOD Evening', 34, 'Bye' ]\n",
        "\n",
        "for word in list_words:\n",
        "  try:\n",
        "    print(word.upper())\n",
        "  except:\n",
        "    type(word) == type(34)\n",
        "    print(\"Attention, cet élément est un nombre.\")"
      ],
      "metadata": {
        "colab": {
          "base_uri": "https://localhost:8080/"
        },
        "id": "z-MjQXEfICan",
        "outputId": "cf9bc4be-1b73-4c89-c183-ce1a7f51f578"
      },
      "execution_count": null,
      "outputs": [
        {
          "output_type": "stream",
          "name": "stdout",
          "text": [
            "HELLO\n",
            "GOOD MORNING\n",
            "GOOD EVENING\n",
            "Attention, cet élément est un nombre.\n",
            "BYE\n"
          ]
        }
      ]
    }
  ]
}