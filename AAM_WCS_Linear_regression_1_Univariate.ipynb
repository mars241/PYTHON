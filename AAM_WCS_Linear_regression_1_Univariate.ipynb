{
  "nbformat": 4,
  "nbformat_minor": 0,
  "metadata": {
    "colab": {
      "provenance": [],
      "include_colab_link": true
    },
    "kernelspec": {
      "name": "python3",
      "display_name": "Python 3"
    }
  },
  "cells": [
    {
      "cell_type": "markdown",
      "metadata": {
        "id": "view-in-github",
        "colab_type": "text"
      },
      "source": [
        "<a href=\"https://colab.research.google.com/github/mars241/PYTHON/blob/main/AAM_WCS_Linear_regression_1_Univariate.ipynb\" target=\"_parent\"><img src=\"https://colab.research.google.com/assets/colab-badge.svg\" alt=\"Open In Colab\"/></a>"
      ]
    },
    {
      "cell_type": "markdown",
      "metadata": {
        "id": "7RZbCjBZBNKL"
      },
      "source": [
        "# Execute the code below\n",
        "\n",
        "# Exécuter le code ci-dessous"
      ]
    },
    {
      "cell_type": "code",
      "metadata": {
        "id": "ih5VsCSsAGWK"
      },
      "source": [
        "import matplotlib.pyplot as plt\n",
        "import pandas as pd\n",
        "import numpy as np\n",
        "import seaborn as sns\n",
        "link = \"https://raw.githubusercontent.com/murpi/wilddata/master/quests/weather2019.csv\"\n",
        "df_weather = pd.read_csv(link)\n",
        "df_weather = df_weather.iloc[:,[0,1,2, -4]]"
      ],
      "execution_count": null,
      "outputs": []
    },
    {
      "cell_type": "code",
      "source": [
        "# Affichons le dataset:\n",
        "df_weather"
      ],
      "metadata": {
        "colab": {
          "base_uri": "https://localhost:8080/",
          "height": 423
        },
        "id": "scruRyB0aL5X",
        "outputId": "8b2e534f-d3f3-4d7a-e65c-947407a5c4f1"
      },
      "execution_count": null,
      "outputs": [
        {
          "output_type": "execute_result",
          "data": {
            "text/plain": [
              "           DATE  MAX_TEMPERATURE_C  MIN_TEMPERATURE_C  SUNHOUR\n",
              "0    2019-01-01                  9                  4      5.1\n",
              "1    2019-01-02                  8                  5      8.7\n",
              "2    2019-01-03                  6                  0      8.7\n",
              "3    2019-01-04                  5                 -1      5.1\n",
              "4    2019-01-05                  6                 -1      8.7\n",
              "..          ...                ...                ...      ...\n",
              "360  2019-12-27                 13                 10      8.7\n",
              "361  2019-12-28                 11                  5      6.9\n",
              "362  2019-12-29                  9                  2      8.7\n",
              "363  2019-12-30                 12                  4      8.7\n",
              "364  2019-12-31                 10                  4      8.7\n",
              "\n",
              "[365 rows x 4 columns]"
            ],
            "text/html": [
              "\n",
              "  <div id=\"df-c7deb19a-5688-419d-b9ec-ff47de17238b\">\n",
              "    <div class=\"colab-df-container\">\n",
              "      <div>\n",
              "<style scoped>\n",
              "    .dataframe tbody tr th:only-of-type {\n",
              "        vertical-align: middle;\n",
              "    }\n",
              "\n",
              "    .dataframe tbody tr th {\n",
              "        vertical-align: top;\n",
              "    }\n",
              "\n",
              "    .dataframe thead th {\n",
              "        text-align: right;\n",
              "    }\n",
              "</style>\n",
              "<table border=\"1\" class=\"dataframe\">\n",
              "  <thead>\n",
              "    <tr style=\"text-align: right;\">\n",
              "      <th></th>\n",
              "      <th>DATE</th>\n",
              "      <th>MAX_TEMPERATURE_C</th>\n",
              "      <th>MIN_TEMPERATURE_C</th>\n",
              "      <th>SUNHOUR</th>\n",
              "    </tr>\n",
              "  </thead>\n",
              "  <tbody>\n",
              "    <tr>\n",
              "      <th>0</th>\n",
              "      <td>2019-01-01</td>\n",
              "      <td>9</td>\n",
              "      <td>4</td>\n",
              "      <td>5.1</td>\n",
              "    </tr>\n",
              "    <tr>\n",
              "      <th>1</th>\n",
              "      <td>2019-01-02</td>\n",
              "      <td>8</td>\n",
              "      <td>5</td>\n",
              "      <td>8.7</td>\n",
              "    </tr>\n",
              "    <tr>\n",
              "      <th>2</th>\n",
              "      <td>2019-01-03</td>\n",
              "      <td>6</td>\n",
              "      <td>0</td>\n",
              "      <td>8.7</td>\n",
              "    </tr>\n",
              "    <tr>\n",
              "      <th>3</th>\n",
              "      <td>2019-01-04</td>\n",
              "      <td>5</td>\n",
              "      <td>-1</td>\n",
              "      <td>5.1</td>\n",
              "    </tr>\n",
              "    <tr>\n",
              "      <th>4</th>\n",
              "      <td>2019-01-05</td>\n",
              "      <td>6</td>\n",
              "      <td>-1</td>\n",
              "      <td>8.7</td>\n",
              "    </tr>\n",
              "    <tr>\n",
              "      <th>...</th>\n",
              "      <td>...</td>\n",
              "      <td>...</td>\n",
              "      <td>...</td>\n",
              "      <td>...</td>\n",
              "    </tr>\n",
              "    <tr>\n",
              "      <th>360</th>\n",
              "      <td>2019-12-27</td>\n",
              "      <td>13</td>\n",
              "      <td>10</td>\n",
              "      <td>8.7</td>\n",
              "    </tr>\n",
              "    <tr>\n",
              "      <th>361</th>\n",
              "      <td>2019-12-28</td>\n",
              "      <td>11</td>\n",
              "      <td>5</td>\n",
              "      <td>6.9</td>\n",
              "    </tr>\n",
              "    <tr>\n",
              "      <th>362</th>\n",
              "      <td>2019-12-29</td>\n",
              "      <td>9</td>\n",
              "      <td>2</td>\n",
              "      <td>8.7</td>\n",
              "    </tr>\n",
              "    <tr>\n",
              "      <th>363</th>\n",
              "      <td>2019-12-30</td>\n",
              "      <td>12</td>\n",
              "      <td>4</td>\n",
              "      <td>8.7</td>\n",
              "    </tr>\n",
              "    <tr>\n",
              "      <th>364</th>\n",
              "      <td>2019-12-31</td>\n",
              "      <td>10</td>\n",
              "      <td>4</td>\n",
              "      <td>8.7</td>\n",
              "    </tr>\n",
              "  </tbody>\n",
              "</table>\n",
              "<p>365 rows × 4 columns</p>\n",
              "</div>\n",
              "      <button class=\"colab-df-convert\" onclick=\"convertToInteractive('df-c7deb19a-5688-419d-b9ec-ff47de17238b')\"\n",
              "              title=\"Convert this dataframe to an interactive table.\"\n",
              "              style=\"display:none;\">\n",
              "        \n",
              "  <svg xmlns=\"http://www.w3.org/2000/svg\" height=\"24px\"viewBox=\"0 0 24 24\"\n",
              "       width=\"24px\">\n",
              "    <path d=\"M0 0h24v24H0V0z\" fill=\"none\"/>\n",
              "    <path d=\"M18.56 5.44l.94 2.06.94-2.06 2.06-.94-2.06-.94-.94-2.06-.94 2.06-2.06.94zm-11 1L8.5 8.5l.94-2.06 2.06-.94-2.06-.94L8.5 2.5l-.94 2.06-2.06.94zm10 10l.94 2.06.94-2.06 2.06-.94-2.06-.94-.94-2.06-.94 2.06-2.06.94z\"/><path d=\"M17.41 7.96l-1.37-1.37c-.4-.4-.92-.59-1.43-.59-.52 0-1.04.2-1.43.59L10.3 9.45l-7.72 7.72c-.78.78-.78 2.05 0 2.83L4 21.41c.39.39.9.59 1.41.59.51 0 1.02-.2 1.41-.59l7.78-7.78 2.81-2.81c.8-.78.8-2.07 0-2.86zM5.41 20L4 18.59l7.72-7.72 1.47 1.35L5.41 20z\"/>\n",
              "  </svg>\n",
              "      </button>\n",
              "      \n",
              "  <style>\n",
              "    .colab-df-container {\n",
              "      display:flex;\n",
              "      flex-wrap:wrap;\n",
              "      gap: 12px;\n",
              "    }\n",
              "\n",
              "    .colab-df-convert {\n",
              "      background-color: #E8F0FE;\n",
              "      border: none;\n",
              "      border-radius: 50%;\n",
              "      cursor: pointer;\n",
              "      display: none;\n",
              "      fill: #1967D2;\n",
              "      height: 32px;\n",
              "      padding: 0 0 0 0;\n",
              "      width: 32px;\n",
              "    }\n",
              "\n",
              "    .colab-df-convert:hover {\n",
              "      background-color: #E2EBFA;\n",
              "      box-shadow: 0px 1px 2px rgba(60, 64, 67, 0.3), 0px 1px 3px 1px rgba(60, 64, 67, 0.15);\n",
              "      fill: #174EA6;\n",
              "    }\n",
              "\n",
              "    [theme=dark] .colab-df-convert {\n",
              "      background-color: #3B4455;\n",
              "      fill: #D2E3FC;\n",
              "    }\n",
              "\n",
              "    [theme=dark] .colab-df-convert:hover {\n",
              "      background-color: #434B5C;\n",
              "      box-shadow: 0px 1px 3px 1px rgba(0, 0, 0, 0.15);\n",
              "      filter: drop-shadow(0px 1px 2px rgba(0, 0, 0, 0.3));\n",
              "      fill: #FFFFFF;\n",
              "    }\n",
              "  </style>\n",
              "\n",
              "      <script>\n",
              "        const buttonEl =\n",
              "          document.querySelector('#df-c7deb19a-5688-419d-b9ec-ff47de17238b button.colab-df-convert');\n",
              "        buttonEl.style.display =\n",
              "          google.colab.kernel.accessAllowed ? 'block' : 'none';\n",
              "\n",
              "        async function convertToInteractive(key) {\n",
              "          const element = document.querySelector('#df-c7deb19a-5688-419d-b9ec-ff47de17238b');\n",
              "          const dataTable =\n",
              "            await google.colab.kernel.invokeFunction('convertToInteractive',\n",
              "                                                     [key], {});\n",
              "          if (!dataTable) return;\n",
              "\n",
              "          const docLinkHtml = 'Like what you see? Visit the ' +\n",
              "            '<a target=\"_blank\" href=https://colab.research.google.com/notebooks/data_table.ipynb>data table notebook</a>'\n",
              "            + ' to learn more about interactive tables.';\n",
              "          element.innerHTML = '';\n",
              "          dataTable['output_type'] = 'display_data';\n",
              "          await google.colab.output.renderOutput(dataTable, element);\n",
              "          const docLink = document.createElement('div');\n",
              "          docLink.innerHTML = docLinkHtml;\n",
              "          element.appendChild(docLink);\n",
              "        }\n",
              "      </script>\n",
              "    </div>\n",
              "  </div>\n",
              "  "
            ]
          },
          "metadata": {},
          "execution_count": 3
        }
      ]
    },
    {
      "cell_type": "code",
      "source": [
        "# liste des colonnes:\n",
        "df_weather.columns"
      ],
      "metadata": {
        "colab": {
          "base_uri": "https://localhost:8080/"
        },
        "id": "s1I39t5baT8Z",
        "outputId": "08d3c264-e863-4c41-84eb-8d1b48e1b390"
      },
      "execution_count": null,
      "outputs": [
        {
          "output_type": "execute_result",
          "data": {
            "text/plain": [
              "Index(['DATE', 'MAX_TEMPERATURE_C', 'MIN_TEMPERATURE_C', 'SUNHOUR'], dtype='object')"
            ]
          },
          "metadata": {},
          "execution_count": 4
        }
      ]
    },
    {
      "cell_type": "markdown",
      "metadata": {
        "id": "HDfmi_gNBRd3"
      },
      "source": [
        "# Univariate linear regression with Scikit-Learn\n",
        "\n",
        "# Régression linéaire univariée avec Scikit-Learn"
      ]
    },
    {
      "cell_type": "markdown",
      "metadata": {
        "id": "QhC4gFT2BVh1"
      },
      "source": [
        "Scikit-Learn is the greatest Machine Learning library for Python. Do you remember that you can do Linear regression with NumPy ? You can do the same with Scikit-Learn. And many other things!\n",
        "Let's start with univariate Linear regression, to learn the syntax.\n",
        "\n",
        "Scikit-Learn est la meilleure bibliothèque d'apprentissage automatique pour Python. Vous souvenez-vous que vous pouvez faire de la régression linéaire avec NumPy ? Vous pouvez faire la même chose avec Scikit-Learn. Et bien d'autres choses encore ! Commençons par la régression linéaire univariée, pour apprendre la syntaxe."
      ]
    },
    {
      "cell_type": "markdown",
      "metadata": {
        "id": "sqL95QpaCTtI"
      },
      "source": [
        "## Print a regplot with seaborn to show a linear regression between Sunhours (on the X-axis) and MAX temperature (on the Y-axis).\n",
        "\n",
        "## Imprimer un regplot avec seaborn pour montrer une régression linéaire entre les heures de soleil (sur l'axe des X) et la température MAX (sur l'axe des Y)."
      ]
    },
    {
      "cell_type": "code",
      "metadata": {
        "id": "rGg7wuwaBUGl",
        "colab": {
          "base_uri": "https://localhost:8080/"
        },
        "outputId": "267827b7-a54f-4e11-aaf8-1f5dac44be0d"
      },
      "source": [
        "# Your code here :\n",
        "# Votre code ici :\n",
        "\n",
        "from sklearn.linear_model import LinearRegression\n",
        "# X-axe : la variable explicative est la colonne corrélée, ici il s'agit de Sunhours.\n",
        "X = df_weather[['SUNHOUR']]\n",
        "# Axe des Y : la variable à expliquer ( expliquée ) est la colonne à prédire, donc MAX Température ici\n",
        "y = df_weather['MAX_TEMPERATURE_C']\n",
        "\n",
        "# Nous formons un \"modèle\" avec la fonction \"fit\". Ce modèle stockera les coefficients après l'entraînement.\n",
        "model = LinearRegression().fit(X, y)\n",
        "\n",
        "# Nous pouvons imprimer les coefficients : \"model.intercept_\" & \"model.coef_\"\n",
        "print(\"coefficient :\",model.coef_)\n",
        "print(\"intercept :\", model.intercept_)\n",
        "\n",
        "# Ou utiliser la fonction \"predict\" pour prédire une nouvelle valeur à partir de la colonne variable :\n",
        "print(model.predict([[10]]))\n",
        "\n",
        "# RESULTAT: On a  dans équation répresentavive de Linéarité: y = ax + b ; avec  a=\"coefficient\" = \"model.coef_\" et b = \"intercept :\" = \"model.intercept_\"\n",
        "# coefficient : [1.28422116] ;intercept : 4.8472953557195435 [17.68950691]"
      ],
      "execution_count": null,
      "outputs": [
        {
          "output_type": "stream",
          "name": "stdout",
          "text": [
            "coefficient : [1.28422116]\n",
            "intercept : 4.8472953557195435\n",
            "[17.68950691]\n"
          ]
        },
        {
          "output_type": "stream",
          "name": "stderr",
          "text": [
            "/usr/local/lib/python3.8/dist-packages/sklearn/base.py:450: UserWarning: X does not have valid feature names, but LinearRegression was fitted with feature names\n",
            "  warnings.warn(\n"
          ]
        }
      ]
    },
    {
      "cell_type": "code",
      "source": [
        "# Réponse à la question: \n",
        "#Imprimer un regplot avec seaborn pour montrer une régression linéaire entre les heures de soleil (sur l'axe des X) et la température MAX (sur l'axe des Y).\n",
        "\n",
        "#Tracer le regplot et ensuite le lmplot avec les mêmes données dans cet exemple\n",
        "sns.regplot(x = \"SUNHOUR\", y = \"MAX_TEMPERATURE_C\", data = df_weather)\n"
      ],
      "metadata": {
        "colab": {
          "base_uri": "https://localhost:8080/",
          "height": 296
        },
        "id": "yZJRfK5xZDz0",
        "outputId": "5b9a2181-61d2-4cb1-9cbd-8c9ce05ea2dd"
      },
      "execution_count": null,
      "outputs": [
        {
          "output_type": "execute_result",
          "data": {
            "text/plain": [
              "<matplotlib.axes._subplots.AxesSubplot at 0x7f019b4e2ca0>"
            ]
          },
          "metadata": {},
          "execution_count": 6
        },
        {
          "output_type": "display_data",
          "data": {
            "text/plain": [
              "<Figure size 432x288 with 1 Axes>"
            ],
            "image/png": "[encoded data removed]"
          },
          "metadata": {
            "needs_background": "light"
          }
        }
      ]
    },
    {
      "cell_type": "markdown",
      "metadata": {
        "id": "7Qnmc8HJEgSh"
      },
      "source": [
        "## Train the model\n",
        "You just have to read and execute the code below\n",
        "\n",
        "## Entraîner le modèle\n",
        "Il vous suffit de lire et d'exécuter le code ci-dessous"
      ]
    },
    {
      "cell_type": "code",
      "metadata": {
        "id": "txQAv7N7C-rv"
      },
      "source": [
        "# Scikit-Learn can find the coefficients of the linear regression\n",
        "# Scikit-Learn peut trouver les coefficients de la régression linéaire.\n",
        "from sklearn.linear_model import LinearRegression\n",
        "\n",
        "# First of all, you have to define 2 series :\n",
        "# Tout d'abord, vous devez définir 2 séries :\n",
        "\n",
        "# X-axis : the correlated column, here it is Sunhours\n",
        "# X-axis : la colonne corrélée, ici il s'agit de Sunhours.\n",
        "X = df_weather[['SUNHOUR']] \n",
        "\n",
        "# Y-axis : the column to predict, so MAX Temperature here\n",
        "# Y-axis : est la colonne à prédire, donc MAX Température ici\n",
        "y = df_weather['MAX_TEMPERATURE_C'] \n",
        "\n",
        "# Hey, why is \"X\" in uppercase and \"y\" in lowercase ? That's a good point, we'll see that in the next quest. Now, you just have to use this.\n",
        "# /!\\ Hey, pourquoi \"X\" est en majuscule et \"y\" en minuscule ? C'est un bon point, nous verrons cela dans la prochaine quête. Maintenant, tu dois juste utiliser ça.\n",
        "\n",
        "# To train a machine learning model (here, it will find the equation of the linear regression), you just have launch the \".fit\" method.\n",
        "# Pour entraîner un modèle d'apprentissage automatique (ici, il trouvera l'équation de la régression linéaire), il suffit de lancer la méthode \".fit\".\n",
        "modelLR = LinearRegression().fit(X, y)"
      ],
      "execution_count": null,
      "outputs": []
    },
    {
      "cell_type": "markdown",
      "metadata": {
        "id": "yGHuorx4EiWD"
      },
      "source": [
        "## Explore the model\n",
        "\n",
        "## Explorer le modèle"
      ]
    },
    {
      "cell_type": "code",
      "metadata": {
        "id": "dIWLEntIDjp4",
        "colab": {
          "base_uri": "https://localhost:8080/"
        },
        "outputId": "005c2342-de33-4e9a-dcd4-781cd0c13c49"
      },
      "source": [
        "# Your model is trained, it has now some attributes.\n",
        "# Coefficient, it's the \"a\" in your equation \"aX + b\"\n",
        "\n",
        "# Votre modèle est formé, il a maintenant quelques attributs.\n",
        "# Coefficient, c'est le \"a\" de votre équation \"aX + b\".\n",
        "print(\"coefficient :\",modelLR.coef_)\n",
        "\n",
        "\n",
        "# Interception, it's the \"b\" in your equation \"aX + b\"\n",
        "\n",
        "# Interception, c'est le \"b\" de l'équation \"aX + b\".\n",
        "print(\"intercept :\", modelLR.intercept_)"
      ],
      "execution_count": null,
      "outputs": [
        {
          "output_type": "stream",
          "name": "stdout",
          "text": [
            "coefficient : [1.28422116]\n",
            "intercept : 4.8472953557195435\n"
          ]
        }
      ]
    },
    {
      "cell_type": "markdown",
      "metadata": {
        "id": "EY3uNopEGtOQ"
      },
      "source": [
        "## Prediction for 1 value\n",
        "\n",
        "## Prédiction pour 1 valeur"
      ]
    },
    {
      "cell_type": "code",
      "metadata": {
        "id": "gzNPxyTNFKAb",
        "colab": {
          "base_uri": "https://localhost:8080/"
        },
        "outputId": "de6c3203-2386-475e-94a7-31ca10fa55a2"
      },
      "source": [
        "# You can \"predict\" the Max Temperature from the Sunhours\n",
        "# For example, let's try if Sunhours is 10 :\n",
        "\n",
        "# Hand calculation :\n",
        "\n",
        "# Vous pouvez \"prédire\" la température maximale à partir des heures d'ensoleillement.\n",
        "# Par exemple, essayons si Sunhours est 10 :\n",
        "\n",
        "# Calcul manuel :\n",
        "print(\"By hand :\", modelLR.coef_ * 10 + modelLR.intercept_ )\n",
        "\n",
        "\n",
        "# With a Scikit-Learn function :\n",
        "\n",
        "# Avec une fonction Scikit-Learn :\n",
        "print(\"Scikit-Learn :  \", modelLR.predict([[10]])  )\n"
      ],
      "execution_count": null,
      "outputs": [
        {
          "output_type": "stream",
          "name": "stdout",
          "text": [
            "By hand : [17.68950691]\n",
            "Scikit-Learn :   [17.68950691]\n"
          ]
        },
        {
          "output_type": "stream",
          "name": "stderr",
          "text": [
            "/usr/local/lib/python3.8/dist-packages/sklearn/base.py:450: UserWarning: X does not have valid feature names, but LinearRegression was fitted with feature names\n",
            "  warnings.warn(\n"
          ]
        }
      ]
    },
    {
      "cell_type": "markdown",
      "metadata": {
        "id": "bXvhV9DPH9iH"
      },
      "source": [
        "## Predictions for multiple values (a Serie)\n",
        "Let's predict MAX temperature for the Sunhour column of your DataFrame.\n",
        "\n",
        "Note : You'll have to precise your column with double \"[\", like that  : df[['your_column]] \n",
        "\n",
        "*Why ? We'll see that in the next quest.*\n",
        "\n",
        "\n",
        "## Prédictions pour plusieurs valeurs (une série)\n",
        "Nous allons prédire la température MAX pour la colonne Sunhour de votre DataFrame.\n",
        "\n",
        "Note : Vous devrez préciser votre colonne avec des doubles \"[\", comme ça : df[['votre_colonne]]. \n",
        "\n",
        "*Pourquoi ? Nous verrons cela dans la prochaine quête.*"
      ]
    },
    {
      "cell_type": "code",
      "metadata": {
        "id": "4J79U7rcHwpz",
        "colab": {
          "base_uri": "https://localhost:8080/"
        },
        "outputId": "73184da8-1dca-48ac-b461-a9d541150a77"
      },
      "source": [
        "# Find a way to store the result of the prediction in a new column 'predict\" of the dataframe\n",
        "# Trouvez un moyen de stocker le résultat de la prédiction dans une nouvelle colonne \"predict\" du cadre de données.\n",
        "# faire la prédiction:\n",
        "modelLR.predict(df_weather[['SUNHOUR']])"
      ],
      "execution_count": null,
      "outputs": [
        {
          "output_type": "execute_result",
          "data": {
            "text/plain": [
              "array([11.39682325, 16.02001941, 16.02001941, 11.39682325, 16.02001941,\n",
              "        9.08522517, 11.39682325,  9.08522517,  9.08522517, 16.02001941,\n",
              "       11.39682325, 13.70842133,  9.08522517,  9.08522517, 16.02001941,\n",
              "        9.21364728, 16.02001941, 16.02001941,  9.21364728, 11.52524536,\n",
              "       16.02001941,  9.21364728, 11.52524536, 11.52524536,  9.21364728,\n",
              "        9.3420694 , 15.37790883, 13.19473287, 11.0115569 , 13.19473287,\n",
              "       11.13997902, 11.13997902, 17.43266268, 17.43266268, 11.13997902,\n",
              "       11.13997902, 11.26840113, 13.32315498, 11.26840113, 13.32315498,\n",
              "       15.50633095, 15.50633095, 17.81792903, 17.81792903, 17.94635114,\n",
              "       17.94635114, 15.63475306, 17.94635114, 13.57999921, 11.52524536,\n",
              "       17.68950691, 18.20319537, 18.20319537, 18.71688384, 15.76317518,\n",
              "       18.84530595, 18.84530595, 18.97372807, 11.91051171, 17.81792903,\n",
              "       17.81792903, 12.03893383, 15.89159729, 17.81792903, 12.03893383,\n",
              "       16.02001941, 17.94635114, 12.42420017, 14.22210979, 17.94635114,\n",
              "       14.22210979, 19.74426076, 12.42420017, 12.55262229, 12.55262229,\n",
              "       19.74426076, 16.14844152, 14.35053191, 14.35053191, 19.74426076,\n",
              "       19.74426076, 19.74426076, 17.94635114, 16.27686364, 19.74426076,\n",
              "       19.74426076, 18.07477326, 16.40528576, 18.07477326, 18.07477326,\n",
              "       16.40528576, 13.19473287, 14.86422037, 14.86422037, 13.19473287,\n",
              "       13.19473287, 14.86422037, 16.53370787, 18.07477326, 14.99264248,\n",
              "       19.74426076, 19.74426076, 19.74426076, 14.99264248, 16.53370787,\n",
              "       19.74426076, 18.20319537, 19.74426076, 19.74426076, 16.7905521 ,\n",
              "       16.7905521 , 16.7905521 , 15.37790883, 13.83684344, 16.7905521 ,\n",
              "       22.05585884, 17.94635114, 16.53370787, 17.94635114, 23.46850211,\n",
              "       20.77163768, 20.77163768, 19.35899441, 19.35899441, 22.05585884,\n",
              "       19.48741653, 18.07477326, 19.48741653, 16.7905521 , 16.7905521 ,\n",
              "       19.48741653, 23.46850211, 23.46850211, 23.46850211, 23.46850211,\n",
              "       18.20319537, 19.61583864, 17.04739633, 18.33161749, 17.04739633,\n",
              "       20.9000598 , 19.61583864, 22.18428096, 22.18428096, 19.61583864,\n",
              "       17.17581845, 20.9000598 , 19.61583864, 18.4600396 , 19.74426076,\n",
              "       23.46850211, 23.46850211, 22.18428096, 21.02848192, 17.30424056,\n",
              "       17.30424056, 19.74426076, 17.30424056, 22.44112519, 22.5695473 ,\n",
              "       23.72534634, 22.5695473 , 21.41374826, 23.72534634, 25.26641173,\n",
              "       22.5695473 , 23.72534634, 25.39483384, 25.39483384, 21.41374826,\n",
              "       25.39483384, 23.72534634, 25.39483384, 25.39483384, 21.41374826,\n",
              "       25.39483384, 25.39483384, 25.26641173, 25.26641173, 25.26641173,\n",
              "       24.88114538, 25.26641173, 25.26641173, 25.26641173, 25.26641173,\n",
              "       25.26641173, 23.59692423, 25.26641173, 25.13798961, 25.13798961,\n",
              "       25.13798961, 25.13798961, 22.44112519, 25.13798961, 23.46850211,\n",
              "       23.46850211, 22.18428096, 23.46850211, 18.33161749, 22.18428096,\n",
              "       19.61583864, 23.46850211, 23.46850211, 23.46850211, 23.46850211,\n",
              "       22.18428096, 16.91897422, 18.20319537, 23.46850211, 22.18428096,\n",
              "       18.20319537, 22.18428096, 23.46850211, 23.46850211, 23.46850211,\n",
              "       23.46850211, 19.48741653, 16.7905521 , 20.77163768, 23.46850211,\n",
              "       19.35899441, 19.35899441, 20.77163768, 16.66212999, 22.05585884,\n",
              "       13.96526556, 16.7905521 , 19.74426076, 13.96526556, 16.7905521 ,\n",
              "       18.33161749, 19.74426076, 16.7905521 , 19.74426076, 19.74426076,\n",
              "       18.20319537, 19.74426076, 18.20319537, 18.20319537, 16.53370787,\n",
              "       16.53370787, 18.20319537, 19.74426076, 19.74426076, 19.74426076,\n",
              "       19.74426076, 14.86422037, 16.53370787, 19.74426076, 18.07477326,\n",
              "       19.74426076, 14.86422037, 19.74426076, 19.74426076, 18.07477326,\n",
              "       19.74426076, 19.74426076, 19.74426076, 19.74426076, 19.74426076,\n",
              "       19.74426076, 19.74426076, 19.74426076, 18.07477326, 14.60737614,\n",
              "       12.80946652, 14.60737614, 12.55262229, 12.55262229, 16.14844152,\n",
              "       12.29577806, 14.09368768, 12.16735594, 12.16735594, 12.16735594,\n",
              "       19.48741653, 13.96526556, 12.03893383, 19.35899441, 12.03893383,\n",
              "       13.96526556, 13.96526556, 15.89159729, 17.81792903, 19.10215018,\n",
              "       15.89159729, 13.83684344, 15.76317518, 11.91051171, 13.83684344,\n",
              "       15.76317518, 11.7820896 , 11.7820896 , 17.68950691, 18.58846172,\n",
              "       11.65366748, 11.65366748, 13.70842133, 18.4600396 ,  9.72733575,\n",
              "        9.72733575,  9.72733575, 11.7820896 ,  9.72733575,  9.72733575,\n",
              "        9.59891363,  9.59891363, 11.7820896 ,  9.59891363, 13.83684344,\n",
              "        9.59891363, 13.83684344,  9.3420694 , 11.52524536, 11.52524536,\n",
              "       11.52524536, 11.52524536, 13.83684344, 13.83684344,  9.3420694 ,\n",
              "       16.02001941, 16.02001941, 13.70842133, 11.52524536,  9.21364728,\n",
              "        9.21364728, 13.70842133, 11.52524536,  9.21364728,  9.21364728,\n",
              "        9.21364728,  9.08522517, 13.70842133,  9.08522517,  9.08522517,\n",
              "       16.02001941, 16.02001941, 13.70842133, 16.02001941,  9.08522517,\n",
              "        9.08522517,  9.08522517, 11.39682325,  9.08522517, 16.02001941,\n",
              "        9.08522517,  9.08522517,  9.08522517, 13.70842133,  9.08522517,\n",
              "        9.08522517, 11.39682325,  9.08522517, 11.39682325, 13.70842133,\n",
              "       11.39682325, 13.70842133, 16.02001941, 16.02001941, 11.39682325,\n",
              "       16.02001941, 13.70842133, 16.02001941, 16.02001941, 16.02001941])"
            ]
          },
          "metadata": {},
          "execution_count": 10
        }
      ]
    },
    {
      "cell_type": "code",
      "source": [
        "# Réponse à la question: Trouvez un moyen de stocker le résultat de la prédiction dans une nouvelle colonne \"predict\" du cadre de données.\n",
        "# Inserer la colonne est l'ajoutant à la df avec la synthaxe suivante: df['Nom _de_colonne_à_donner'] = modelLR.predict(df[['Nom_de_colonne_corrélée(explicative)']])\n",
        "df_weather['VAL-S_PEDICT_SUNHOUR'] =modelLR.predict(df_weather[['SUNHOUR']])"
      ],
      "metadata": {
        "id": "94u5jKHvtsVV"
      },
      "execution_count": null,
      "outputs": []
    },
    {
      "cell_type": "code",
      "source": [
        "# Affiché la DF \"df_weather\" modifié:\n",
        "df_weather.head(10)\n",
        "\n",
        "# la colonne \"VAL-S_PEDICT_SUNHOUR\"  a été ajouté dans !"
      ],
      "metadata": {
        "colab": {
          "base_uri": "https://localhost:8080/",
          "height": 363
        },
        "id": "_-h7AtV19moK",
        "outputId": "3b3a47b4-cf99-426a-b704-c8efb343a51a"
      },
      "execution_count": null,
      "outputs": [
        {
          "output_type": "execute_result",
          "data": {
            "text/plain": [
              "         DATE  MAX_TEMPERATURE_C  MIN_TEMPERATURE_C  SUNHOUR  \\\n",
              "0  2019-01-01                  9                  4      5.1   \n",
              "1  2019-01-02                  8                  5      8.7   \n",
              "2  2019-01-03                  6                  0      8.7   \n",
              "3  2019-01-04                  5                 -1      5.1   \n",
              "4  2019-01-05                  6                 -1      8.7   \n",
              "5  2019-01-06                  5                  2      3.3   \n",
              "6  2019-01-07                 10                  4      5.1   \n",
              "7  2019-01-08                 10                  6      3.3   \n",
              "8  2019-01-09                  7                  5      3.3   \n",
              "9  2019-01-10                  7                  1      8.7   \n",
              "\n",
              "   VAL-S_PEDICT_SUNHOUR  \n",
              "0             11.396823  \n",
              "1             16.020019  \n",
              "2             16.020019  \n",
              "3             11.396823  \n",
              "4             16.020019  \n",
              "5              9.085225  \n",
              "6             11.396823  \n",
              "7              9.085225  \n",
              "8              9.085225  \n",
              "9             16.020019  "
            ],
            "text/html": [
              "\n",
              "  <div id=\"df-a12edb16-21ab-4359-b6c7-29df2b17a2ca\">\n",
              "    <div class=\"colab-df-container\">\n",
              "      <div>\n",
              "<style scoped>\n",
              "    .dataframe tbody tr th:only-of-type {\n",
              "        vertical-align: middle;\n",
              "    }\n",
              "\n",
              "    .dataframe tbody tr th {\n",
              "        vertical-align: top;\n",
              "    }\n",
              "\n",
              "    .dataframe thead th {\n",
              "        text-align: right;\n",
              "    }\n",
              "</style>\n",
              "<table border=\"1\" class=\"dataframe\">\n",
              "  <thead>\n",
              "    <tr style=\"text-align: right;\">\n",
              "      <th></th>\n",
              "      <th>DATE</th>\n",
              "      <th>MAX_TEMPERATURE_C</th>\n",
              "      <th>MIN_TEMPERATURE_C</th>\n",
              "      <th>SUNHOUR</th>\n",
              "      <th>VAL-S_PEDICT_SUNHOUR</th>\n",
              "    </tr>\n",
              "  </thead>\n",
              "  <tbody>\n",
              "    <tr>\n",
              "      <th>0</th>\n",
              "      <td>2019-01-01</td>\n",
              "      <td>9</td>\n",
              "      <td>4</td>\n",
              "      <td>5.1</td>\n",
              "      <td>11.396823</td>\n",
              "    </tr>\n",
              "    <tr>\n",
              "      <th>1</th>\n",
              "      <td>2019-01-02</td>\n",
              "      <td>8</td>\n",
              "      <td>5</td>\n",
              "      <td>8.7</td>\n",
              "      <td>16.020019</td>\n",
              "    </tr>\n",
              "    <tr>\n",
              "      <th>2</th>\n",
              "      <td>2019-01-03</td>\n",
              "      <td>6</td>\n",
              "      <td>0</td>\n",
              "      <td>8.7</td>\n",
              "      <td>16.020019</td>\n",
              "    </tr>\n",
              "    <tr>\n",
              "      <th>3</th>\n",
              "      <td>2019-01-04</td>\n",
              "      <td>5</td>\n",
              "      <td>-1</td>\n",
              "      <td>5.1</td>\n",
              "      <td>11.396823</td>\n",
              "    </tr>\n",
              "    <tr>\n",
              "      <th>4</th>\n",
              "      <td>2019-01-05</td>\n",
              "      <td>6</td>\n",
              "      <td>-1</td>\n",
              "      <td>8.7</td>\n",
              "      <td>16.020019</td>\n",
              "    </tr>\n",
              "    <tr>\n",
              "      <th>5</th>\n",
              "      <td>2019-01-06</td>\n",
              "      <td>5</td>\n",
              "      <td>2</td>\n",
              "      <td>3.3</td>\n",
              "      <td>9.085225</td>\n",
              "    </tr>\n",
              "    <tr>\n",
              "      <th>6</th>\n",
              "      <td>2019-01-07</td>\n",
              "      <td>10</td>\n",
              "      <td>4</td>\n",
              "      <td>5.1</td>\n",
              "      <td>11.396823</td>\n",
              "    </tr>\n",
              "    <tr>\n",
              "      <th>7</th>\n",
              "      <td>2019-01-08</td>\n",
              "      <td>10</td>\n",
              "      <td>6</td>\n",
              "      <td>3.3</td>\n",
              "      <td>9.085225</td>\n",
              "    </tr>\n",
              "    <tr>\n",
              "      <th>8</th>\n",
              "      <td>2019-01-09</td>\n",
              "      <td>7</td>\n",
              "      <td>5</td>\n",
              "      <td>3.3</td>\n",
              "      <td>9.085225</td>\n",
              "    </tr>\n",
              "    <tr>\n",
              "      <th>9</th>\n",
              "      <td>2019-01-10</td>\n",
              "      <td>7</td>\n",
              "      <td>1</td>\n",
              "      <td>8.7</td>\n",
              "      <td>16.020019</td>\n",
              "    </tr>\n",
              "  </tbody>\n",
              "</table>\n",
              "</div>\n",
              "      <button class=\"colab-df-convert\" onclick=\"convertToInteractive('df-a12edb16-21ab-4359-b6c7-29df2b17a2ca')\"\n",
              "              title=\"Convert this dataframe to an interactive table.\"\n",
              "              style=\"display:none;\">\n",
              "        \n",
              "  <svg xmlns=\"http://www.w3.org/2000/svg\" height=\"24px\"viewBox=\"0 0 24 24\"\n",
              "       width=\"24px\">\n",
              "    <path d=\"M0 0h24v24H0V0z\" fill=\"none\"/>\n",
              "    <path d=\"M18.56 5.44l.94 2.06.94-2.06 2.06-.94-2.06-.94-.94-2.06-.94 2.06-2.06.94zm-11 1L8.5 8.5l.94-2.06 2.06-.94-2.06-.94L8.5 2.5l-.94 2.06-2.06.94zm10 10l.94 2.06.94-2.06 2.06-.94-2.06-.94-.94-2.06-.94 2.06-2.06.94z\"/><path d=\"M17.41 7.96l-1.37-1.37c-.4-.4-.92-.59-1.43-.59-.52 0-1.04.2-1.43.59L10.3 9.45l-7.72 7.72c-.78.78-.78 2.05 0 2.83L4 21.41c.39.39.9.59 1.41.59.51 0 1.02-.2 1.41-.59l7.78-7.78 2.81-2.81c.8-.78.8-2.07 0-2.86zM5.41 20L4 18.59l7.72-7.72 1.47 1.35L5.41 20z\"/>\n",
              "  </svg>\n",
              "      </button>\n",
              "      \n",
              "  <style>\n",
              "    .colab-df-container {\n",
              "      display:flex;\n",
              "      flex-wrap:wrap;\n",
              "      gap: 12px;\n",
              "    }\n",
              "\n",
              "    .colab-df-convert {\n",
              "      background-color: #E8F0FE;\n",
              "      border: none;\n",
              "      border-radius: 50%;\n",
              "      cursor: pointer;\n",
              "      display: none;\n",
              "      fill: #1967D2;\n",
              "      height: 32px;\n",
              "      padding: 0 0 0 0;\n",
              "      width: 32px;\n",
              "    }\n",
              "\n",
              "    .colab-df-convert:hover {\n",
              "      background-color: #E2EBFA;\n",
              "      box-shadow: 0px 1px 2px rgba(60, 64, 67, 0.3), 0px 1px 3px 1px rgba(60, 64, 67, 0.15);\n",
              "      fill: #174EA6;\n",
              "    }\n",
              "\n",
              "    [theme=dark] .colab-df-convert {\n",
              "      background-color: #3B4455;\n",
              "      fill: #D2E3FC;\n",
              "    }\n",
              "\n",
              "    [theme=dark] .colab-df-convert:hover {\n",
              "      background-color: #434B5C;\n",
              "      box-shadow: 0px 1px 3px 1px rgba(0, 0, 0, 0.15);\n",
              "      filter: drop-shadow(0px 1px 2px rgba(0, 0, 0, 0.3));\n",
              "      fill: #FFFFFF;\n",
              "    }\n",
              "  </style>\n",
              "\n",
              "      <script>\n",
              "        const buttonEl =\n",
              "          document.querySelector('#df-a12edb16-21ab-4359-b6c7-29df2b17a2ca button.colab-df-convert');\n",
              "        buttonEl.style.display =\n",
              "          google.colab.kernel.accessAllowed ? 'block' : 'none';\n",
              "\n",
              "        async function convertToInteractive(key) {\n",
              "          const element = document.querySelector('#df-a12edb16-21ab-4359-b6c7-29df2b17a2ca');\n",
              "          const dataTable =\n",
              "            await google.colab.kernel.invokeFunction('convertToInteractive',\n",
              "                                                     [key], {});\n",
              "          if (!dataTable) return;\n",
              "\n",
              "          const docLinkHtml = 'Like what you see? Visit the ' +\n",
              "            '<a target=\"_blank\" href=https://colab.research.google.com/notebooks/data_table.ipynb>data table notebook</a>'\n",
              "            + ' to learn more about interactive tables.';\n",
              "          element.innerHTML = '';\n",
              "          dataTable['output_type'] = 'display_data';\n",
              "          await google.colab.output.renderOutput(dataTable, element);\n",
              "          const docLink = document.createElement('div');\n",
              "          docLink.innerHTML = docLinkHtml;\n",
              "          element.appendChild(docLink);\n",
              "        }\n",
              "      </script>\n",
              "    </div>\n",
              "  </div>\n",
              "  "
            ]
          },
          "metadata": {},
          "execution_count": 12
        }
      ]
    },
    {
      "cell_type": "markdown",
      "metadata": {
        "id": "0Ursrji1KgLk"
      },
      "source": [
        "## Visualisations\n",
        "You can predict the Max temperature from any value of Sunhour. Your prediction is now stored in a column, you can now visualize it. \n",
        "\n",
        "It's to you now :\n",
        "Create on the same scatterplot chart :\n",
        "- X-axis : Sunhours\n",
        "- Y-axis : MAX temperatures in blue dots and 'predict' in red dots.\n",
        "\n",
        "## Visualisations\n",
        "Vous pouvez prédire la température maximale à partir de n'importe quelle valeur de Sunhour. Votre prédiction est maintenant stockée dans une colonne, vous pouvez maintenant la visualiser. \n",
        "\n",
        "C'est à vous maintenant :\n",
        "Créez sur le même graphique de nuage de points :\n",
        "- Axe X : Heures de soleil\n",
        "- Axe des Y : Températures MAX en points bleus et 'predict' en points rouges."
      ]
    },
    {
      "cell_type": "code",
      "metadata": {
        "id": "ZgbZRRwmI93Q",
        "colab": {
          "base_uri": "https://localhost:8080/",
          "height": 296
        },
        "outputId": "26713fa7-c9f1-42b5-ba6f-ed5581645d05"
      },
      "source": [
        "# Your code here :\n",
        "\n",
        "# Votre code ici :\n",
        "# Dessinons maintenant les graphiques.\n",
        "\n",
        "# VISUALISATION :Regréssion linéaire:\n",
        "# Exemple: avec un DF \"df_weather\" avec ajout de la colonne des variables \"VAL-S_PEDICT_SUNHOUR\"\n",
        "# Créez sur le même graphique de nuage de points (scatterplot chart) :\n",
        "\n",
        "#Axe X : Heures de soleil\n",
        "#Axe des Y : Températures MAX en points bleus et 'predict' en points rouges.\n",
        "\n",
        "sns.scatterplot(x = \"SUNHOUR\", y = 'MAX_TEMPERATURE_C', color='blue', data = df_weather)\n",
        "sns.scatterplot(x = \"SUNHOUR\", y = 'VAL-S_PEDICT_SUNHOUR', color='red', data = df_weather)\n"
      ],
      "execution_count": null,
      "outputs": [
        {
          "output_type": "execute_result",
          "data": {
            "text/plain": [
              "<matplotlib.axes._subplots.AxesSubplot at 0x7f01983d05e0>"
            ]
          },
          "metadata": {},
          "execution_count": 13
        },
        {
          "output_type": "display_data",
          "data": {
            "text/plain": [
              "<Figure size 432x288 with 1 Axes>"
            ],
            "image/png": "[encoded data removed]"
          },
          "metadata": {
            "needs_background": "light"
          }
        }
      ]
    },
    {
      "cell_type": "markdown",
      "metadata": {
        "id": "T1rmKjRPLVVq"
      },
      "source": [
        "Your prediction is stored in a DataFrame. **So, you can visualize your prediction without the \"source\" column.** Let's try it.\n",
        "Create on the same scatterplot chart :\n",
        "- X-axis : DATE\n",
        "- Y-axis : MAX temperatures in blue dots and 'predict' in red dots.\n",
        "\n",
        "\n",
        "Votre prédiction est stockée dans un DataFrame. **Vous pouvez donc visualiser votre prédiction sans la colonne \"source\".** Essayons.\n",
        "Créez sur le même graphique de nuage de points :\n",
        "- Axe des X : DATE\n",
        "- Axe des Y : Températures MAX en points bleus et 'predict' en points rouges."
      ]
    },
    {
      "cell_type": "code",
      "metadata": {
        "id": "87LCCYitLYZ7",
        "colab": {
          "base_uri": "https://localhost:8080/",
          "height": 279
        },
        "outputId": "103e20e0-2a41-4f80-bf3b-455abb67f19d"
      },
      "source": [
        "# Your code here :\n",
        "\n",
        "# votre code ici :\n",
        "\n",
        "import matplotlib.dates as mdates\n",
        "\n",
        "df_weather['DATE'] = pd.to_datetime(df_weather['DATE'])\n",
        "\n",
        "plt.scatter(df_weather['DATE'], df_weather['MAX_TEMPERATURE_C'], color='blue')\n",
        "plt.scatter(df_weather['DATE'], df_weather['VAL-S_PEDICT_SUNHOUR'], color='red')\n",
        "plt.xlabel(\"DATE\")\n",
        "\n",
        "plt.gca().xaxis.set_major_locator(mdates.MonthLocator(interval=2))\n",
        "\n",
        "lgd = plt.legend;\n",
        "lgd({'Max'})\n",
        "plt.show()"
      ],
      "execution_count": null,
      "outputs": [
        {
          "output_type": "display_data",
          "data": {
            "text/plain": [
              "<Figure size 432x288 with 1 Axes>"
            ],
            "image/png": "[encoded data removed]"
          },
          "metadata": {
            "needs_background": "light"
          }
        }
      ]
    },
    {
      "cell_type": "markdown",
      "metadata": {
        "id": "uDopKt23LbYF"
      },
      "source": [
        "Hey, but it doesn't seem linear ! And yet it is...\n",
        "\n",
        "Hé, mais ça ne semble pas linéaire ! Et pourtant ça l'est..."
      ]
    },
    {
      "cell_type": "markdown",
      "metadata": {
        "id": "UcNA1qwJLlyU"
      },
      "source": [
        "# Predictions on a more correlated column\n",
        "Do the same steps to obtain a new colum \"predict2\". Your goal is to predict \"MAX temperature\" from the \"MIN temperature\" column.\n",
        "\n",
        "# Prédictions sur une colonne plus corrélée\n",
        "Effectuez les mêmes étapes pour obtenir une nouvelle colonne \"predict2\". Votre objectif est de prédire la \"température MAX\" à partir de la colonne \"température MIN\"."
      ]
    },
    {
      "cell_type": "code",
      "metadata": {
        "id": "NlrSXUswL4Lq"
      },
      "source": [
        "# Votre code ici :\n",
        "# Tout d'abord, il faut définir 2 séries :\n",
        "# Axe des X : la colonne corrélée, ici c'est Sunhours.\n",
        "X = df_weather[['MIN_TEMPERATURE_C']] \n",
        "\n",
        "# Axe des Y : la colonne à prédire, donc MAX Température ici\n",
        "y = df_weather['MAX_TEMPERATURE_C'] \n",
        "\n",
        "# Hey, pourquoi \"X\" est en majuscule et \"y\" en minuscule ? C'est un bon point, nous verrons cela dans la prochaine quête. Maintenant, il suffit d'utiliser ceci.\n",
        "\n",
        "# Pour entraîner un modèle d'apprentissage automatique (ici, il va trouver l'équation de la régression linéaire), il suffit de lancer la méthode \".fit\".\n",
        "modelLR2 = LinearRegression().fit(X, y)\n"
      ],
      "execution_count": null,
      "outputs": []
    },
    {
      "cell_type": "code",
      "source": [
        "df_weather['predict2'] = modelLR.predict(df_weather[['MIN_TEMPERATURE_C']])"
      ],
      "metadata": {
        "colab": {
          "base_uri": "https://localhost:8080/"
        },
        "id": "I4WIxK5u5hAQ",
        "outputId": "92fe0e37-b888-409b-9487-ab91cf148c3d"
      },
      "execution_count": null,
      "outputs": [
        {
          "output_type": "stream",
          "name": "stderr",
          "text": [
            "/usr/local/lib/python3.8/dist-packages/sklearn/base.py:493: FutureWarning: The feature names should match those that were passed during fit. Starting version 1.2, an error will be raised.\n",
            "Feature names unseen at fit time:\n",
            "- MIN_TEMPERATURE_C\n",
            "Feature names seen at fit time, yet now missing:\n",
            "- SUNHOUR\n",
            "\n",
            "  warnings.warn(message, FutureWarning)\n"
          ]
        }
      ]
    },
    {
      "cell_type": "code",
      "source": [
        "df_weather\n"
      ],
      "metadata": {
        "colab": {
          "base_uri": "https://localhost:8080/",
          "height": 423
        },
        "id": "cGuQt6eX5vKl",
        "outputId": "dc6b4bd9-5df6-4b4f-c63d-ee738a6dcc98"
      },
      "execution_count": null,
      "outputs": [
        {
          "output_type": "execute_result",
          "data": {
            "text/plain": [
              "          DATE  MAX_TEMPERATURE_C  MIN_TEMPERATURE_C  SUNHOUR  \\\n",
              "0   2019-01-01                  9                  4      5.1   \n",
              "1   2019-01-02                  8                  5      8.7   \n",
              "2   2019-01-03                  6                  0      8.7   \n",
              "3   2019-01-04                  5                 -1      5.1   \n",
              "4   2019-01-05                  6                 -1      8.7   \n",
              "..         ...                ...                ...      ...   \n",
              "360 2019-12-27                 13                 10      8.7   \n",
              "361 2019-12-28                 11                  5      6.9   \n",
              "362 2019-12-29                  9                  2      8.7   \n",
              "363 2019-12-30                 12                  4      8.7   \n",
              "364 2019-12-31                 10                  4      8.7   \n",
              "\n",
              "     VAL-S_PEDICT_SUNHOUR   predict2  \n",
              "0               11.396823   9.984180  \n",
              "1               16.020019  11.268401  \n",
              "2               16.020019   4.847295  \n",
              "3               11.396823   3.563074  \n",
              "4               16.020019   3.563074  \n",
              "..                    ...        ...  \n",
              "360             16.020019  17.689507  \n",
              "361             13.708421  11.268401  \n",
              "362             16.020019   7.415738  \n",
              "363             16.020019   9.984180  \n",
              "364             16.020019   9.984180  \n",
              "\n",
              "[365 rows x 6 columns]"
            ],
            "text/html": [
              "\n",
              "  <div id=\"df-59bdb326-ed4c-48d5-b17d-529a76a1aa66\">\n",
              "    <div class=\"colab-df-container\">\n",
              "      <div>\n",
              "<style scoped>\n",
              "    .dataframe tbody tr th:only-of-type {\n",
              "        vertical-align: middle;\n",
              "    }\n",
              "\n",
              "    .dataframe tbody tr th {\n",
              "        vertical-align: top;\n",
              "    }\n",
              "\n",
              "    .dataframe thead th {\n",
              "        text-align: right;\n",
              "    }\n",
              "</style>\n",
              "<table border=\"1\" class=\"dataframe\">\n",
              "  <thead>\n",
              "    <tr style=\"text-align: right;\">\n",
              "      <th></th>\n",
              "      <th>DATE</th>\n",
              "      <th>MAX_TEMPERATURE_C</th>\n",
              "      <th>MIN_TEMPERATURE_C</th>\n",
              "      <th>SUNHOUR</th>\n",
              "      <th>VAL-S_PEDICT_SUNHOUR</th>\n",
              "      <th>predict2</th>\n",
              "    </tr>\n",
              "  </thead>\n",
              "  <tbody>\n",
              "    <tr>\n",
              "      <th>0</th>\n",
              "      <td>2019-01-01</td>\n",
              "      <td>9</td>\n",
              "      <td>4</td>\n",
              "      <td>5.1</td>\n",
              "      <td>11.396823</td>\n",
              "      <td>9.984180</td>\n",
              "    </tr>\n",
              "    <tr>\n",
              "      <th>1</th>\n",
              "      <td>2019-01-02</td>\n",
              "      <td>8</td>\n",
              "      <td>5</td>\n",
              "      <td>8.7</td>\n",
              "      <td>16.020019</td>\n",
              "      <td>11.268401</td>\n",
              "    </tr>\n",
              "    <tr>\n",
              "      <th>2</th>\n",
              "      <td>2019-01-03</td>\n",
              "      <td>6</td>\n",
              "      <td>0</td>\n",
              "      <td>8.7</td>\n",
              "      <td>16.020019</td>\n",
              "      <td>4.847295</td>\n",
              "    </tr>\n",
              "    <tr>\n",
              "      <th>3</th>\n",
              "      <td>2019-01-04</td>\n",
              "      <td>5</td>\n",
              "      <td>-1</td>\n",
              "      <td>5.1</td>\n",
              "      <td>11.396823</td>\n",
              "      <td>3.563074</td>\n",
              "    </tr>\n",
              "    <tr>\n",
              "      <th>4</th>\n",
              "      <td>2019-01-05</td>\n",
              "      <td>6</td>\n",
              "      <td>-1</td>\n",
              "      <td>8.7</td>\n",
              "      <td>16.020019</td>\n",
              "      <td>3.563074</td>\n",
              "    </tr>\n",
              "    <tr>\n",
              "      <th>...</th>\n",
              "      <td>...</td>\n",
              "      <td>...</td>\n",
              "      <td>...</td>\n",
              "      <td>...</td>\n",
              "      <td>...</td>\n",
              "      <td>...</td>\n",
              "    </tr>\n",
              "    <tr>\n",
              "      <th>360</th>\n",
              "      <td>2019-12-27</td>\n",
              "      <td>13</td>\n",
              "      <td>10</td>\n",
              "      <td>8.7</td>\n",
              "      <td>16.020019</td>\n",
              "      <td>17.689507</td>\n",
              "    </tr>\n",
              "    <tr>\n",
              "      <th>361</th>\n",
              "      <td>2019-12-28</td>\n",
              "      <td>11</td>\n",
              "      <td>5</td>\n",
              "      <td>6.9</td>\n",
              "      <td>13.708421</td>\n",
              "      <td>11.268401</td>\n",
              "    </tr>\n",
              "    <tr>\n",
              "      <th>362</th>\n",
              "      <td>2019-12-29</td>\n",
              "      <td>9</td>\n",
              "      <td>2</td>\n",
              "      <td>8.7</td>\n",
              "      <td>16.020019</td>\n",
              "      <td>7.415738</td>\n",
              "    </tr>\n",
              "    <tr>\n",
              "      <th>363</th>\n",
              "      <td>2019-12-30</td>\n",
              "      <td>12</td>\n",
              "      <td>4</td>\n",
              "      <td>8.7</td>\n",
              "      <td>16.020019</td>\n",
              "      <td>9.984180</td>\n",
              "    </tr>\n",
              "    <tr>\n",
              "      <th>364</th>\n",
              "      <td>2019-12-31</td>\n",
              "      <td>10</td>\n",
              "      <td>4</td>\n",
              "      <td>8.7</td>\n",
              "      <td>16.020019</td>\n",
              "      <td>9.984180</td>\n",
              "    </tr>\n",
              "  </tbody>\n",
              "</table>\n",
              "<p>365 rows × 6 columns</p>\n",
              "</div>\n",
              "      <button class=\"colab-df-convert\" onclick=\"convertToInteractive('df-59bdb326-ed4c-48d5-b17d-529a76a1aa66')\"\n",
              "              title=\"Convert this dataframe to an interactive table.\"\n",
              "              style=\"display:none;\">\n",
              "        \n",
              "  <svg xmlns=\"http://www.w3.org/2000/svg\" height=\"24px\"viewBox=\"0 0 24 24\"\n",
              "       width=\"24px\">\n",
              "    <path d=\"M0 0h24v24H0V0z\" fill=\"none\"/>\n",
              "    <path d=\"M18.56 5.44l.94 2.06.94-2.06 2.06-.94-2.06-.94-.94-2.06-.94 2.06-2.06.94zm-11 1L8.5 8.5l.94-2.06 2.06-.94-2.06-.94L8.5 2.5l-.94 2.06-2.06.94zm10 10l.94 2.06.94-2.06 2.06-.94-2.06-.94-.94-2.06-.94 2.06-2.06.94z\"/><path d=\"M17.41 7.96l-1.37-1.37c-.4-.4-.92-.59-1.43-.59-.52 0-1.04.2-1.43.59L10.3 9.45l-7.72 7.72c-.78.78-.78 2.05 0 2.83L4 21.41c.39.39.9.59 1.41.59.51 0 1.02-.2 1.41-.59l7.78-7.78 2.81-2.81c.8-.78.8-2.07 0-2.86zM5.41 20L4 18.59l7.72-7.72 1.47 1.35L5.41 20z\"/>\n",
              "  </svg>\n",
              "      </button>\n",
              "      \n",
              "  <style>\n",
              "    .colab-df-container {\n",
              "      display:flex;\n",
              "      flex-wrap:wrap;\n",
              "      gap: 12px;\n",
              "    }\n",
              "\n",
              "    .colab-df-convert {\n",
              "      background-color: #E8F0FE;\n",
              "      border: none;\n",
              "      border-radius: 50%;\n",
              "      cursor: pointer;\n",
              "      display: none;\n",
              "      fill: #1967D2;\n",
              "      height: 32px;\n",
              "      padding: 0 0 0 0;\n",
              "      width: 32px;\n",
              "    }\n",
              "\n",
              "    .colab-df-convert:hover {\n",
              "      background-color: #E2EBFA;\n",
              "      box-shadow: 0px 1px 2px rgba(60, 64, 67, 0.3), 0px 1px 3px 1px rgba(60, 64, 67, 0.15);\n",
              "      fill: #174EA6;\n",
              "    }\n",
              "\n",
              "    [theme=dark] .colab-df-convert {\n",
              "      background-color: #3B4455;\n",
              "      fill: #D2E3FC;\n",
              "    }\n",
              "\n",
              "    [theme=dark] .colab-df-convert:hover {\n",
              "      background-color: #434B5C;\n",
              "      box-shadow: 0px 1px 3px 1px rgba(0, 0, 0, 0.15);\n",
              "      filter: drop-shadow(0px 1px 2px rgba(0, 0, 0, 0.3));\n",
              "      fill: #FFFFFF;\n",
              "    }\n",
              "  </style>\n",
              "\n",
              "      <script>\n",
              "        const buttonEl =\n",
              "          document.querySelector('#df-59bdb326-ed4c-48d5-b17d-529a76a1aa66 button.colab-df-convert');\n",
              "        buttonEl.style.display =\n",
              "          google.colab.kernel.accessAllowed ? 'block' : 'none';\n",
              "\n",
              "        async function convertToInteractive(key) {\n",
              "          const element = document.querySelector('#df-59bdb326-ed4c-48d5-b17d-529a76a1aa66');\n",
              "          const dataTable =\n",
              "            await google.colab.kernel.invokeFunction('convertToInteractive',\n",
              "                                                     [key], {});\n",
              "          if (!dataTable) return;\n",
              "\n",
              "          const docLinkHtml = 'Like what you see? Visit the ' +\n",
              "            '<a target=\"_blank\" href=https://colab.research.google.com/notebooks/data_table.ipynb>data table notebook</a>'\n",
              "            + ' to learn more about interactive tables.';\n",
              "          element.innerHTML = '';\n",
              "          dataTable['output_type'] = 'display_data';\n",
              "          await google.colab.output.renderOutput(dataTable, element);\n",
              "          const docLink = document.createElement('div');\n",
              "          docLink.innerHTML = docLinkHtml;\n",
              "          element.appendChild(docLink);\n",
              "        }\n",
              "      </script>\n",
              "    </div>\n",
              "  </div>\n",
              "  "
            ]
          },
          "metadata": {},
          "execution_count": 20
        }
      ]
    },
    {
      "cell_type": "markdown",
      "metadata": {
        "id": "faAHUMseL3vY"
      },
      "source": [
        "## Scatterplot 1\n",
        "- X-axis : MIN temperature\n",
        "- Y-axis : MAX temperatures in blue dots and 'predict2' in red dots.\n",
        "\n",
        "## Diagramme de dispersion 1\n",
        "- Axe des X : Température MIN\n",
        "- Axe des Y : Températures MAX en points bleus et 'predict2' en points rouges."
      ]
    },
    {
      "cell_type": "code",
      "metadata": {
        "id": "KfQkWH_YMK9D",
        "colab": {
          "base_uri": "https://localhost:8080/",
          "height": 280
        },
        "outputId": "178e8e68-7d20-4858-c966-77c8b02a6dcb"
      },
      "source": [
        "#Your code here :\n",
        "\n",
        "# votre code ici :\n",
        "plt.scatter(df_weather['MIN_TEMPERATURE_C'], df_weather['MAX_TEMPERATURE_C'], color='blue')\n",
        "plt.scatter(df_weather['MIN_TEMPERATURE_C'], df_weather['predict2'], color='red')\n",
        "plt.xlabel(\"MIN_TEMPERATURE_C\")\n",
        "plt.show()"
      ],
      "execution_count": null,
      "outputs": [
        {
          "output_type": "display_data",
          "data": {
            "text/plain": [
              "<Figure size 432x288 with 1 Axes>"
            ],
            "image/png": "[encoded data removed]"
          },
          "metadata": {
            "needs_background": "light"
          }
        }
      ]
    },
    {
      "cell_type": "markdown",
      "metadata": {
        "id": "A8P6S3RTMMo-"
      },
      "source": [
        "## Scatterplot 2\n",
        "- X-axis : DATE\n",
        "- Y-axis : MAX temperatures in blue dots and 'predict2' in red dots.\n",
        "\n",
        "### Nuage de points 2\n",
        "Axe des X : DATE\n",
        "Axe des Y : Températures MAX en points bleus et 'predict2' en points rouges."
      ]
    },
    {
      "cell_type": "code",
      "metadata": {
        "id": "U4HAg2nvMRZE",
        "colab": {
          "base_uri": "https://localhost:8080/",
          "height": 279
        },
        "outputId": "572b852b-ede7-4c64-a1a6-3fae7ed9c20f"
      },
      "source": [
        "\n",
        "# Your code here :\n",
        "# votre code ici :\n",
        "\n",
        "plt.scatter(df_weather['DATE'], df_weather['MAX_TEMPERATURE_C'], color='blue')\n",
        "plt.scatter(df_weather['DATE'], df_weather['predict2'], color='red')\n",
        "plt.xlabel(\"DATE\")\n",
        "plt.gca().xaxis.set_major_locator(mdates.MonthLocator(interval=2))\n",
        "lgd = plt.legend;\n",
        "lgd({'Max'})\n",
        "plt.show()"
      ],
      "execution_count": null,
      "outputs": [
        {
          "output_type": "display_data",
          "data": {
            "text/plain": [
              "<Figure size 432x288 with 1 Axes>"
            ],
            "image/png": "[encoded data removed]"
          },
          "metadata": {
            "needs_background": "light"
          }
        }
      ]
    }
  ]
}