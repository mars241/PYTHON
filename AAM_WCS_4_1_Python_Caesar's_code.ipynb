{
  "nbformat": 4,
  "nbformat_minor": 0,
  "metadata": {
    "colab": {
      "provenance": [],
      "authorship_tag": "ABX9TyO+FcoYkrRxZ95qA4ULuP/n",
      "include_colab_link": true
    },
    "kernelspec": {
      "name": "python3",
      "display_name": "Python 3"
    },
    "language_info": {
      "name": "python"
    }
  },
  "cells": [
    {
      "cell_type": "markdown",
      "metadata": {
        "id": "view-in-github",
        "colab_type": "text"
      },
      "source": [
        "<a href=\"https://colab.research.google.com/github/mars241/PYTHON/blob/main/AAM_WCS_4_1_Python_Caesar's_code.ipynb\" target=\"_parent\"><img src=\"https://colab.research.google.com/assets/colab-badge.svg\" alt=\"Open In Colab\"/></a>"
      ]
    },
    {
      "cell_type": "markdown",
      "source": [
        "# Challenge : 4.1 Python - Caesar's code\n",
        "Déchiffre un message\n",
        "Dans ce challenge tu vas devoir déchiffrer un message. Dans la phrase à modifier ci-dessous, les lettres normales ont été remplacées par la 7ème lettre précédente (h remplacé par a, i par b etc).\n",
        "\n",
        "Initialise un notebook sur Google Colab appelé : Avé [Prenom Nom]. Dans le notebook, crée une fonction qui prend en paramètre un message sous forme de liste ou de chaine de caractère, et affiche le message correctement (décrypté). Voici le message à décrypter : mlspjpahapvuz, jlzhy zlyhpa mply kl avp, zp zlbsltlua ps jvuuhpzzhpa wfaovu.\n",
        "\n",
        "Une fois réalisé, poste le lien vers ton notebook en commentaire pour validation, sans oublier de le rendre accessible en lecture pour toute personne disposant du lien.\n",
        "\n",
        "Critères de validation\n",
        "Le notebook est accessible en lecture pour toutes personnes disposant du lien\n",
        "Une fonction a été définie et prend en paramètre une liste ou une chaine de caractère\n",
        "La fonction décrypte correctement le message"
      ],
      "metadata": {
        "id": "98DFuivkUJXk"
      }
    },
    {
      "cell_type": "code",
      "execution_count": 1,
      "metadata": {
        "colab": {
          "base_uri": "https://localhost:8080/"
        },
        "id": "JSATUnPZTgEC",
        "outputId": "a327c39f-6d4e-4818-96ce-5dfa171b84b7"
      },
      "outputs": [
        {
          "output_type": "stream",
          "name": "stdout",
          "text": [
            "mlspjpahapvuz, jlzhy zlyhpa mply kl avp, zp zlbsltlua ps jvuuhpzzhpa wfaovu\n",
            "f e l i c i t a t i o n s c e s a r s e r a i t f i e r d e t o i s i s e u l e m e n t i l c o n n a i s s a i t p y t h o n\n"
          ]
        }
      ],
      "source": [
        "def decripte_msg(phrase):\n",
        "  sortie = []\n",
        "  cryptText = []\n",
        "\n",
        "  list_alphabet = [\"a\", \"b\", \"c\", \"d\", \"e\", \"f\", \"g\", \"h\", \"i\", \"j\", \"k\", \"l\", \"m\", \"n\", \"o\", \"p\", \"q\", \"r\", \"s\", \"t\", \"u\", \"v\", \"w\", \"x\", \"y\", \"z\"]\n",
        "\n",
        "  for lettre in phrase:\n",
        "    if lettre in list_alphabet:\n",
        "      index = list_alphabet.index(lettre)\n",
        "      nombre = (index - 7)\n",
        "      cryptText.append(nombre)\n",
        "      nouvelleLettre = list_alphabet[nombre]\n",
        "      sortie.append(nouvelleLettre)\n",
        "  print(*sortie)\n",
        "\n",
        "decripte_msg((input()))"
      ]
    }
  ]
}